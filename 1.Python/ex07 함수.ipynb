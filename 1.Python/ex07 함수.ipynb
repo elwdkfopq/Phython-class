{
 "cells": [
  {
   "cell_type": "markdown",
   "id": "018e18ca",
   "metadata": {},
   "source": [
    "### 함수\n",
    "- 지정된 코드에 이름을 붙여 관리하는 방법\n",
    "- 코드의 간결함을 높여주고 재사용성을 높여준다\n",
    "- python은 OOP도 지원하기 때문에 메소드 개념도 동시에 존재한다."
   ]
  },
  {
   "cell_type": "code",
   "execution_count": 2,
   "id": "2723cb22",
   "metadata": {},
   "outputs": [],
   "source": [
    "# 함수정의\n",
    "def number_sum(n1,n2):\n",
    "    result=n1+n2\n",
    "    return result"
   ]
  },
  {
   "cell_type": "code",
   "execution_count": 3,
   "id": "e166b9c7",
   "metadata": {},
   "outputs": [
    {
     "data": {
      "text/plain": [
       "12"
      ]
     },
     "execution_count": 3,
     "metadata": {},
     "output_type": "execute_result"
    }
   ],
   "source": [
    "# 함수 호출\n",
    "number_sum(2,10)"
   ]
  },
  {
   "cell_type": "markdown",
   "id": "451f6a1b",
   "metadata": {},
   "source": [
    "#### 1번문제"
   ]
  },
  {
   "cell_type": "code",
   "execution_count": 6,
   "id": "5aad8171",
   "metadata": {},
   "outputs": [
    {
     "name": "stdout",
     "output_type": "stream",
     "text": [
      "첫번째 정수 입력>>10\n",
      "두번째 정수 입력>>4\n",
      "6\n"
     ]
    }
   ],
   "source": [
    "num1 = int(input(\"첫번째 정수 입력>>\"))\n",
    "num2 = int(input(\"두번째 정수 입력>>\"))\n",
    "def number_sub(n1,n2):\n",
    "    return num1-num2\n",
    "result=number_sub(num1,num2)\n",
    "print(result)"
   ]
  },
  {
   "cell_type": "markdown",
   "id": "671506f2",
   "metadata": {},
   "source": [
    "#### 2번문제"
   ]
  },
  {
   "cell_type": "code",
   "execution_count": 17,
   "id": "d5a1c07c",
   "metadata": {},
   "outputs": [],
   "source": [
    "def divisor(num):\n",
    "    for i in range(1,num+1,1):\n",
    "        if num%i==0:\n",
    "            print(i,end=\" \")"
   ]
  },
  {
   "cell_type": "code",
   "execution_count": 18,
   "id": "33600c02",
   "metadata": {},
   "outputs": [
    {
     "name": "stdout",
     "output_type": "stream",
     "text": [
      "정수를 입력하세요10\n",
      "1 2 5 10 "
     ]
    }
   ],
   "source": [
    "num1=int(input(\"정수를 입력하세요\"))\n",
    "divisor(num1)"
   ]
  },
  {
   "cell_type": "markdown",
   "id": "46ad6f1e",
   "metadata": {},
   "source": [
    "#### 파이썬함수 특징"
   ]
  },
  {
   "cell_type": "code",
   "execution_count": 19,
   "id": "28d71634",
   "metadata": {},
   "outputs": [
    {
     "name": "stdout",
     "output_type": "stream",
     "text": [
      "10\n"
     ]
    }
   ],
   "source": [
    "# 함수에서 선언된 변수는 지역변수다\n",
    "a = 10 # 전역변수 선언\n",
    "def test():\n",
    "    a=1 # 지역변수로 인식\n",
    "test()\n",
    "print(a)"
   ]
  },
  {
   "cell_type": "code",
   "execution_count": 21,
   "id": "e929c621",
   "metadata": {},
   "outputs": [
    {
     "name": "stdout",
     "output_type": "stream",
     "text": [
      "1\n"
     ]
    }
   ],
   "source": [
    "# global 키워드를 이용해 전역변수로 인식시키자\n",
    "a = 10 # 전역변수 선언\n",
    "def test():\n",
    "    global a\n",
    "    a=1\n",
    "test()\n",
    "print(a)"
   ]
  },
  {
   "cell_type": "markdown",
   "id": "bb1501d6",
   "metadata": {},
   "source": [
    "##### 2. 매개변수에 기본값 설정\n",
    "-매개변수에 기본값을 설정하여 호출시 인자를 생략할 수 있다."
   ]
  },
  {
   "cell_type": "code",
   "execution_count": 27,
   "id": "fe1509e2",
   "metadata": {},
   "outputs": [],
   "source": [
    "def hello(name,age=10):\n",
    "    print(f\"{name},{age}님 안녕하세요\")"
   ]
  },
  {
   "cell_type": "code",
   "execution_count": 28,
   "id": "09d0443e",
   "metadata": {},
   "outputs": [
    {
     "name": "stdout",
     "output_type": "stream",
     "text": [
      "홍길동,10님 안녕하세요\n"
     ]
    }
   ],
   "source": [
    "hello('홍길동')"
   ]
  },
  {
   "cell_type": "markdown",
   "id": "d773dca6",
   "metadata": {},
   "source": [
    "##### 3. 리턴값을 여러개 줄 수 있다."
   ]
  },
  {
   "cell_type": "code",
   "execution_count": 31,
   "id": "dfd4793a",
   "metadata": {},
   "outputs": [],
   "source": [
    "def getData():\n",
    "    return 'A',10"
   ]
  },
  {
   "cell_type": "code",
   "execution_count": 33,
   "id": "9eb673a7",
   "metadata": {},
   "outputs": [
    {
     "name": "stdout",
     "output_type": "stream",
     "text": [
      "A\n"
     ]
    }
   ],
   "source": [
    "a,b= getData()\n",
    "print(a)\n",
    "print(b)"
   ]
  },
  {
   "cell_type": "markdown",
   "id": "48e3a332",
   "metadata": {},
   "source": [
    "##### 5. dogstring\n",
    "- 함수에대한 부가 설명을 작성하는 기능"
   ]
  },
  {
   "cell_type": "code",
   "execution_count": 36,
   "id": "759f4c78",
   "metadata": {},
   "outputs": [],
   "source": [
    "def cal(num1,num2,op):\n",
    "    \"\"\"덧셈과 뺄셈을 계산하는 함수\n",
    "        op: 연산자를 의미, 주로'+' 기호를 입력\n",
    "    \"\"\"\n",
    "    if op=='+':\n",
    "        return num1+ num2\n",
    "    else:\n",
    "        return num1-num2"
   ]
  },
  {
   "cell_type": "code",
   "execution_count": 37,
   "id": "e0fd8c74",
   "metadata": {},
   "outputs": [
    {
     "data": {
      "text/plain": [
       "15"
      ]
     },
     "execution_count": 37,
     "metadata": {},
     "output_type": "execute_result"
    }
   ],
   "source": [
    "cal(10,5,\"+\")"
   ]
  },
  {
   "cell_type": "markdown",
   "id": "322f8f01",
   "metadata": {},
   "source": [
    "##### 5. 가변인자\n",
    "-사용자가 입력인자를 정해진 길이 없이 넣고 싶은 경우"
   ]
  },
  {
   "cell_type": "code",
   "execution_count": 38,
   "id": "9745c71b",
   "metadata": {},
   "outputs": [],
   "source": [
    "def fun1(name,*score):\n",
    "    print(\"이름:\",name)\n",
    "    print(\"성적:\",score)"
   ]
  },
  {
   "cell_type": "code",
   "execution_count": null,
   "id": "4c794d3b",
   "metadata": {},
   "outputs": [],
   "source": [
    "fun1(\"황해도\",100,80,40,50)"
   ]
  },
  {
   "cell_type": "code",
   "execution_count": 39,
   "id": "bb35b49e",
   "metadata": {},
   "outputs": [],
   "source": [
    "def fun2(name, **score):\n",
    "    print(\"이름:\",name)\n",
    "    print(\"성적:\",score)"
   ]
  },
  {
   "cell_type": "code",
   "execution_count": 40,
   "id": "7f2f8d45",
   "metadata": {},
   "outputs": [
    {
     "name": "stdout",
     "output_type": "stream",
     "text": [
      "이름: 황해도\n",
      "성적: {'java': 100, 'python': 80, 'html': 40, 'css': 50}\n"
     ]
    }
   ],
   "source": [
    "fun2(\"황해도\",java=100,python=80,html=40,css=50)"
   ]
  },
  {
   "cell_type": "markdown",
   "id": "c9aef669",
   "metadata": {},
   "source": [
    "#### 4. 익명함수"
   ]
  },
  {
   "cell_type": "code",
   "execution_count": 41,
   "id": "cf67a298",
   "metadata": {},
   "outputs": [
    {
     "name": "stdout",
     "output_type": "stream",
     "text": [
      "15\n"
     ]
    }
   ],
   "source": [
    "# 일반적인 함수 정의\n",
    "def mul(x,y):\n",
    "    return x*y\n",
    "\n",
    "result = mul(3,5)\n",
    "print(result)"
   ]
  },
  {
   "cell_type": "code",
   "execution_count": 42,
   "id": "ce5c80d9",
   "metadata": {},
   "outputs": [
    {
     "data": {
      "text/plain": [
       "63"
      ]
     },
     "execution_count": 42,
     "metadata": {},
     "output_type": "execute_result"
    }
   ],
   "source": [
    "# 람다식을 이용한 함수 정의\n",
    "mul2 = lambda x,y:x*y\n",
    "mul2(9,7)"
   ]
  },
  {
   "cell_type": "markdown",
   "id": "42da8322",
   "metadata": {},
   "source": [
    "#### 5. 모듈과 패키지\n",
    "- 모듈: 관련된 변수, 함수, 클래스 등을 하나의 파일로 묶어놓은것\n",
    "- 패키지: 모듈을 여러개 묶은 것\n",
    "- 라이브러리: 패키지를 정리해서 만든 것"
   ]
  },
  {
   "cell_type": "code",
   "execution_count": 1,
   "id": "e41458e8",
   "metadata": {},
   "outputs": [],
   "source": [
    "import number"
   ]
  },
  {
   "cell_type": "code",
   "execution_count": 2,
   "id": "b247e98b",
   "metadata": {},
   "outputs": [
    {
     "data": {
      "text/plain": [
       "9"
      ]
     },
     "execution_count": 2,
     "metadata": {},
     "output_type": "execute_result"
    }
   ],
   "source": [
    "number.add(4,5)"
   ]
  },
  {
   "cell_type": "code",
   "execution_count": 2,
   "id": "82f48841",
   "metadata": {},
   "outputs": [],
   "source": [
    "from number import divisor as dv"
   ]
  },
  {
   "cell_type": "code",
   "execution_count": 3,
   "id": "ea4fd873",
   "metadata": {},
   "outputs": [
    {
     "name": "stdout",
     "output_type": "stream",
     "text": [
      "1/2/4/5/10/20/"
     ]
    }
   ],
   "source": [
    "dv(20, endstr=\"/\")"
   ]
  },
  {
   "cell_type": "code",
   "execution_count": null,
   "id": "4d91e7d8",
   "metadata": {},
   "outputs": [],
   "source": []
  },
  {
   "cell_type": "code",
   "execution_count": null,
   "id": "b90d4b10",
   "metadata": {},
   "outputs": [],
   "source": []
  },
  {
   "cell_type": "code",
   "execution_count": null,
   "id": "62e76e42",
   "metadata": {},
   "outputs": [],
   "source": []
  },
  {
   "cell_type": "code",
   "execution_count": null,
   "id": "65efb6a5",
   "metadata": {},
   "outputs": [],
   "source": []
  },
  {
   "cell_type": "code",
   "execution_count": null,
   "id": "c68b0fa3",
   "metadata": {},
   "outputs": [],
   "source": []
  },
  {
   "cell_type": "code",
   "execution_count": null,
   "id": "275872b7",
   "metadata": {},
   "outputs": [],
   "source": []
  },
  {
   "cell_type": "code",
   "execution_count": null,
   "id": "8c16734b",
   "metadata": {},
   "outputs": [],
   "source": []
  },
  {
   "cell_type": "code",
   "execution_count": null,
   "id": "2e2d2cea",
   "metadata": {},
   "outputs": [],
   "source": []
  },
  {
   "cell_type": "code",
   "execution_count": null,
   "id": "2cdf33f6",
   "metadata": {},
   "outputs": [],
   "source": []
  },
  {
   "cell_type": "code",
   "execution_count": null,
   "id": "3af3a7b0",
   "metadata": {},
   "outputs": [],
   "source": []
  },
  {
   "cell_type": "code",
   "execution_count": null,
   "id": "f3f3a049",
   "metadata": {},
   "outputs": [],
   "source": []
  },
  {
   "cell_type": "code",
   "execution_count": null,
   "id": "e29a439a",
   "metadata": {},
   "outputs": [],
   "source": []
  },
  {
   "cell_type": "code",
   "execution_count": null,
   "id": "fba61e6b",
   "metadata": {},
   "outputs": [],
   "source": []
  },
  {
   "cell_type": "code",
   "execution_count": null,
   "id": "826771bb",
   "metadata": {},
   "outputs": [],
   "source": []
  },
  {
   "cell_type": "code",
   "execution_count": null,
   "id": "6f5e36a4",
   "metadata": {},
   "outputs": [],
   "source": []
  },
  {
   "cell_type": "code",
   "execution_count": null,
   "id": "b1b2c354",
   "metadata": {},
   "outputs": [],
   "source": []
  },
  {
   "cell_type": "code",
   "execution_count": null,
   "id": "108d7041",
   "metadata": {},
   "outputs": [],
   "source": []
  },
  {
   "cell_type": "code",
   "execution_count": null,
   "id": "c2ae19a8",
   "metadata": {},
   "outputs": [],
   "source": []
  },
  {
   "cell_type": "code",
   "execution_count": null,
   "id": "cc313868",
   "metadata": {},
   "outputs": [],
   "source": []
  },
  {
   "cell_type": "code",
   "execution_count": null,
   "id": "2d6d5bf7",
   "metadata": {},
   "outputs": [],
   "source": []
  },
  {
   "cell_type": "code",
   "execution_count": null,
   "id": "240cf4e3",
   "metadata": {},
   "outputs": [],
   "source": []
  },
  {
   "cell_type": "code",
   "execution_count": null,
   "id": "a1654a25",
   "metadata": {},
   "outputs": [],
   "source": []
  },
  {
   "cell_type": "code",
   "execution_count": null,
   "id": "48b78806",
   "metadata": {},
   "outputs": [],
   "source": []
  },
  {
   "cell_type": "code",
   "execution_count": null,
   "id": "b4216614",
   "metadata": {},
   "outputs": [],
   "source": []
  },
  {
   "cell_type": "code",
   "execution_count": null,
   "id": "20f03923",
   "metadata": {},
   "outputs": [],
   "source": []
  },
  {
   "cell_type": "code",
   "execution_count": null,
   "id": "563c9063",
   "metadata": {},
   "outputs": [],
   "source": []
  },
  {
   "cell_type": "code",
   "execution_count": null,
   "id": "d9b94ce7",
   "metadata": {},
   "outputs": [],
   "source": []
  },
  {
   "cell_type": "code",
   "execution_count": null,
   "id": "fa059621",
   "metadata": {},
   "outputs": [],
   "source": []
  },
  {
   "cell_type": "code",
   "execution_count": null,
   "id": "9bd0dfa5",
   "metadata": {},
   "outputs": [],
   "source": []
  },
  {
   "cell_type": "code",
   "execution_count": null,
   "id": "f65665e6",
   "metadata": {},
   "outputs": [],
   "source": []
  },
  {
   "cell_type": "code",
   "execution_count": null,
   "id": "cc1f29d7",
   "metadata": {},
   "outputs": [],
   "source": []
  },
  {
   "cell_type": "code",
   "execution_count": null,
   "id": "80718d15",
   "metadata": {},
   "outputs": [],
   "source": []
  },
  {
   "cell_type": "code",
   "execution_count": null,
   "id": "03e661e1",
   "metadata": {},
   "outputs": [],
   "source": []
  },
  {
   "cell_type": "code",
   "execution_count": null,
   "id": "acb172b8",
   "metadata": {},
   "outputs": [],
   "source": []
  },
  {
   "cell_type": "code",
   "execution_count": null,
   "id": "b1204cde",
   "metadata": {},
   "outputs": [],
   "source": []
  },
  {
   "cell_type": "code",
   "execution_count": null,
   "id": "2bdb985d",
   "metadata": {},
   "outputs": [],
   "source": []
  },
  {
   "cell_type": "code",
   "execution_count": null,
   "id": "99aedcd0",
   "metadata": {},
   "outputs": [],
   "source": []
  },
  {
   "cell_type": "code",
   "execution_count": null,
   "id": "5798f39a",
   "metadata": {},
   "outputs": [],
   "source": []
  },
  {
   "cell_type": "code",
   "execution_count": null,
   "id": "4a72a338",
   "metadata": {},
   "outputs": [],
   "source": []
  },
  {
   "cell_type": "code",
   "execution_count": null,
   "id": "762edba4",
   "metadata": {},
   "outputs": [],
   "source": []
  },
  {
   "cell_type": "code",
   "execution_count": null,
   "id": "38d34f79",
   "metadata": {},
   "outputs": [],
   "source": []
  }
 ],
 "metadata": {
  "kernelspec": {
   "display_name": "Python 3 (ipykernel)",
   "language": "python",
   "name": "python3"
  },
  "language_info": {
   "codemirror_mode": {
    "name": "ipython",
    "version": 3
   },
   "file_extension": ".py",
   "mimetype": "text/x-python",
   "name": "python",
   "nbconvert_exporter": "python",
   "pygments_lexer": "ipython3",
   "version": "3.11.5"
  }
 },
 "nbformat": 4,
 "nbformat_minor": 5
}
