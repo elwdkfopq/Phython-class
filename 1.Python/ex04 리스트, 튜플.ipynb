{
 "cells": [
  {
   "cell_type": "markdown",
   "id": "5dabc1e6",
   "metadata": {},
   "source": [
    "### 1. 리스트(list)\n",
    "- 파이썬의 자료형 중 하나\n",
    "- 순서가 있는(인덱스가 존재) <b>수정 가능한 객체의 집합</b>\n",
    "- <b>대괄호 \"[]\"</b>로 작성 되어지며, 리스트의 내부의 요소들은 콤마 \",\"로 구분"
   ]
  },
  {
   "cell_type": "code",
   "execution_count": 1,
   "id": "3ae25d5a",
   "metadata": {
    "scrolled": true
   },
   "outputs": [
    {
     "data": {
      "text/plain": [
       "[2, 5, 7, 9, 10]"
      ]
     },
     "execution_count": 1,
     "metadata": {},
     "output_type": "execute_result"
    }
   ],
   "source": [
    "# 리스트 생성\n",
    "\n",
    "list1=[2,5,7,9,10]\n",
    "list1"
   ]
  },
  {
   "cell_type": "code",
   "execution_count": 2,
   "id": "9fa603f7",
   "metadata": {},
   "outputs": [],
   "source": [
    "a=[]\n",
    "b=[\"My name\",\"is\",\"BG\"]\n",
    "c=[1,2,\"My\",\"is\"]\n",
    "d=[1,2,[\"My\",\"is\"]]"
   ]
  },
  {
   "cell_type": "markdown",
   "id": "395f5d5c",
   "metadata": {},
   "source": [
    "### 1-1 리스트 인덱싱,슬라이싱\n",
    "- 인덱싱: 무엇(요소하나)인가를 가리키다\n",
    "- 슬라이싱: 무엇(요소들)인가를 잘라낸다"
   ]
  },
  {
   "cell_type": "code",
   "execution_count": 3,
   "id": "3f031a78",
   "metadata": {},
   "outputs": [
    {
     "data": {
      "text/plain": [
       "9"
      ]
     },
     "execution_count": 3,
     "metadata": {},
     "output_type": "execute_result"
    }
   ],
   "source": [
    "# 인덱싱\n",
    "list1[3]"
   ]
  },
  {
   "cell_type": "code",
   "execution_count": 4,
   "id": "f7c9040f",
   "metadata": {},
   "outputs": [],
   "source": [
    "list2=[1,2,3,[\"a\",\"b\",\"c\"]]"
   ]
  },
  {
   "cell_type": "code",
   "execution_count": 6,
   "id": "db84e5a4",
   "metadata": {
    "scrolled": true
   },
   "outputs": [
    {
     "data": {
      "text/plain": [
       "'b'"
      ]
     },
     "execution_count": 6,
     "metadata": {},
     "output_type": "execute_result"
    }
   ],
   "source": [
    "list2[3][1]"
   ]
  },
  {
   "cell_type": "code",
   "execution_count": 7,
   "id": "db7bd590",
   "metadata": {},
   "outputs": [
    {
     "data": {
      "text/plain": [
       "[0, 1, 2, 3, 4]"
      ]
     },
     "execution_count": 7,
     "metadata": {},
     "output_type": "execute_result"
    }
   ],
   "source": [
    "# 슬라이싱\n",
    "list3= [0,1,2,3,4]\n",
    "list3"
   ]
  },
  {
   "cell_type": "code",
   "execution_count": 8,
   "id": "c9b8331c",
   "metadata": {},
   "outputs": [
    {
     "data": {
      "text/plain": [
       "[1, 2]"
      ]
     },
     "execution_count": 8,
     "metadata": {},
     "output_type": "execute_result"
    }
   ],
   "source": [
    "list3[1:3]"
   ]
  },
  {
   "cell_type": "code",
   "execution_count": 9,
   "id": "10bb2439",
   "metadata": {},
   "outputs": [
    {
     "data": {
      "text/plain": [
       "[1, 2, 3, 4, 5, 6]"
      ]
     },
     "execution_count": 9,
     "metadata": {},
     "output_type": "execute_result"
    }
   ],
   "source": [
    "# 리스트 연산\n",
    "\n",
    "list4=[1,2,3]\n",
    "list5=[4,5,6]\n",
    "list4+list5"
   ]
  },
  {
   "cell_type": "code",
   "execution_count": 11,
   "id": "df724dbd",
   "metadata": {},
   "outputs": [
    {
     "data": {
      "text/plain": [
       "[1, 2, 3, 1, 2, 3, 1, 2, 3, 1, 2, 3, 1, 2, 3]"
      ]
     },
     "execution_count": 11,
     "metadata": {},
     "output_type": "execute_result"
    }
   ],
   "source": [
    "list4*5"
   ]
  },
  {
   "cell_type": "markdown",
   "id": "64c6647d",
   "metadata": {},
   "source": [
    "#### 리스트 요소 추가\n",
    "- append(값): 맨 뒤에 요소 추가(가장 많이 사용하게 될 추가 기능)\n",
    "- insert(인덱스, 값): 원하는 인덱스에 요소 추가"
   ]
  },
  {
   "cell_type": "code",
   "execution_count": 46,
   "id": "3f2a7290",
   "metadata": {},
   "outputs": [],
   "source": [
    "list6=[0,1,3,4,5]"
   ]
  },
  {
   "cell_type": "code",
   "execution_count": 48,
   "id": "562c4695",
   "metadata": {},
   "outputs": [
    {
     "data": {
      "text/plain": [
       "[0, 1, 3, 4, 5, 6, 6]"
      ]
     },
     "execution_count": 48,
     "metadata": {},
     "output_type": "execute_result"
    }
   ],
   "source": [
    "list6.append(6)\n",
    "list6"
   ]
  },
  {
   "cell_type": "code",
   "execution_count": 17,
   "id": "84ba5a93",
   "metadata": {},
   "outputs": [
    {
     "data": {
      "text/plain": [
       "[0, 1, 3, 10, 4, 5, 6]"
      ]
     },
     "execution_count": 17,
     "metadata": {},
     "output_type": "execute_result"
    }
   ],
   "source": [
    "list6.insert(3,10)\n",
    "list6"
   ]
  },
  {
   "cell_type": "markdown",
   "id": "22903567",
   "metadata": {},
   "source": [
    "#### 리스트 요소 수정\n",
    "- 지정(인덱싱 또는 슬라이싱)하고 대입!"
   ]
  },
  {
   "cell_type": "code",
   "execution_count": 50,
   "id": "fcbbccdf",
   "metadata": {},
   "outputs": [
    {
     "data": {
      "text/plain": [
       "[0, 1, 3, 3, 5, 6, 6]"
      ]
     },
     "execution_count": 50,
     "metadata": {},
     "output_type": "execute_result"
    }
   ],
   "source": [
    "list6[3]=3\n",
    "list6"
   ]
  },
  {
   "cell_type": "markdown",
   "id": "80a04e1c",
   "metadata": {},
   "source": [
    "#### 리스트 요소 삭제\n",
    "- del 지정: 해당 요소 삭제\n",
    "    - del 객체: 내부 요소를 삭제할 때 사용하는 객체\n",
    "- remove(값): 인덱스 순서대로 가장 첫번째 값을 가진 요소를 삭제"
   ]
  },
  {
   "cell_type": "code",
   "execution_count": 21,
   "id": "aec2e78a",
   "metadata": {},
   "outputs": [
    {
     "data": {
      "text/plain": [
       "[0, 1, 4, 5, 6]"
      ]
     },
     "execution_count": 21,
     "metadata": {},
     "output_type": "execute_result"
    }
   ],
   "source": [
    "list6.remove(3)\n",
    "list6"
   ]
  },
  {
   "cell_type": "code",
   "execution_count": 23,
   "id": "f3aafb1f",
   "metadata": {},
   "outputs": [
    {
     "data": {
      "text/plain": [
       "[0, 1, 4, 6]"
      ]
     },
     "execution_count": 23,
     "metadata": {},
     "output_type": "execute_result"
    }
   ],
   "source": [
    "del list6[3]\n",
    "list6"
   ]
  },
  {
   "cell_type": "code",
   "execution_count": 25,
   "id": "70dca2dc",
   "metadata": {},
   "outputs": [
    {
     "data": {
      "text/plain": [
       "[0, 1, 6]"
      ]
     },
     "execution_count": 25,
     "metadata": {},
     "output_type": "execute_result"
    }
   ],
   "source": [
    "del list6[2:3]\n",
    "list6"
   ]
  },
  {
   "cell_type": "markdown",
   "id": "3a33cae3",
   "metadata": {},
   "source": [
    "#### 리스트 정렬 및 길이확인\n",
    "- sort(): 오름차순 정렬\n",
    "- len(): 길이 확인"
   ]
  },
  {
   "cell_type": "code",
   "execution_count": 27,
   "id": "59e85c27",
   "metadata": {},
   "outputs": [],
   "source": [
    "list7=[9,77,13,51,3,100]"
   ]
  },
  {
   "cell_type": "code",
   "execution_count": 51,
   "id": "535740ba",
   "metadata": {},
   "outputs": [
    {
     "data": {
      "text/plain": [
       "[3, 9, 13, 51, 77, 100]"
      ]
     },
     "execution_count": 51,
     "metadata": {},
     "output_type": "execute_result"
    }
   ],
   "source": [
    "# reverse = False: 기본값으로 False, 오름차순 정렬\n",
    "# reverse + True: 내림차순으로 정렬\n",
    "list7.sort()\n",
    "list7"
   ]
  },
  {
   "cell_type": "code",
   "execution_count": 31,
   "id": "d148747f",
   "metadata": {},
   "outputs": [
    {
     "name": "stdout",
     "output_type": "stream",
     "text": [
      "가나다 라마바\n"
     ]
    }
   ],
   "source": [
    "print(\"가나다\",end=\" \")\n",
    "print(\"라마바\")"
   ]
  },
  {
   "cell_type": "code",
   "execution_count": 32,
   "id": "1c4bac9d",
   "metadata": {},
   "outputs": [
    {
     "data": {
      "text/plain": [
       "6"
      ]
     },
     "execution_count": 32,
     "metadata": {},
     "output_type": "execute_result"
    }
   ],
   "source": [
    "len(list7)"
   ]
  },
  {
   "cell_type": "markdown",
   "id": "a83be397",
   "metadata": {},
   "source": [
    "### 1. 튜플(tuple)\n",
    "- 파이썬의 자료형 중 하나\n",
    "- 순서가 있는(인덱스가 존재) <b>수정 불가능한 객체의 집합</b>\n",
    "- <b>대괄호 \"()\"</b>로 작성 되어지며, 튜플의 내부의 요소들은 콤마 \",\"로 구분"
   ]
  },
  {
   "cell_type": "code",
   "execution_count": 34,
   "id": "15a03890",
   "metadata": {},
   "outputs": [],
   "source": [
    "# 튜플 생성\n",
    "\n",
    "a=()\n",
    "b=(1,2,3)\n",
    "c=(\"My\",\"name\",\"is\",\"BG\")\n",
    "d=(1,2,\"My\",\"name\")\n",
    "e=(1,3,(\"is\",\"BG\"))\n",
    "f=(1,2,3,[\"a\",\"b\",\"c\"])"
   ]
  },
  {
   "cell_type": "code",
   "execution_count": 35,
   "id": "5d6f009d",
   "metadata": {},
   "outputs": [
    {
     "data": {
      "text/plain": [
       "'b'"
      ]
     },
     "execution_count": 35,
     "metadata": {},
     "output_type": "execute_result"
    }
   ],
   "source": [
    "# 튜플 인덱싱\n",
    "f[3][1]"
   ]
  },
  {
   "cell_type": "code",
   "execution_count": 36,
   "id": "8ecac3c7",
   "metadata": {},
   "outputs": [
    {
     "data": {
      "text/plain": [
       "4"
      ]
     },
     "execution_count": 36,
     "metadata": {},
     "output_type": "execute_result"
    }
   ],
   "source": [
    "#튜플 길이보기\n",
    "len(f)"
   ]
  },
  {
   "cell_type": "code",
   "execution_count": 38,
   "id": "6e30ecf0",
   "metadata": {},
   "outputs": [
    {
     "ename": "TypeError",
     "evalue": "'tuple' object does not support item assignment",
     "output_type": "error",
     "traceback": [
      "\u001b[1;31m---------------------------------------------------------------------------\u001b[0m",
      "\u001b[1;31mTypeError\u001b[0m                                 Traceback (most recent call last)",
      "Cell \u001b[1;32mIn[38], line 2\u001b[0m\n\u001b[0;32m      1\u001b[0m \u001b[38;5;66;03m# 튜플 추가, 수정, 사 ㄱ제 불가능\u001b[39;00m\n\u001b[1;32m----> 2\u001b[0m b[\u001b[38;5;241m1\u001b[39m]\u001b[38;5;241m=\u001b[39m\u001b[38;5;241m3\u001b[39m\n",
      "\u001b[1;31mTypeError\u001b[0m: 'tuple' object does not support item assignment"
     ]
    }
   ],
   "source": [
    "# 튜플 추가, 수정, 삭제 불가능\n",
    "b[1]=3"
   ]
  },
  {
   "cell_type": "code",
   "execution_count": 40,
   "id": "57e26502",
   "metadata": {},
   "outputs": [],
   "source": [
    "# 튜플안의 리스트는 수정 됨? 됨!\n",
    "f[3][1]=\"g\""
   ]
  },
  {
   "cell_type": "code",
   "execution_count": null,
   "id": "e470b849",
   "metadata": {},
   "outputs": [],
   "source": [
    "# 치환\n",
    "A=1\n",
    "B=2\n",
    "\n",
    "temp= A\n",
    "A=B\n",
    "B=temp"
   ]
  },
  {
   "cell_type": "code",
   "execution_count": 42,
   "id": "f3facdc7",
   "metadata": {},
   "outputs": [
    {
     "data": {
      "text/plain": [
       "(2, 1)"
      ]
     },
     "execution_count": 42,
     "metadata": {},
     "output_type": "execute_result"
    }
   ],
   "source": [
    "# python에서의 치환\n",
    "A=1\n",
    "B=2\n",
    "A,B=B,A\n",
    "A,B"
   ]
  },
  {
   "cell_type": "code",
   "execution_count": null,
   "id": "c010b7bf",
   "metadata": {},
   "outputs": [],
   "source": []
  },
  {
   "cell_type": "code",
   "execution_count": null,
   "id": "22b01872",
   "metadata": {},
   "outputs": [],
   "source": []
  },
  {
   "cell_type": "code",
   "execution_count": null,
   "id": "f6461369",
   "metadata": {},
   "outputs": [],
   "source": []
  },
  {
   "cell_type": "code",
   "execution_count": null,
   "id": "0068d115",
   "metadata": {},
   "outputs": [],
   "source": []
  },
  {
   "cell_type": "code",
   "execution_count": null,
   "id": "de5c0353",
   "metadata": {},
   "outputs": [],
   "source": []
  },
  {
   "cell_type": "code",
   "execution_count": null,
   "id": "4bd49732",
   "metadata": {},
   "outputs": [],
   "source": []
  },
  {
   "cell_type": "code",
   "execution_count": null,
   "id": "9cc48711",
   "metadata": {},
   "outputs": [],
   "source": []
  },
  {
   "cell_type": "code",
   "execution_count": null,
   "id": "70566d06",
   "metadata": {},
   "outputs": [],
   "source": []
  },
  {
   "cell_type": "code",
   "execution_count": null,
   "id": "6c177c90",
   "metadata": {},
   "outputs": [],
   "source": []
  }
 ],
 "metadata": {
  "kernelspec": {
   "display_name": "Python 3 (ipykernel)",
   "language": "python",
   "name": "python3"
  },
  "language_info": {
   "codemirror_mode": {
    "name": "ipython",
    "version": 3
   },
   "file_extension": ".py",
   "mimetype": "text/x-python",
   "name": "python",
   "nbconvert_exporter": "python",
   "pygments_lexer": "ipython3",
   "version": "3.11.5"
  }
 },
 "nbformat": 4,
 "nbformat_minor": 5
}
