{
 "cells": [
  {
   "cell_type": "markdown",
   "id": "840b5cbc",
   "metadata": {},
   "source": [
    "### 딕셔너리\n",
    "- 데이터를 쌍으로 저장하는 자료구조\n",
    "- key와 value로 묶어서 저장한다\n",
    "- key값으로 데이터를 탐색하기 때문에 데이터 접근 속도가 빠르다\n",
    "- 단, 순서가 존재하지 않는다는 특징이 있다"
   ]
  },
  {
   "cell_type": "code",
   "execution_count": 2,
   "id": "1be03db6",
   "metadata": {},
   "outputs": [],
   "source": [
    "a={} # 빈 딕셔너리\n",
    "b={\"name\":\"hd\"} # 문자열을 이용한 딕셔너리\n",
    "c={1:2,3:4} # 숫자를 이용한 딕셔너리"
   ]
  },
  {
   "cell_type": "markdown",
   "id": "95c1acdb",
   "metadata": {},
   "source": [
    "### 2. 딕셔너리 길이 확인"
   ]
  },
  {
   "cell_type": "code",
   "execution_count": 3,
   "id": "e1f7536d",
   "metadata": {},
   "outputs": [
    {
     "name": "stdout",
     "output_type": "stream",
     "text": [
      "0\n",
      "2\n"
     ]
    }
   ],
   "source": [
    "print(len(a))\n",
    "print(len(c))"
   ]
  },
  {
   "cell_type": "markdown",
   "id": "9ad57748",
   "metadata": {},
   "source": [
    "### 3. 데이터타입 확인"
   ]
  },
  {
   "cell_type": "code",
   "execution_count": 4,
   "id": "ab7399e8",
   "metadata": {},
   "outputs": [
    {
     "name": "stdout",
     "output_type": "stream",
     "text": [
      "<class 'dict'>\n"
     ]
    }
   ],
   "source": [
    "print(type(a))"
   ]
  },
  {
   "cell_type": "markdown",
   "id": "83ec08e9",
   "metadata": {},
   "source": [
    "### 4. 딕셔너리에 값 추가"
   ]
  },
  {
   "cell_type": "code",
   "execution_count": 5,
   "id": "f73bc227",
   "metadata": {},
   "outputs": [
    {
     "data": {
      "text/plain": [
       "{'name': 'hhd'}"
      ]
     },
     "execution_count": 5,
     "metadata": {},
     "output_type": "execute_result"
    }
   ],
   "source": [
    "a['name']='hhd'\n",
    "a"
   ]
  },
  {
   "cell_type": "markdown",
   "id": "14f6a46f",
   "metadata": {},
   "source": [
    "### 5. 값 가져오기"
   ]
  },
  {
   "cell_type": "code",
   "execution_count": 7,
   "id": "cdae39eb",
   "metadata": {},
   "outputs": [
    {
     "name": "stdout",
     "output_type": "stream",
     "text": [
      "hhd\n",
      "None\n"
     ]
    }
   ],
   "source": [
    "print(a['name'])\n",
    "print(a.get('age'))"
   ]
  },
  {
   "cell_type": "code",
   "execution_count": 36,
   "id": "2d44447a",
   "metadata": {},
   "outputs": [],
   "source": [
    "song={\"노래제목\":[\"1\",\"2\",\"3\"],\n",
    "     \"가수\":\"아이유\",\n",
    "     \"앨범유형\":\"싱글/EP\",\n",
    "     \"장르\":\"가요:발라드\"}"
   ]
  },
  {
   "cell_type": "code",
   "execution_count": 38,
   "id": "1f5c547e",
   "metadata": {},
   "outputs": [
    {
     "name": "stdout",
     "output_type": "stream",
     "text": [
      "dict_keys(['노래제목', '가수', '앨범유형', '장르'])\n",
      "['1', '2', '3']\n"
     ]
    }
   ],
   "source": [
    "# key값만 꺼내고 싶은경우\n",
    "print(song.keys())"
   ]
  },
  {
   "cell_type": "code",
   "execution_count": 12,
   "id": "e5ee02ac",
   "metadata": {},
   "outputs": [
    {
     "data": {
      "text/plain": [
       "dict_values(['Love wins all', '아이유', '싱글/EP', '가요:발라드'])"
      ]
     },
     "execution_count": 12,
     "metadata": {},
     "output_type": "execute_result"
    }
   ],
   "source": [
    "# value값들만 꺼내고 싶은 경우\n",
    "song.values()"
   ]
  },
  {
   "cell_type": "code",
   "execution_count": 13,
   "id": "d597e002",
   "metadata": {},
   "outputs": [
    {
     "name": "stdout",
     "output_type": "stream",
     "text": [
      "노래제목\n",
      "가수\n",
      "앨범유형\n",
      "장르\n"
     ]
    }
   ],
   "source": [
    "# for문이랑 함께 쓰는 경우-> key값만 담김\n",
    "for data in song:\n",
    "    print(data)"
   ]
  },
  {
   "cell_type": "code",
   "execution_count": 21,
   "id": "e29e9e4c",
   "metadata": {},
   "outputs": [
    {
     "name": "stdout",
     "output_type": "stream",
     "text": [
      "False\n",
      "False\n"
     ]
    }
   ],
   "source": [
    "# in/ not in 을 딕셔너리에 쓰는 경우-> key값을 중심으로 동작\n",
    "print(\"가수\" in song)\n",
    "print(\"아이유\" in song)"
   ]
  },
  {
   "cell_type": "code",
   "execution_count": 14,
   "id": "afb92e18",
   "metadata": {},
   "outputs": [
    {
     "name": "stdout",
     "output_type": "stream",
     "text": [
      "노래제목 Love wins all\n",
      "가수 아이유\n",
      "앨범유형 싱글/EP\n",
      "장르 가요:발라드\n"
     ]
    }
   ],
   "source": [
    "# 딕셔너리에 key와 value에 접근하고 싶은 경우\n",
    "for k,v in song.items():\n",
    "    print(k,v)\n",
    "# 주의) 순서가 항상 똑같다는 보장없음"
   ]
  },
  {
   "cell_type": "code",
   "execution_count": 15,
   "id": "1e33527c",
   "metadata": {},
   "outputs": [
    {
     "data": {
      "text/plain": [
       "dict_items([('노래제목', 'Love wins all'), ('가수', '아이유'), ('앨범유형', '싱글/EP'), ('장르', '가요:발라드')])"
      ]
     },
     "execution_count": 15,
     "metadata": {},
     "output_type": "execute_result"
    }
   ],
   "source": [
    "song.items()"
   ]
  },
  {
   "cell_type": "code",
   "execution_count": 16,
   "id": "a8a66639",
   "metadata": {},
   "outputs": [],
   "source": [
    "# 전체 데이터 삭제\n",
    "song.clear()"
   ]
  },
  {
   "cell_type": "code",
   "execution_count": 17,
   "id": "7046b598",
   "metadata": {},
   "outputs": [
    {
     "data": {
      "text/plain": [
       "{}"
      ]
     },
     "execution_count": 17,
     "metadata": {},
     "output_type": "execute_result"
    }
   ],
   "source": [
    "song"
   ]
  },
  {
   "cell_type": "code",
   "execution_count": 18,
   "id": "c1557aa9",
   "metadata": {},
   "outputs": [],
   "source": [
    "# 데이터 하나 삭제\n",
    "del a['name']"
   ]
  },
  {
   "cell_type": "code",
   "execution_count": 19,
   "id": "d308f092",
   "metadata": {},
   "outputs": [
    {
     "data": {
      "text/plain": [
       "{}"
      ]
     },
     "execution_count": 19,
     "metadata": {},
     "output_type": "execute_result"
    }
   ],
   "source": [
    "a"
   ]
  },
  {
   "cell_type": "markdown",
   "id": "f360950e",
   "metadata": {},
   "source": [
    "### 활용실습"
   ]
  },
  {
   "cell_type": "code",
   "execution_count": 24,
   "id": "11e8fbf1",
   "metadata": {},
   "outputs": [],
   "source": [
    "score_dict={\"이름\":[\"손지영\",\"김은영\",\"김운비\",\"채수민\",\"최성우\"],\n",
    "           \"Python\":[90,100,85,90,80],\n",
    "           \"Java\":[85,80,100,95,85],\n",
    "           \"html/css\":[75,70,90,80,90]}"
   ]
  },
  {
   "cell_type": "code",
   "execution_count": 26,
   "id": "1ecf3160",
   "metadata": {},
   "outputs": [
    {
     "name": "stdout",
     "output_type": "stream",
     "text": [
      "이름을 정확하게 기입하세요_d\n"
     ]
    },
    {
     "ename": "ValueError",
     "evalue": "not enough values to unpack (expected 4, got 2)",
     "output_type": "error",
     "traceback": [
      "\u001b[1;31m---------------------------------------------------------------------------\u001b[0m",
      "\u001b[1;31mValueError\u001b[0m                                Traceback (most recent call last)",
      "Cell \u001b[1;32mIn[26], line 2\u001b[0m\n\u001b[0;32m      1\u001b[0m input_name\u001b[38;5;241m=\u001b[39m\u001b[38;5;28minput\u001b[39m(\u001b[38;5;124m\"\u001b[39m\u001b[38;5;124m이름을 정확하게 기입하세요\u001b[39m\u001b[38;5;124m\"\u001b[39m)\n\u001b[1;32m----> 2\u001b[0m \u001b[38;5;28;01mfor\u001b[39;00m i,(name,p_sc,j_sc,h_sc) \u001b[38;5;129;01min\u001b[39;00m \u001b[38;5;28menumerate\u001b[39m(score_dict\u001b[38;5;241m.\u001b[39mitems()):\n\u001b[0;32m      3\u001b[0m     \u001b[38;5;28;01mif\u001b[39;00m name\u001b[38;5;241m==\u001b[39minput_name:\n\u001b[0;32m      4\u001b[0m         \u001b[38;5;28mprint\u001b[39m(\u001b[38;5;124m\"\u001b[39m\u001b[38;5;124m평균성적:\u001b[39m\u001b[38;5;124m\"\u001b[39m, (p_sc\u001b[38;5;241m+\u001b[39mj_sc\u001b[38;5;241m+\u001b[39mh_sc)\u001b[38;5;241m/\u001b[39m\u001b[38;5;241m3\u001b[39m )\n",
      "\u001b[1;31mValueError\u001b[0m: not enough values to unpack (expected 4, got 2)"
     ]
    }
   ],
   "source": [
    "input_name=input(\"이름을 정확하게 기입하세요\")\n",
    "data_values=score_dict.values()\n",
    "for index,name in enumerate(data_values[0]):\n",
    "    if name==input_name:\n",
    "        \n",
    "        "
   ]
  },
  {
   "cell_type": "code",
   "execution_count": 40,
   "id": "9466a0a4",
   "metadata": {},
   "outputs": [
    {
     "name": "stdout",
     "output_type": "stream",
     "text": [
      "검색할 이름을 입력:채수민\n",
      "3\n",
      "88.33\n"
     ]
    }
   ],
   "source": [
    "# 1. 검색할 이름의 존재여부 확인\n",
    "input_name = input(\"검색할 이름을 입력:\")\n",
    "if input_name in score_dict['이름']:\n",
    "    i= score_dict['이름'].index(input_name)\n",
    "    print(i)\n",
    "    avg=(score_dict['Python'][i]+score_dict['Java'][i]\\\n",
    "         +score_dict['html/css'][i])/3\n",
    "    print(round(avg,2))\n",
    "else:\n",
    "    print(\"없다\")"
   ]
  },
  {
   "cell_type": "markdown",
   "id": "7990a427",
   "metadata": {},
   "source": [
    "### 집합\n",
    "- 집합연산을 할 수 있는 데이터타입\n",
    "- 합집합, 차집합, 교집합 연산이 가능\n",
    "- 순서가 없다\n",
    "- 중복을 허용하지 않는다(중복 찾아낼 때 사용하기도함)"
   ]
  },
  {
   "cell_type": "markdown",
   "id": "75756d77",
   "metadata": {},
   "source": [
    "#### 1. 집합의 생성(선언)"
   ]
  },
  {
   "cell_type": "code",
   "execution_count": 41,
   "id": "7ce27489",
   "metadata": {},
   "outputs": [
    {
     "data": {
      "text/plain": [
       "set()"
      ]
     },
     "execution_count": 41,
     "metadata": {},
     "output_type": "execute_result"
    }
   ],
   "source": [
    "my_set=set()\n",
    "my_set"
   ]
  },
  {
   "cell_type": "code",
   "execution_count": 45,
   "id": "e671dfa0",
   "metadata": {},
   "outputs": [
    {
     "data": {
      "text/plain": [
       "{1, 2, 3, 4, 5}"
      ]
     },
     "execution_count": 45,
     "metadata": {},
     "output_type": "execute_result"
    }
   ],
   "source": [
    "my_set2=set([1,2,3,4,5])\n",
    "my_set2"
   ]
  },
  {
   "cell_type": "code",
   "execution_count": 43,
   "id": "380d758c",
   "metadata": {},
   "outputs": [
    {
     "data": {
      "text/plain": [
       "{'a', 'e', 'l', 'p'}"
      ]
     },
     "execution_count": 43,
     "metadata": {},
     "output_type": "execute_result"
    }
   ],
   "source": [
    "my_set3=set(\"apple\")\n",
    "my_set3"
   ]
  },
  {
   "cell_type": "code",
   "execution_count": 46,
   "id": "ec595155",
   "metadata": {},
   "outputs": [
    {
     "data": {
      "text/plain": [
       "{3, 4, 7, 8, 9}"
      ]
     },
     "execution_count": 46,
     "metadata": {},
     "output_type": "execute_result"
    }
   ],
   "source": [
    "my_set4=set([3,4,7,8,9])\n",
    "my_set4"
   ]
  },
  {
   "cell_type": "markdown",
   "id": "654b134c",
   "metadata": {},
   "source": [
    "### 2. 합집합"
   ]
  },
  {
   "cell_type": "code",
   "execution_count": 47,
   "id": "781134b5",
   "metadata": {},
   "outputs": [
    {
     "data": {
      "text/plain": [
       "{1, 2, 3, 4, 5, 7, 8, 9}"
      ]
     },
     "execution_count": 47,
     "metadata": {},
     "output_type": "execute_result"
    }
   ],
   "source": [
    "my_set2 | my_set4"
   ]
  },
  {
   "cell_type": "markdown",
   "id": "c5154ceb",
   "metadata": {},
   "source": [
    "### 3. 교집합"
   ]
  },
  {
   "cell_type": "code",
   "execution_count": 48,
   "id": "5daecc42",
   "metadata": {},
   "outputs": [
    {
     "data": {
      "text/plain": [
       "{3, 4}"
      ]
     },
     "execution_count": 48,
     "metadata": {},
     "output_type": "execute_result"
    }
   ],
   "source": [
    "my_set2 & my_set4"
   ]
  },
  {
   "cell_type": "markdown",
   "id": "0af38047",
   "metadata": {},
   "source": [
    "### 4. 차집합"
   ]
  },
  {
   "cell_type": "code",
   "execution_count": 49,
   "id": "411fea56",
   "metadata": {},
   "outputs": [
    {
     "data": {
      "text/plain": [
       "{1, 2, 5}"
      ]
     },
     "execution_count": 49,
     "metadata": {},
     "output_type": "execute_result"
    }
   ],
   "source": [
    "my_set2 - my_set4 #2번 집합만 고유하게 가진 내용 출력"
   ]
  },
  {
   "cell_type": "code",
   "execution_count": 51,
   "id": "1aaf2eaf",
   "metadata": {},
   "outputs": [
    {
     "data": {
      "text/plain": [
       "{7, 8, 9}"
      ]
     },
     "execution_count": 51,
     "metadata": {},
     "output_type": "execute_result"
    }
   ],
   "source": [
    "my_set4 - my_set2"
   ]
  },
  {
   "cell_type": "code",
   "execution_count": null,
   "id": "0338b4a0",
   "metadata": {},
   "outputs": [],
   "source": []
  },
  {
   "cell_type": "code",
   "execution_count": null,
   "id": "8cd32e78",
   "metadata": {},
   "outputs": [],
   "source": []
  },
  {
   "cell_type": "code",
   "execution_count": null,
   "id": "8c5bb704",
   "metadata": {},
   "outputs": [],
   "source": []
  },
  {
   "cell_type": "code",
   "execution_count": null,
   "id": "3f892de7",
   "metadata": {},
   "outputs": [],
   "source": []
  },
  {
   "cell_type": "code",
   "execution_count": null,
   "id": "055b0273",
   "metadata": {},
   "outputs": [],
   "source": []
  },
  {
   "cell_type": "code",
   "execution_count": null,
   "id": "1bc08bb3",
   "metadata": {},
   "outputs": [],
   "source": []
  },
  {
   "cell_type": "code",
   "execution_count": null,
   "id": "0d95a3f2",
   "metadata": {},
   "outputs": [],
   "source": []
  },
  {
   "cell_type": "code",
   "execution_count": null,
   "id": "a423092f",
   "metadata": {},
   "outputs": [],
   "source": []
  },
  {
   "cell_type": "code",
   "execution_count": null,
   "id": "ca924b29",
   "metadata": {},
   "outputs": [],
   "source": []
  },
  {
   "cell_type": "code",
   "execution_count": null,
   "id": "f1f6f1ac",
   "metadata": {},
   "outputs": [],
   "source": []
  },
  {
   "cell_type": "code",
   "execution_count": null,
   "id": "2d24ade3",
   "metadata": {},
   "outputs": [],
   "source": []
  },
  {
   "cell_type": "code",
   "execution_count": null,
   "id": "9dbe0411",
   "metadata": {},
   "outputs": [],
   "source": []
  },
  {
   "cell_type": "code",
   "execution_count": null,
   "id": "75cc10bb",
   "metadata": {},
   "outputs": [],
   "source": []
  },
  {
   "cell_type": "code",
   "execution_count": null,
   "id": "0cf28282",
   "metadata": {},
   "outputs": [],
   "source": []
  },
  {
   "cell_type": "code",
   "execution_count": null,
   "id": "334265c9",
   "metadata": {},
   "outputs": [],
   "source": []
  },
  {
   "cell_type": "code",
   "execution_count": null,
   "id": "5fe30377",
   "metadata": {},
   "outputs": [],
   "source": []
  },
  {
   "cell_type": "code",
   "execution_count": null,
   "id": "b9173f69",
   "metadata": {},
   "outputs": [],
   "source": []
  },
  {
   "cell_type": "code",
   "execution_count": null,
   "id": "e1b1b31c",
   "metadata": {},
   "outputs": [],
   "source": []
  },
  {
   "cell_type": "code",
   "execution_count": null,
   "id": "0c8ca751",
   "metadata": {},
   "outputs": [],
   "source": []
  },
  {
   "cell_type": "code",
   "execution_count": null,
   "id": "17865e23",
   "metadata": {},
   "outputs": [],
   "source": []
  },
  {
   "cell_type": "code",
   "execution_count": null,
   "id": "869fb442",
   "metadata": {},
   "outputs": [],
   "source": []
  },
  {
   "cell_type": "code",
   "execution_count": null,
   "id": "9c790e22",
   "metadata": {},
   "outputs": [],
   "source": []
  },
  {
   "cell_type": "code",
   "execution_count": null,
   "id": "38edc98b",
   "metadata": {},
   "outputs": [],
   "source": []
  },
  {
   "cell_type": "code",
   "execution_count": null,
   "id": "d78e3785",
   "metadata": {},
   "outputs": [],
   "source": []
  },
  {
   "cell_type": "code",
   "execution_count": null,
   "id": "466a099a",
   "metadata": {},
   "outputs": [],
   "source": []
  },
  {
   "cell_type": "code",
   "execution_count": null,
   "id": "94071938",
   "metadata": {},
   "outputs": [],
   "source": []
  },
  {
   "cell_type": "code",
   "execution_count": null,
   "id": "abea4b52",
   "metadata": {},
   "outputs": [],
   "source": []
  },
  {
   "cell_type": "code",
   "execution_count": null,
   "id": "d207c0de",
   "metadata": {},
   "outputs": [],
   "source": []
  },
  {
   "cell_type": "code",
   "execution_count": null,
   "id": "7da30435",
   "metadata": {},
   "outputs": [],
   "source": []
  },
  {
   "cell_type": "code",
   "execution_count": null,
   "id": "2ab1253f",
   "metadata": {},
   "outputs": [],
   "source": []
  },
  {
   "cell_type": "code",
   "execution_count": null,
   "id": "6580ec50",
   "metadata": {},
   "outputs": [],
   "source": []
  },
  {
   "cell_type": "code",
   "execution_count": null,
   "id": "cb6a66bf",
   "metadata": {},
   "outputs": [],
   "source": []
  }
 ],
 "metadata": {
  "kernelspec": {
   "display_name": "Python 3 (ipykernel)",
   "language": "python",
   "name": "python3"
  },
  "language_info": {
   "codemirror_mode": {
    "name": "ipython",
    "version": 3
   },
   "file_extension": ".py",
   "mimetype": "text/x-python",
   "name": "python",
   "nbconvert_exporter": "python",
   "pygments_lexer": "ipython3",
   "version": "3.11.5"
  }
 },
 "nbformat": 4,
 "nbformat_minor": 5
}
