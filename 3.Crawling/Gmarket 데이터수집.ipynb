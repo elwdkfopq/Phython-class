{
 "cells": [
  {
   "cell_type": "markdown",
   "id": "e1a9587f",
   "metadata": {},
   "source": [
    "### 학습목표\n",
    "- Gmarket 페이지에서 상품명, 가격, 카테고리 수집"
   ]
  },
  {
   "cell_type": "code",
   "execution_count": 10,
   "id": "683ffd32",
   "metadata": {},
   "outputs": [],
   "source": [
    "# 라이브러리 불러오기\n",
    "\n",
    "from selenium import webdriver as wb\n",
    "from selenium.webdriver.common.keys import Keys\n",
    "from selenium.webdriver.common.by import By"
   ]
  },
  {
   "cell_type": "code",
   "execution_count": 15,
   "id": "4696415c",
   "metadata": {},
   "outputs": [],
   "source": [
    "# Gmarket 페이지 열기\n",
    "driver=wb.Chrome()\n",
    "url='http://corners.gmarket.co.kr/Bestsellers'\n",
    "driver.get(url)"
   ]
  },
  {
   "cell_type": "code",
   "execution_count": 18,
   "id": "e6095046",
   "metadata": {},
   "outputs": [],
   "source": [
    "# 1. 1위상품 클릭하여 페이지 이동\n",
    "# 이미지를 클릭하면 쉬움\n",
    "best1=driver.find_element(By.CLASS_NAME,'image__lazy.image__load')\n",
    "best1.click()"
   ]
  },
  {
   "cell_type": "code",
   "execution_count": 19,
   "id": "590f0427",
   "metadata": {},
   "outputs": [],
   "source": [
    "# 2. 상품명, 가격, 카테고리 데이터 수집\n",
    "# title, price, cate 변수에 담기\n",
    "title=driver.find_element(By.CLASS_NAME,'itemtit').text\n",
    "price=driver.find_element(By.CLASS_NAME,'price_real').text\n",
    "cate=driver.find_element(By.CSS_SELECTOR,'li.on>a').text"
   ]
  },
  {
   "cell_type": "code",
   "execution_count": 20,
   "id": "49da310a",
   "metadata": {},
   "outputs": [
    {
     "name": "stdout",
     "output_type": "stream",
     "text": [
      "(15%+5%쿠폰) 시크릿무드 역마진 단하루/ 겨울마감+봄맞이 BEST신상 데일리룩 가디건/니트/자켓/팬츠/스커트 10,000원 라운드넥티셔츠\n"
     ]
    }
   ],
   "source": [
    "# 출력\n",
    "print(title, price, cate)"
   ]
  },
  {
   "cell_type": "code",
   "execution_count": null,
   "id": "570a52c2",
   "metadata": {},
   "outputs": [],
   "source": [
    "# 태그 선택하는방법\n",
    "# 절대적인 위치를 가져올수있다\n",
    "# 한페이지에 하나만 가져올때 사용\n",
    "# 원하는 태그 위에서 우클릭 > copy > copy selector > 클립보드에 복사됨 > 붙여넣기\n",
    "#itemcase_basic > div.box__item-title > h1\n",
    "# By.CSS_SELECTOR 설정해줘야한다"
   ]
  },
  {
   "cell_type": "code",
   "execution_count": 21,
   "id": "c2589cc0",
   "metadata": {},
   "outputs": [
    {
     "name": "stdout",
     "output_type": "stream",
     "text": [
      "(15%+5%쿠폰) 시크릿무드 역마진 단하루/ 겨울마감+봄맞이 BEST신상 데일리룩 가디건/니트/자켓/팬츠/스커트 10,000원 라운드넥티셔츠\n"
     ]
    }
   ],
   "source": [
    "# 상품명, 가격, 카테고리 정보를 절대적인 위치로 가져와보자!\n",
    "title=driver.find_element(By.CSS_SELECTOR,'#itemcase_basic > div.box__item-title > h1').text\n",
    "price=driver.find_element(By.CSS_SELECTOR, '#itemcase_basic > div.box__item-title > div.price > span:nth-child(2) > strong').text\n",
    "cate=driver.find_element(By.CSS_SELECTOR, 'body > div.location-navi > ul > li.on > a').text\n",
    "print(title,price,cate)"
   ]
  },
  {
   "cell_type": "code",
   "execution_count": 22,
   "id": "11bdc595",
   "metadata": {},
   "outputs": [],
   "source": [
    "# 뒤로가기\n",
    "driver.back()"
   ]
  },
  {
   "cell_type": "markdown",
   "id": "c6acf461",
   "metadata": {},
   "source": [
    "### 상위 10개 데이터 수집하기"
   ]
  },
  {
   "cell_type": "code",
   "execution_count": 25,
   "id": "2f16f183",
   "metadata": {},
   "outputs": [
    {
     "name": "stdout",
     "output_type": "stream",
     "text": [
      "대한민국 대표 그림 동화 작가 - 백희나 그림책 - 골라담기 핫딜 6,600원 유아\n",
      "(15%+5%쿠폰) 시크릿무드 역마진 단하루/ 겨울마감+봄맞이 BEST신상 데일리룩 가디건/니트/자켓/팬츠/스커트 10,000원 라운드넥티셔츠\n",
      "LIVE체감가6만4천원 갤럭시 버즈2 무선 블루투스 이어폰 SM-R177 +신세계5천원+선물포장 증정 (G라이브) 94,090원 블루투스이어폰\n",
      "삼성전자 갤럭시 워치6 블루투스 40mm 최대혜택가 187000 신세계 상품권 2만+보호필름+선물포장+2종혜택 287,880원 스마트워치\n",
      "(신세계타임스퀘어점패션관)신상 최저가 순면 기본 무지 반팔 티셔츠 3+1PACK PHD5TR3900 17,930원 기본/라운드/브이넥\n",
      "(유니버스클럽 전용 쿠폰적용가 5천원) 메가박스 일반예매권 2D-주중/주말 15,000원 메가박스\n",
      "투게더 6종 3+2개 골라담기 +구매기프트 3개 29,200원 아이스크림\n",
      "캡슐당 419원)일리 네스프레소 호환 커피 캡슐 6종 100캡슐 맛선택가능 55,900원 캡슐커피\n",
      "닥터페퍼 제로 355ML 24입 1박스 탄산음료 21,900원 탄산/기능성음료\n",
      "(신세계본점)본점단독블루독베이비 경량패딩점퍼 60000원 (43A19-113-99) 45,000원 유아동점퍼\n"
     ]
    }
   ],
   "source": [
    "# 코드 합치기\n",
    "from selenium import webdriver as wb\n",
    "from selenium.webdriver.common.keys import Keys\n",
    "from selenium.webdriver.common.by import By\n",
    "import pandas as pd\n",
    "import time\n",
    "\n",
    "# Gmarket 페이지 열기\n",
    "driver=wb.Chrome()\n",
    "url='http://corners.gmarket.co.kr/Bestsellers'\n",
    "driver.get(url)\n",
    "time.sleep(1)\n",
    "# 반복문 작성\n",
    "for i in range(10):\n",
    "    # 이미지를 클릭하면 쉬움\n",
    "    best1=driver.find_elements(By.CLASS_NAME,'image__lazy.image__load')[i].click()\n",
    "    time.sleep(1)\n",
    "    \n",
    "    # 상품명, 가격, 카테고리 정보를 절대적인 위치로 가져와보자!\n",
    "    title=driver.find_element(By.CSS_SELECTOR,'#itemcase_basic > div.box__item-title > h1').text\n",
    "    price=driver.find_element(By.CSS_SELECTOR, '#itemcase_basic > div.box__item-title > div.price > span:nth-child(2) > strong').text\n",
    "    cate=driver.find_element(By.CSS_SELECTOR, 'body > div.location-navi > ul > li.on > a').text\n",
    "    print(title,price,cate)\n",
    "    \n",
    "    # 뒤로가기\n",
    "    driver.back()\n",
    "    time.sleep(1)"
   ]
  },
  {
   "cell_type": "code",
   "execution_count": 26,
   "id": "155f10b1",
   "metadata": {
    "collapsed": true
   },
   "outputs": [
    {
     "name": "stderr",
     "output_type": "stream",
     "text": [
      "\r",
      "  0%|                                                                                           | 0/10 [00:00<?, ?it/s]"
     ]
    },
    {
     "name": "stdout",
     "output_type": "stream",
     "text": [
      "대한민국 대표 그림 동화 작가 - 백희나 그림책 - 골라담기 핫딜 6,600원 유아\n"
     ]
    },
    {
     "name": "stderr",
     "output_type": "stream",
     "text": [
      "\r",
      " 10%|████████▎                                                                          | 1/10 [00:04<00:41,  4.56s/it]"
     ]
    },
    {
     "name": "stdout",
     "output_type": "stream",
     "text": [
      "(15%+5%쿠폰) 시크릿무드 역마진 단하루/ 겨울마감+봄맞이 BEST신상 데일리룩 가디건/니트/자켓/팬츠/스커트 10,000원 라운드넥티셔츠\n"
     ]
    },
    {
     "name": "stderr",
     "output_type": "stream",
     "text": [
      "\r",
      " 20%|████████████████▌                                                                  | 2/10 [00:12<00:53,  6.72s/it]"
     ]
    },
    {
     "name": "stdout",
     "output_type": "stream",
     "text": [
      "LIVE체감가6만4천원 갤럭시 버즈2 무선 블루투스 이어폰 SM-R177 +신세계5천원+선물포장 증정 (G라이브) 94,090원 블루투스이어폰\n"
     ]
    },
    {
     "name": "stderr",
     "output_type": "stream",
     "text": [
      "\r",
      " 30%|████████████████████████▉                                                          | 3/10 [00:18<00:42,  6.13s/it]"
     ]
    },
    {
     "name": "stdout",
     "output_type": "stream",
     "text": [
      "삼성전자 갤럭시 워치6 블루투스 40mm 최대혜택가 187000 신세계 상품권 2만+보호필름+선물포장+2종혜택 287,880원 스마트워치\n"
     ]
    },
    {
     "name": "stderr",
     "output_type": "stream",
     "text": [
      "\r",
      " 40%|█████████████████████████████████▏                                                 | 4/10 [00:23<00:35,  5.85s/it]"
     ]
    },
    {
     "name": "stdout",
     "output_type": "stream",
     "text": [
      "(신세계타임스퀘어점패션관)신상 최저가 순면 기본 무지 반팔 티셔츠 3+1PACK PHD5TR3900 17,930원 기본/라운드/브이넥\n"
     ]
    },
    {
     "name": "stderr",
     "output_type": "stream",
     "text": [
      "\r",
      " 50%|█████████████████████████████████████████▌                                         | 5/10 [00:28<00:27,  5.54s/it]"
     ]
    },
    {
     "name": "stdout",
     "output_type": "stream",
     "text": [
      "(유니버스클럽 전용 쿠폰적용가 5천원) 메가박스 일반예매권 2D-주중/주말 15,000원 메가박스\n"
     ]
    },
    {
     "name": "stderr",
     "output_type": "stream",
     "text": [
      "\r",
      " 60%|█████████████████████████████████████████████████▊                                 | 6/10 [00:33<00:20,  5.24s/it]"
     ]
    },
    {
     "name": "stdout",
     "output_type": "stream",
     "text": [
      "투게더 6종 3+2개 골라담기 +구매기프트 3개 29,200원 아이스크림\n"
     ]
    },
    {
     "name": "stderr",
     "output_type": "stream",
     "text": [
      "\r",
      " 70%|██████████████████████████████████████████████████████████                         | 7/10 [00:38<00:16,  5.36s/it]"
     ]
    },
    {
     "name": "stdout",
     "output_type": "stream",
     "text": [
      "캡슐당 419원)일리 네스프레소 호환 커피 캡슐 6종 100캡슐 맛선택가능 55,900원 캡슐커피\n"
     ]
    },
    {
     "name": "stderr",
     "output_type": "stream",
     "text": [
      "\r",
      " 80%|██████████████████████████████████████████████████████████████████▍                | 8/10 [00:44<00:10,  5.48s/it]"
     ]
    },
    {
     "name": "stdout",
     "output_type": "stream",
     "text": [
      "닥터페퍼 제로 355ML 24입 1박스 탄산음료 21,900원 탄산/기능성음료\n"
     ]
    },
    {
     "name": "stderr",
     "output_type": "stream",
     "text": [
      "\r",
      " 90%|██████████████████████████████████████████████████████████████████████████▋        | 9/10 [00:50<00:05,  5.48s/it]"
     ]
    },
    {
     "name": "stdout",
     "output_type": "stream",
     "text": [
      "(신세계본점)본점단독블루독베이비 경량패딩점퍼 60000원 (43A19-113-99) 45,000원 유아동점퍼\n"
     ]
    },
    {
     "name": "stderr",
     "output_type": "stream",
     "text": [
      "100%|██████████████████████████████████████████████████████████████████████████████████| 10/10 [00:54<00:00,  5.47s/it]\n"
     ]
    }
   ],
   "source": [
    "# 코드 합치기\n",
    "from selenium import webdriver as wb\n",
    "from selenium.webdriver.common.keys import Keys\n",
    "from selenium.webdriver.common.by import By\n",
    "import pandas as pd\n",
    "import time\n",
    "# 반복 진행 상황을 로딩바로 확인\n",
    "from tqdm import tqdm\n",
    "\n",
    "# Gmarket 페이지 열기\n",
    "driver=wb.Chrome()\n",
    "url='http://corners.gmarket.co.kr/Bestsellers'\n",
    "driver.get(url)\n",
    "time.sleep(1)\n",
    "# 반복문 작성\n",
    "for i in tqdm(range(10)):\n",
    "    # 이미지를 클릭하면 쉬움\n",
    "    best1=driver.find_elements(By.CLASS_NAME,'image__lazy.image__load')[i].click()\n",
    "    time.sleep(1)\n",
    "    \n",
    "    # 상품명, 가격, 카테고리 정보를 절대적인 위치로 가져와보자!\n",
    "    title=driver.find_element(By.CSS_SELECTOR,'#itemcase_basic > div.box__item-title > h1').text\n",
    "    price=driver.find_element(By.CSS_SELECTOR, '#itemcase_basic > div.box__item-title > div.price > span:nth-child(2) > strong').text\n",
    "    cate=driver.find_element(By.CSS_SELECTOR, 'body > div.location-navi > ul > li.on > a').text\n",
    "    print(title,price,cate)\n",
    "    \n",
    "    # 뒤로가기\n",
    "    driver.back()\n",
    "    time.sleep(1)"
   ]
  },
  {
   "cell_type": "code",
   "execution_count": 33,
   "id": "61dfcd4f",
   "metadata": {},
   "outputs": [
    {
     "ename": "TypeError",
     "evalue": "'WebElement' object is not subscriptable",
     "output_type": "error",
     "traceback": [
      "\u001b[1;31m---------------------------------------------------------------------------\u001b[0m",
      "\u001b[1;31mTypeError\u001b[0m                                 Traceback (most recent call last)",
      "Cell \u001b[1;32mIn[33], line 3\u001b[0m\n\u001b[0;32m      1\u001b[0m \u001b[38;5;28;01mfor\u001b[39;00m i \u001b[38;5;129;01min\u001b[39;00m \u001b[38;5;28mrange\u001b[39m(\u001b[38;5;241m1\u001b[39m,\u001b[38;5;241m11\u001b[39m):\n\u001b[0;32m      2\u001b[0m     image\u001b[38;5;241m=\u001b[39mdriver\u001b[38;5;241m.\u001b[39mfind_element(By\u001b[38;5;241m.\u001b[39mCSS_SELECTOR,\u001b[38;5;124mf\u001b[39m\u001b[38;5;124m'\u001b[39m\u001b[38;5;124m#gBestWrap > div.best-list > ul > li:nth-child(\u001b[39m\u001b[38;5;132;01m{\u001b[39;00mi\u001b[38;5;132;01m}\u001b[39;00m\u001b[38;5;124m) > div.thumb > a > img\u001b[39m\u001b[38;5;124m'\u001b[39m)\n\u001b[1;32m----> 3\u001b[0m     image[i]\n",
      "\u001b[1;31mTypeError\u001b[0m: 'WebElement' object is not subscriptable"
     ]
    }
   ],
   "source": [
    "for i in range(1,11):\n",
    "    image=driver.find_element(By.CSS_SELECTOR,f'#gBestWrap > div.best-list > ul > li:nth-child({i}) > div.thumb > a > img')\n",
    "    image.click()"
   ]
  },
  {
   "cell_type": "code",
   "execution_count": null,
   "id": "3520d9d5",
   "metadata": {},
   "outputs": [],
   "source": []
  },
  {
   "cell_type": "code",
   "execution_count": null,
   "id": "79d47da6",
   "metadata": {},
   "outputs": [],
   "source": []
  },
  {
   "cell_type": "code",
   "execution_count": null,
   "id": "e7129a0b",
   "metadata": {},
   "outputs": [],
   "source": []
  },
  {
   "cell_type": "code",
   "execution_count": null,
   "id": "616ccb79",
   "metadata": {},
   "outputs": [],
   "source": []
  },
  {
   "cell_type": "code",
   "execution_count": null,
   "id": "9572cf09",
   "metadata": {},
   "outputs": [],
   "source": []
  },
  {
   "cell_type": "code",
   "execution_count": null,
   "id": "6e93a88e",
   "metadata": {},
   "outputs": [],
   "source": []
  },
  {
   "cell_type": "code",
   "execution_count": null,
   "id": "765dc28d",
   "metadata": {},
   "outputs": [],
   "source": []
  },
  {
   "cell_type": "code",
   "execution_count": null,
   "id": "37c709bd",
   "metadata": {},
   "outputs": [],
   "source": []
  },
  {
   "cell_type": "code",
   "execution_count": null,
   "id": "97ba70f2",
   "metadata": {},
   "outputs": [],
   "source": []
  },
  {
   "cell_type": "code",
   "execution_count": null,
   "id": "23b13d65",
   "metadata": {},
   "outputs": [],
   "source": []
  },
  {
   "cell_type": "code",
   "execution_count": null,
   "id": "25a17b57",
   "metadata": {},
   "outputs": [],
   "source": []
  },
  {
   "cell_type": "code",
   "execution_count": null,
   "id": "06836690",
   "metadata": {},
   "outputs": [],
   "source": []
  },
  {
   "cell_type": "code",
   "execution_count": null,
   "id": "7b7275e9",
   "metadata": {},
   "outputs": [],
   "source": []
  },
  {
   "cell_type": "code",
   "execution_count": null,
   "id": "c7a88be9",
   "metadata": {},
   "outputs": [],
   "source": []
  },
  {
   "cell_type": "code",
   "execution_count": null,
   "id": "62e087d9",
   "metadata": {},
   "outputs": [],
   "source": []
  },
  {
   "cell_type": "code",
   "execution_count": null,
   "id": "98131731",
   "metadata": {},
   "outputs": [],
   "source": []
  },
  {
   "cell_type": "code",
   "execution_count": null,
   "id": "ea4635b5",
   "metadata": {},
   "outputs": [],
   "source": []
  },
  {
   "cell_type": "code",
   "execution_count": null,
   "id": "8d4df12a",
   "metadata": {},
   "outputs": [],
   "source": []
  },
  {
   "cell_type": "code",
   "execution_count": null,
   "id": "1cf339f3",
   "metadata": {},
   "outputs": [],
   "source": []
  },
  {
   "cell_type": "code",
   "execution_count": null,
   "id": "ea178078",
   "metadata": {},
   "outputs": [],
   "source": []
  },
  {
   "cell_type": "code",
   "execution_count": null,
   "id": "d1442930",
   "metadata": {},
   "outputs": [],
   "source": []
  },
  {
   "cell_type": "code",
   "execution_count": null,
   "id": "edb8ebc9",
   "metadata": {},
   "outputs": [],
   "source": []
  },
  {
   "cell_type": "code",
   "execution_count": null,
   "id": "4979a68d",
   "metadata": {},
   "outputs": [],
   "source": []
  },
  {
   "cell_type": "code",
   "execution_count": null,
   "id": "5b88a4cf",
   "metadata": {},
   "outputs": [],
   "source": []
  },
  {
   "cell_type": "code",
   "execution_count": null,
   "id": "4d223260",
   "metadata": {},
   "outputs": [],
   "source": []
  },
  {
   "cell_type": "code",
   "execution_count": null,
   "id": "68bd19b8",
   "metadata": {},
   "outputs": [],
   "source": []
  },
  {
   "cell_type": "code",
   "execution_count": null,
   "id": "05f74344",
   "metadata": {},
   "outputs": [],
   "source": []
  },
  {
   "cell_type": "code",
   "execution_count": null,
   "id": "c1e857dc",
   "metadata": {},
   "outputs": [],
   "source": []
  }
 ],
 "metadata": {
  "kernelspec": {
   "display_name": "Python 3 (ipykernel)",
   "language": "python",
   "name": "python3"
  },
  "language_info": {
   "codemirror_mode": {
    "name": "ipython",
    "version": 3
   },
   "file_extension": ".py",
   "mimetype": "text/x-python",
   "name": "python",
   "nbconvert_exporter": "python",
   "pygments_lexer": "ipython3",
   "version": "3.11.5"
  }
 },
 "nbformat": 4,
 "nbformat_minor": 5
}
