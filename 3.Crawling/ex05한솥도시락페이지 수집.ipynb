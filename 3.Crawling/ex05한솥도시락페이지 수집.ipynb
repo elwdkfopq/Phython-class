{
 "cells": [
  {
   "cell_type": "code",
   "execution_count": 11,
   "id": "90835e21",
   "metadata": {},
   "outputs": [],
   "source": [
    "# 라이브러리 불러오기\n",
    "from selenium import webdriver as wb # 통제, 제어\n",
    "from selenium.webdriver.common.keys import Keys # 입력, 컴퓨터용 키보드\n",
    "from selenium.webdriver.common.by import By # 구분\n",
    "import pandas as pd"
   ]
  },
  {
   "cell_type": "code",
   "execution_count": 12,
   "id": "6cce75fd",
   "metadata": {},
   "outputs": [],
   "source": [
    "# 크롬브라우저 실행\n",
    "driver=wb.Chrome()"
   ]
  },
  {
   "cell_type": "code",
   "execution_count": 13,
   "id": "008073be",
   "metadata": {},
   "outputs": [],
   "source": [
    "# 페이지 이동 (한솥도시락 페이지)\n",
    "driver.get('https://www.hsd.co.kr/menu/menu_list')"
   ]
  },
  {
   "cell_type": "code",
   "execution_count": 14,
   "id": "ca96d5c0",
   "metadata": {},
   "outputs": [],
   "source": [
    "# 한솥도시락 페이지의 메뉴명 수집하기\n",
    "menu=driver.find_elements(By.CLASS_NAME,'h.fz_03')"
   ]
  },
  {
   "cell_type": "code",
   "execution_count": 15,
   "id": "9f385782",
   "metadata": {},
   "outputs": [
    {
     "data": {
      "text/plain": [
       "'사골 조랭이떡 만둣국'"
      ]
     },
     "execution_count": 15,
     "metadata": {},
     "output_type": "execute_result"
    }
   ],
   "source": [
    "# 첫번째 메뉴의 순수한 콘텐츠만 추출\n",
    "menu[0].text"
   ]
  },
  {
   "cell_type": "code",
   "execution_count": 16,
   "id": "8d320c99",
   "metadata": {},
   "outputs": [
    {
     "name": "stdout",
     "output_type": "stream",
     "text": [
      "사골 조랭이떡 만둣국\n",
      "한우 함박스테이크 & 반달 돈까스\n",
      "한우함박스테이크&토네이도소세지\n",
      "해바라기\n",
      "매화\n",
      "진달래\n",
      "개나리\n",
      "돈까스도련님 고기고기\n",
      "탕수육도련님 고기고기\n",
      "새치 고기고기\n",
      "돈치 고기고기\n",
      "카츠카츠\n",
      "숯불직화구이\n",
      "소불고기\n",
      "메가치킨제육\n",
      "칠리 찹쌀탕수육도련님\n",
      "동백\n",
      "치킨제육\n",
      "돈까스도련님\n",
      "제육볶음\n",
      "돈치스팸\n",
      "송정식 떡갈비\n",
      "제육 김치찌개 정식\n",
      "제육 김치 부대찌개 정식\n",
      "돈치스팸 김치 부대찌개 정식\n",
      "빅치킨마요 김치 부대찌개 정식\n",
      "치킨마요 김치 부대찌개 정식\n",
      "빅치킨마요 김치찌개 정식\n",
      "치킨마요 김치찌개 정식\n",
      "빅새치마요\n",
      "새치마요\n",
      "메가스팸마요\n",
      "스팸마요\n",
      "메가치킨마요\n",
      "왕치킨마요\n",
      "빅치킨마요\n",
      "치킨마요\n",
      "참치마요\n",
      "돈치마요\n",
      "돈까스 카레\n",
      "잡채볶음밥(중화풍 매운맛)\n",
      "잡채볶음밥(오리지널)\n",
      "스팸 김치볶음밥\n",
      "김치볶음밥\n",
      "스팸 철판볶음밥\n",
      "소불고기 철판볶음밥\n",
      "나시고랭\n",
      "묵은지 김치찌개\n",
      "김치 부대찌개\n",
      "핫 치즈 닭갈비덮밥\n",
      "오리지널 치즈 닭갈비덮밥\n",
      "숯불직화구이 덮밥\n",
      "마파두부 덮밥\n",
      "왕카레돈까스덮밥\n",
      "새우돈까스 덮밥\n",
      "돈까스 덮밥\n",
      "아보카도 소불고기 명란 비빔밥\n",
      "소불고기 감초고추장 비빔밥\n",
      "시골제육 두부강된장 비빔밥\n",
      "참치야채 감초고추장 비빔밥\n",
      "튼튼도시락\n"
     ]
    }
   ],
   "source": [
    "# 전체 메뉴명 확인\n",
    "for i in menu:\n",
    "    print(i.text)"
   ]
  },
  {
   "cell_type": "code",
   "execution_count": 17,
   "id": "513de092",
   "metadata": {
    "scrolled": true
   },
   "outputs": [
    {
     "name": "stdout",
     "output_type": "stream",
     "text": [
      "5,900원\n",
      "8,900원\n",
      "8,900원\n",
      "10,000원\n",
      "10,500원\n",
      "8,000원\n",
      "8,700원\n",
      "6,600원\n",
      "6,100원\n",
      "7,100원\n",
      "6,100원\n",
      "4,900원\n",
      "6,800원\n",
      "5,700원\n",
      "7,800원\n",
      "4,500원\n",
      "6,200원\n",
      "5,000원\n",
      "4,900원\n",
      "4,700원\n",
      "5,000원\n",
      "6,900원\n",
      "8,800원\n",
      "9,200원\n",
      "9,200원\n",
      "8,200원\n",
      "7,600원\n",
      "7,700원\n",
      "7,100원\n",
      "4,700원\n",
      "4,100원\n",
      "5,900원\n",
      "4,000원\n",
      "6,200원\n",
      "5,100원\n",
      "4,400원\n",
      "3,800원\n",
      "3,600원\n",
      "4,100원\n",
      "4,800원\n",
      "5,500원\n",
      "5,300원\n",
      "4,900원\n",
      "4,100원\n",
      "4,900원\n",
      "5,100원\n",
      "6,300원\n",
      "5,000원\n",
      "6,100원\n",
      "6,000원\n",
      "6,000원\n",
      "6,000원\n",
      "5,000원\n",
      "6,100원\n",
      "4,400원\n",
      "4,300원\n",
      "6,700원\n",
      "5,600원\n",
      "5,400원\n",
      "3,700원\n",
      "5,200원\n"
     ]
    }
   ],
   "source": [
    "# 가격데이터 수집\n",
    "# 순수한 콘텐츠만 추출\n",
    "price=driver.find_elements(By.CLASS_NAME,'item-price')\n",
    "for each_price in price:\n",
    "    print(each_price.text)"
   ]
  },
  {
   "cell_type": "code",
   "execution_count": 18,
   "id": "077d18d4",
   "metadata": {},
   "outputs": [
    {
     "data": {
      "text/plain": [
       "61"
      ]
     },
     "execution_count": 18,
     "metadata": {},
     "output_type": "execute_result"
    }
   ],
   "source": [
    "len(menu)"
   ]
  },
  {
   "cell_type": "markdown",
   "id": "c257aebd",
   "metadata": {},
   "source": [
    "- 현재 브라우저를 실행했을 때 브라우저의 크기만큼, 현재 불러와져있는 데이터들만 수집을 한다!\n",
    "- 전체데이터를 수집하고 싶다면? 전체데이터를 로딩 후에 데이터 수집(더보기버튼 클릭)"
   ]
  },
  {
   "cell_type": "code",
   "execution_count": 19,
   "id": "ddf11375",
   "metadata": {},
   "outputs": [],
   "source": [
    "# 더보기버튼 클릭하기\n",
    "# 드라이버에게 더보기버튼의 위치를 알려줘야한다!\n",
    "# 더보기버튼 위치 찾아오기\n",
    "btn_more = driver.find_element(By.CLASS_NAME,'c_05')\n",
    "btn_more.click()"
   ]
  },
  {
   "cell_type": "code",
   "execution_count": 20,
   "id": "90238bbe",
   "metadata": {},
   "outputs": [
    {
     "ename": "ElementNotInteractableException",
     "evalue": "Message: element not interactable\n  (Session info: chrome=121.0.6167.185)\nStacktrace:\n\tGetHandleVerifier [0x00007FF691C37012+3522402]\n\t(No symbol) [0x00007FF691858352]\n\t(No symbol) [0x00007FF69170596D]\n\t(No symbol) [0x00007FF69174D3C6]\n\t(No symbol) [0x00007FF691741910]\n\t(No symbol) [0x00007FF69176F05A]\n\t(No symbol) [0x00007FF69174120A]\n\t(No symbol) [0x00007FF69176F270]\n\t(No symbol) [0x00007FF69178BDA3]\n\t(No symbol) [0x00007FF69176EE03]\n\t(No symbol) [0x00007FF69173F4D4]\n\t(No symbol) [0x00007FF6917405F1]\n\tGetHandleVerifier [0x00007FF691C69B9D+3730157]\n\tGetHandleVerifier [0x00007FF691CBF02D+4079485]\n\tGetHandleVerifier [0x00007FF691CB75D3+4048163]\n\tGetHandleVerifier [0x00007FF69198A649+718233]\n\t(No symbol) [0x00007FF691864A3F]\n\t(No symbol) [0x00007FF69185FA94]\n\t(No symbol) [0x00007FF69185FBC2]\n\t(No symbol) [0x00007FF69184F2E4]\n\tBaseThreadInitThunk [0x00007FFBF2D07344+20]\n\tRtlUserThreadStart [0x00007FFBF36026B1+33]\n",
     "output_type": "error",
     "traceback": [
      "\u001b[1;31m---------------------------------------------------------------------------\u001b[0m",
      "\u001b[1;31mElementNotInteractableException\u001b[0m           Traceback (most recent call last)",
      "Cell \u001b[1;32mIn[20], line 4\u001b[0m\n\u001b[0;32m      2\u001b[0m \u001b[38;5;28;01mfor\u001b[39;00m i \u001b[38;5;129;01min\u001b[39;00m \u001b[38;5;28mrange\u001b[39m(\u001b[38;5;241m30\u001b[39m):\n\u001b[0;32m      3\u001b[0m     btn_more \u001b[38;5;241m=\u001b[39m driver\u001b[38;5;241m.\u001b[39mfind_element(By\u001b[38;5;241m.\u001b[39mCLASS_NAME,\u001b[38;5;124m'\u001b[39m\u001b[38;5;124mc_05\u001b[39m\u001b[38;5;124m'\u001b[39m)\n\u001b[1;32m----> 4\u001b[0m     btn_more\u001b[38;5;241m.\u001b[39mclick()\n",
      "File \u001b[1;32m~\\anaconda3\\Lib\\site-packages\\selenium\\webdriver\\remote\\webelement.py:94\u001b[0m, in \u001b[0;36mWebElement.click\u001b[1;34m(self)\u001b[0m\n\u001b[0;32m     92\u001b[0m \u001b[38;5;28;01mdef\u001b[39;00m \u001b[38;5;21mclick\u001b[39m(\u001b[38;5;28mself\u001b[39m) \u001b[38;5;241m-\u001b[39m\u001b[38;5;241m>\u001b[39m \u001b[38;5;28;01mNone\u001b[39;00m:\n\u001b[0;32m     93\u001b[0m \u001b[38;5;250m    \u001b[39m\u001b[38;5;124;03m\"\"\"Clicks the element.\"\"\"\u001b[39;00m\n\u001b[1;32m---> 94\u001b[0m     \u001b[38;5;28mself\u001b[39m\u001b[38;5;241m.\u001b[39m_execute(Command\u001b[38;5;241m.\u001b[39mCLICK_ELEMENT)\n",
      "File \u001b[1;32m~\\anaconda3\\Lib\\site-packages\\selenium\\webdriver\\remote\\webelement.py:395\u001b[0m, in \u001b[0;36mWebElement._execute\u001b[1;34m(self, command, params)\u001b[0m\n\u001b[0;32m    393\u001b[0m     params \u001b[38;5;241m=\u001b[39m {}\n\u001b[0;32m    394\u001b[0m params[\u001b[38;5;124m\"\u001b[39m\u001b[38;5;124mid\u001b[39m\u001b[38;5;124m\"\u001b[39m] \u001b[38;5;241m=\u001b[39m \u001b[38;5;28mself\u001b[39m\u001b[38;5;241m.\u001b[39m_id\n\u001b[1;32m--> 395\u001b[0m \u001b[38;5;28;01mreturn\u001b[39;00m \u001b[38;5;28mself\u001b[39m\u001b[38;5;241m.\u001b[39m_parent\u001b[38;5;241m.\u001b[39mexecute(command, params)\n",
      "File \u001b[1;32m~\\anaconda3\\Lib\\site-packages\\selenium\\webdriver\\remote\\webdriver.py:347\u001b[0m, in \u001b[0;36mWebDriver.execute\u001b[1;34m(self, driver_command, params)\u001b[0m\n\u001b[0;32m    345\u001b[0m response \u001b[38;5;241m=\u001b[39m \u001b[38;5;28mself\u001b[39m\u001b[38;5;241m.\u001b[39mcommand_executor\u001b[38;5;241m.\u001b[39mexecute(driver_command, params)\n\u001b[0;32m    346\u001b[0m \u001b[38;5;28;01mif\u001b[39;00m response:\n\u001b[1;32m--> 347\u001b[0m     \u001b[38;5;28mself\u001b[39m\u001b[38;5;241m.\u001b[39merror_handler\u001b[38;5;241m.\u001b[39mcheck_response(response)\n\u001b[0;32m    348\u001b[0m     response[\u001b[38;5;124m\"\u001b[39m\u001b[38;5;124mvalue\u001b[39m\u001b[38;5;124m\"\u001b[39m] \u001b[38;5;241m=\u001b[39m \u001b[38;5;28mself\u001b[39m\u001b[38;5;241m.\u001b[39m_unwrap_value(response\u001b[38;5;241m.\u001b[39mget(\u001b[38;5;124m\"\u001b[39m\u001b[38;5;124mvalue\u001b[39m\u001b[38;5;124m\"\u001b[39m, \u001b[38;5;28;01mNone\u001b[39;00m))\n\u001b[0;32m    349\u001b[0m     \u001b[38;5;28;01mreturn\u001b[39;00m response\n",
      "File \u001b[1;32m~\\anaconda3\\Lib\\site-packages\\selenium\\webdriver\\remote\\errorhandler.py:229\u001b[0m, in \u001b[0;36mErrorHandler.check_response\u001b[1;34m(self, response)\u001b[0m\n\u001b[0;32m    227\u001b[0m         alert_text \u001b[38;5;241m=\u001b[39m value[\u001b[38;5;124m\"\u001b[39m\u001b[38;5;124malert\u001b[39m\u001b[38;5;124m\"\u001b[39m]\u001b[38;5;241m.\u001b[39mget(\u001b[38;5;124m\"\u001b[39m\u001b[38;5;124mtext\u001b[39m\u001b[38;5;124m\"\u001b[39m)\n\u001b[0;32m    228\u001b[0m     \u001b[38;5;28;01mraise\u001b[39;00m exception_class(message, screen, stacktrace, alert_text)  \u001b[38;5;66;03m# type: ignore[call-arg]  # mypy is not smart enough here\u001b[39;00m\n\u001b[1;32m--> 229\u001b[0m \u001b[38;5;28;01mraise\u001b[39;00m exception_class(message, screen, stacktrace)\n",
      "\u001b[1;31mElementNotInteractableException\u001b[0m: Message: element not interactable\n  (Session info: chrome=121.0.6167.185)\nStacktrace:\n\tGetHandleVerifier [0x00007FF691C37012+3522402]\n\t(No symbol) [0x00007FF691858352]\n\t(No symbol) [0x00007FF69170596D]\n\t(No symbol) [0x00007FF69174D3C6]\n\t(No symbol) [0x00007FF691741910]\n\t(No symbol) [0x00007FF69176F05A]\n\t(No symbol) [0x00007FF69174120A]\n\t(No symbol) [0x00007FF69176F270]\n\t(No symbol) [0x00007FF69178BDA3]\n\t(No symbol) [0x00007FF69176EE03]\n\t(No symbol) [0x00007FF69173F4D4]\n\t(No symbol) [0x00007FF6917405F1]\n\tGetHandleVerifier [0x00007FF691C69B9D+3730157]\n\tGetHandleVerifier [0x00007FF691CBF02D+4079485]\n\tGetHandleVerifier [0x00007FF691CB75D3+4048163]\n\tGetHandleVerifier [0x00007FF69198A649+718233]\n\t(No symbol) [0x00007FF691864A3F]\n\t(No symbol) [0x00007FF69185FA94]\n\t(No symbol) [0x00007FF69185FBC2]\n\t(No symbol) [0x00007FF69184F2E4]\n\tBaseThreadInitThunk [0x00007FFBF2D07344+20]\n\tRtlUserThreadStart [0x00007FFBF36026B1+33]\n"
     ]
    }
   ],
   "source": [
    "# 반복문 사용하여 여러번 더보기버튼 눌러주기\n",
    "for i in range(30):\n",
    "    btn_more = driver.find_element(By.CLASS_NAME,'c_05')\n",
    "    btn_more.click()\n",
    "\n",
    "# 반복을 진행할때 반드시 버튼의 위치를 찾아오는 코드도 반복해줘야한다"
   ]
  },
  {
   "cell_type": "markdown",
   "id": "1ec5ac78",
   "metadata": {},
   "source": [
    "### 예외처리\n",
    "- try, except문\n",
    "- try\n",
    "    - 에러가 나기전까지 실행할 부분을 try문에 작성\n",
    "- except\n",
    "    - 에러가 났을 경우 실행할 문장을 except문에 작성"
   ]
  },
  {
   "cell_type": "code",
   "execution_count": null,
   "id": "789d6ed4",
   "metadata": {},
   "outputs": [],
   "source": [
    "# try, except문 작성하는 이유\n",
    "# 코드 실행 시 에러가 나면 셀 전체가 실행되지 않은 상태가 됨\n",
    "# 에러가 나더라도 또다른 실행을 해주고 계속해서 아래코드를 실행\n",
    "try:\n",
    "    for i in range(30):\n",
    "        btn_more = driver.find_element(By.CLASS_NAME,'c_05')\n",
    "        btn_more.click()\n",
    "except:\n",
    "    print('클릭을 완료하였습니다')"
   ]
  },
  {
   "cell_type": "markdown",
   "id": "04c1d802",
   "metadata": {},
   "source": [
    "### 코드 중간중간에 쉬는시간을 주는 라이브러리\n",
    "- time"
   ]
  },
  {
   "cell_type": "code",
   "execution_count": null,
   "id": "cb618a5e",
   "metadata": {},
   "outputs": [],
   "source": [
    "import time\n",
    "# 주로 페이지가 새로고침 된 다음에 사용한다"
   ]
  },
  {
   "cell_type": "code",
   "execution_count": null,
   "id": "9f401e54",
   "metadata": {},
   "outputs": [],
   "source": [
    "try:\n",
    "    for i in range(30):\n",
    "        btn_more = driver.find_element(By.CLASS_NAME,'c_05')\n",
    "        btn_more.click()\n",
    "        time.sleep(1) # 1초\n",
    "except:\n",
    "    print('클릭을 완료하였습니다')"
   ]
  },
  {
   "cell_type": "markdown",
   "id": "146c96a3",
   "metadata": {},
   "source": [
    "### 코드 하나의 셀에 합쳐주기"
   ]
  },
  {
   "cell_type": "code",
   "execution_count": null,
   "id": "9ae39876",
   "metadata": {},
   "outputs": [],
   "source": [
    "# 라이브러리 불러오기\n",
    "from selenium import webdriver as wb # 통제, 제어\n",
    "from selenium.webdriver.common.keys import Keys # 입력, 컴퓨터용 키보드\n",
    "from selenium.webdriver.common.by import By # 구분\n",
    "import pandas as pd\n",
    "\n",
    "driver=wb.Chrome()\n",
    "driver.get('https://www.hsd.co.kr/menu/menu_list')\n",
    "\n",
    "try:\n",
    "    for i in range(30):\n",
    "        btn_more = driver.find_element(By.CLASS_NAME,'c_05')\n",
    "        btn_more.click()\n",
    "        time.sleep(1) # 1초\n",
    "except:\n",
    "    print('클릭을 완료하였습니다')\n",
    "    \n",
    "menu=driver.find_elements(By.CLASS_NAME,'h.fz_03')\n",
    "price=driver.find_elements(By.CLASS_NAME,'item-price')\n",
    "\n",
    "# 데이터 활용\n",
    "# 순수한 메뉴, 가격을 list에 담고 dictionary\n",
    "# DataFrame -> csv 파일로 내보내기\n",
    "menu_list= []\n",
    "price_list=[]\n",
    "for menu_i in menu:\n",
    "    menu_list.append(menu_i.text)\n",
    "for price_i in price:\n",
    "    price_list.append(price_i.text)\n",
    "price_list\n",
    "dic = {'메뉴':menu_list, '가격':price_list}\n",
    "hansot= pd.DataFrame(dic)\n",
    "hansot.to_csv('./data/한솥메뉴목록.csv',encoding='euc.kr')"
   ]
  },
  {
   "cell_type": "code",
   "execution_count": null,
   "id": "49ada604",
   "metadata": {},
   "outputs": [],
   "source": []
  },
  {
   "cell_type": "code",
   "execution_count": null,
   "id": "b73b545e",
   "metadata": {},
   "outputs": [],
   "source": [
    "# 네이버 메인페이지에서 > 키워드 검색 > 뉴스 탭선택 > 뉴스 제목 수집"
   ]
  },
  {
   "cell_type": "code",
   "execution_count": 21,
   "id": "afb73e03",
   "metadata": {},
   "outputs": [],
   "source": [
    "driver=wb.Chrome()"
   ]
  },
  {
   "cell_type": "code",
   "execution_count": 22,
   "id": "72a7d381",
   "metadata": {},
   "outputs": [],
   "source": [
    "driver.get('https://www.naver.com/')"
   ]
  },
  {
   "cell_type": "code",
   "execution_count": 23,
   "id": "ca4b2251",
   "metadata": {},
   "outputs": [],
   "source": [
    "search=driver.find_element(By.ID,'query')"
   ]
  },
  {
   "cell_type": "code",
   "execution_count": 24,
   "id": "c6c276eb",
   "metadata": {},
   "outputs": [],
   "source": [
    "search.send_keys('안녕')"
   ]
  },
  {
   "cell_type": "code",
   "execution_count": 25,
   "id": "bf4a6159",
   "metadata": {},
   "outputs": [],
   "source": [
    "search.send_keys(Keys.ENTER)"
   ]
  },
  {
   "cell_type": "code",
   "execution_count": null,
   "id": "d4a9788d",
   "metadata": {},
   "outputs": [],
   "source": [
    "news_tits=driver.find_elements(By.CLASS_NAME,'news_tit')\n",
    "for news_tit in news_tits:\n",
    "    print(news_tit.text)"
   ]
  },
  {
   "cell_type": "code",
   "execution_count": 30,
   "id": "214671b4",
   "metadata": {},
   "outputs": [],
   "source": [
    "nextbtn=driver.find_element(By.CSS_SELECTOR,'.btn_next._next>a')"
   ]
  },
  {
   "cell_type": "code",
   "execution_count": 32,
   "id": "d085d1f5",
   "metadata": {},
   "outputs": [],
   "source": [
    "nextbtn.click()"
   ]
  },
  {
   "cell_type": "code",
   "execution_count": 35,
   "id": "8d2491f1",
   "metadata": {},
   "outputs": [],
   "source": [
    "newsbtn=driver.find_element(By.CSS_SELECTOR,'div.api_flicking_wrap._conveyer_root>div:nth-child(9)>a:nth-child(1)')"
   ]
  },
  {
   "cell_type": "code",
   "execution_count": 36,
   "id": "91c86cbd",
   "metadata": {},
   "outputs": [],
   "source": [
    "newsbtn.click()"
   ]
  },
  {
   "cell_type": "code",
   "execution_count": 37,
   "id": "c68973a9",
   "metadata": {},
   "outputs": [],
   "source": [
    "news_tits=driver.find_elements(By.CLASS_NAME,'news_tit')"
   ]
  },
  {
   "cell_type": "code",
   "execution_count": 38,
   "id": "f73e4ea1",
   "metadata": {},
   "outputs": [
    {
     "name": "stdout",
     "output_type": "stream",
     "text": [
      "용띠해 마을 안녕 기원\n",
      "“리코, 핑코야 안녕!”…다이소, 모모레이 기획전\n",
      "정월대보름 앞두고 무사안녕 기원 제주 송당굿 봉행 [뉴시스Pic]\n",
      "\"안녕하세요\"\n",
      "'무사안녕·소원성취' 기원…영주시 정월대보름 행사 다채\n",
      "정선군, 제22회 풍년기원제 개최...군민 안녕과 풍년 농사 기원\n",
      "안내견 이제 안녕?\n",
      "동물들아 안녕?…자연·동물·음식으로 만나는 동화책\n",
      "봉준호 신작 '미키17', 내년으로 연기…올해 오스카는 안녕? [엑's 이슈]\n",
      "“안녕, 송혜교입니다”에 당했다…수백억 뜯은 ‘가짜 영상’ 정체\n"
     ]
    }
   ],
   "source": [
    "for news_i in news_tits:\n",
    "    print(news_i.text)"
   ]
  },
  {
   "cell_type": "code",
   "execution_count": 40,
   "id": "c6eeddbd",
   "metadata": {},
   "outputs": [],
   "source": [
    "# 탭의 순서가 바뀌게 되었을 경우에는 다른 탭을 클릭하게 되버림\n",
    "# 써져있는 텍스트를 통해서 찾기\n",
    "btn_news= driver.find_element(By.LINK_TEXT,'뉴스')\n",
    "btn_news.click()"
   ]
  },
  {
   "cell_type": "code",
   "execution_count": null,
   "id": "6583a118",
   "metadata": {},
   "outputs": [],
   "source": []
  },
  {
   "cell_type": "code",
   "execution_count": null,
   "id": "556ca49d",
   "metadata": {},
   "outputs": [],
   "source": []
  },
  {
   "cell_type": "code",
   "execution_count": null,
   "id": "e24ea1c2",
   "metadata": {},
   "outputs": [],
   "source": []
  },
  {
   "cell_type": "code",
   "execution_count": null,
   "id": "4ffb0192",
   "metadata": {},
   "outputs": [],
   "source": []
  },
  {
   "cell_type": "code",
   "execution_count": null,
   "id": "dbe04232",
   "metadata": {},
   "outputs": [],
   "source": []
  },
  {
   "cell_type": "code",
   "execution_count": null,
   "id": "b81034a7",
   "metadata": {},
   "outputs": [],
   "source": []
  },
  {
   "cell_type": "code",
   "execution_count": null,
   "id": "6063e2f9",
   "metadata": {},
   "outputs": [],
   "source": []
  },
  {
   "cell_type": "code",
   "execution_count": null,
   "id": "2776084a",
   "metadata": {},
   "outputs": [],
   "source": []
  },
  {
   "cell_type": "code",
   "execution_count": null,
   "id": "ee5d1f8d",
   "metadata": {},
   "outputs": [],
   "source": []
  },
  {
   "cell_type": "code",
   "execution_count": null,
   "id": "c7b9d2b4",
   "metadata": {},
   "outputs": [],
   "source": []
  },
  {
   "cell_type": "code",
   "execution_count": null,
   "id": "eb5db5be",
   "metadata": {},
   "outputs": [],
   "source": []
  },
  {
   "cell_type": "code",
   "execution_count": null,
   "id": "28296898",
   "metadata": {},
   "outputs": [],
   "source": []
  },
  {
   "cell_type": "code",
   "execution_count": null,
   "id": "750a7341",
   "metadata": {},
   "outputs": [],
   "source": []
  },
  {
   "cell_type": "code",
   "execution_count": null,
   "id": "9d010353",
   "metadata": {},
   "outputs": [],
   "source": []
  },
  {
   "cell_type": "code",
   "execution_count": null,
   "id": "8fc32ed1",
   "metadata": {},
   "outputs": [],
   "source": []
  },
  {
   "cell_type": "code",
   "execution_count": null,
   "id": "ceffc5b2",
   "metadata": {},
   "outputs": [],
   "source": []
  },
  {
   "cell_type": "code",
   "execution_count": null,
   "id": "0caa733e",
   "metadata": {},
   "outputs": [],
   "source": []
  },
  {
   "cell_type": "code",
   "execution_count": null,
   "id": "d97f781e",
   "metadata": {},
   "outputs": [],
   "source": []
  },
  {
   "cell_type": "code",
   "execution_count": null,
   "id": "59c84701",
   "metadata": {},
   "outputs": [],
   "source": []
  },
  {
   "cell_type": "code",
   "execution_count": null,
   "id": "f532c9d3",
   "metadata": {},
   "outputs": [],
   "source": []
  }
 ],
 "metadata": {
  "kernelspec": {
   "display_name": "Python 3 (ipykernel)",
   "language": "python",
   "name": "python3"
  },
  "language_info": {
   "codemirror_mode": {
    "name": "ipython",
    "version": 3
   },
   "file_extension": ".py",
   "mimetype": "text/x-python",
   "name": "python",
   "nbconvert_exporter": "python",
   "pygments_lexer": "ipython3",
   "version": "3.11.5"
  }
 },
 "nbformat": 4,
 "nbformat_minor": 5
}
