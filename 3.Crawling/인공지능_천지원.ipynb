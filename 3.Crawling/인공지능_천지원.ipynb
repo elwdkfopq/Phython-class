{
 "cells": [
  {
   "cell_type": "markdown",
   "id": "c523871a",
   "metadata": {},
   "source": [
    "## Crawling 시험 답안지(Crawling submission)\n",
    "- 파일명에 본인 성명 기입하시오(Enter your name in the file name.)\n",
    "- 수업 중 배웠던 내용을 상기하여 최선을 다해 문제 풀어주세요.(Recall what you learned in class and do your best to solve the problem.)"
   ]
  },
  {
   "cell_type": "markdown",
   "id": "978f5e40",
   "metadata": {},
   "source": [
    "Question 1. 다음 아래의 문제를 읽고 답을 서술하시오. \n",
    " - 문제1) 다음은 빅데이터 수집방식에 대한 설명이다. 빈 칸에 알맞은 방식을 고르시오."
   ]
  },
  {
   "cell_type": "code",
   "execution_count": null,
   "id": "36417c56",
   "metadata": {},
   "outputs": [],
   "source": [
    "#  ➀ - a\n",
    "#  ➁ - f\n",
    "#  ➂ - d\n",
    "#  ④ - h"
   ]
  },
  {
   "cell_type": "markdown",
   "id": "c094ed70",
   "metadata": {},
   "source": [
    " - 문제2) 크롤링의 개념과 필요성에 대해 서술하시오."
   ]
  },
  {
   "cell_type": "code",
   "execution_count": null,
   "id": "4ce2442a",
   "metadata": {},
   "outputs": [],
   "source": [
    "크롤링은 웹 페이지를 그대로 가져와서 거기서 데이터를 추출해 내는 행위다. 크롤링을 하면 필요한 정보를 가져오는 과정을 자동화하여 빠르게 정보를 수집할 수 있다"
   ]
  },
  {
   "cell_type": "markdown",
   "id": "a53a2661",
   "metadata": {},
   "source": [
    " - 문제3)  BeautifulSoup모듈에 대해 서술하시오."
   ]
  },
  {
   "cell_type": "code",
   "execution_count": null,
   "id": "6ffa7334",
   "metadata": {},
   "outputs": [],
   "source": [
    "가져온 페이지의 코드를 컴퓨터가 알아들을 수 있는 언어로 변경해 준다."
   ]
  },
  {
   "cell_type": "markdown",
   "id": "c2c5a39d",
   "metadata": {},
   "source": [
    " - 문제4) 다음 두 보기의 차이를 설명하시오."
   ]
  },
  {
   "cell_type": "code",
   "execution_count": null,
   "id": "92574642",
   "metadata": {},
   "outputs": [],
   "source": [
    "#  ➀ find_element(By.CSS_SELECTOR) : \n",
    "하나의 웹 요소를 반환\n",
    "#   ➁ find_elements(By.CSS_SELECTOR) : \n",
    "조건에 일치하는 모든 웹 요소를 리스트 형태로 반환"
   ]
  },
  {
   "attachments": {
    "image-2.png": {
     "image/png": "[encoded data removed]"
    }
   },
   "cell_type": "markdown",
   "id": "d5e4819c",
   "metadata": {},
   "source": [
    " - 문제5) 다음은 HTML코드로 이루어진 웹 페이지이다. 밑줄 그어진 부분을 BeautifulSoup모듈의 함수를 이용하여 텍스트만 수집할 수 있는 코드를 빈칸에 작성하시오.\n",
    " ![image-2.png](attachment:image-2.png)"
   ]
  },
  {
   "cell_type": "code",
   "execution_count": null,
   "id": "2b85c072",
   "metadata": {},
   "outputs": [],
   "source": [
    "#  ➀ span#this_span\n",
    "#  ➁ text"
   ]
  },
  {
   "cell_type": "markdown",
   "id": "38bd2869",
   "metadata": {},
   "source": [
    "----"
   ]
  },
  {
   "cell_type": "markdown",
   "id": "118a3916",
   "metadata": {},
   "source": [
    "Question 2. 다음 문제를 읽고 알맞은 코드를 작성하시오.\n",
    " - 문제2)  자동제어를 통해 네이버 홈페이지에 접속하고 ‘크롤링’를 입력하여 검색하는 수집시스템을 구축하시오.  \n",
    "        * 페이지주소: https://www.naver.com/ \n",
    "        * 현재 주소에 띄워진 데이터를 수집하세요 (아래 이미지와 다를수있습니다)"
   ]
  },
  {
   "cell_type": "code",
   "execution_count": 2,
   "id": "1c27aacb",
   "metadata": {},
   "outputs": [],
   "source": [
    "# 라이브러리 불러오기\n",
    "from selenium import webdriver as wb\n",
    "\n",
    "from selenium.webdriver.common.keys import Keys\n",
    "\n",
    "from selenium.webdriver.common.by import By"
   ]
  },
  {
   "cell_type": "code",
   "execution_count": 3,
   "id": "29bb08f6",
   "metadata": {},
   "outputs": [],
   "source": [
    "driver=wb.Chrome()\n",
    "driver.get('https://www.naver.com/')"
   ]
  },
  {
   "cell_type": "code",
   "execution_count": 4,
   "id": "bb0def68",
   "metadata": {},
   "outputs": [],
   "source": [
    "search = driver.find_element(By.ID,'query')\n",
    "search.send_keys('크롤링')\n",
    "search.send_keys(Keys.ENTER)"
   ]
  },
  {
   "cell_type": "code",
   "execution_count": 5,
   "id": "8816d027",
   "metadata": {},
   "outputs": [
    {
     "name": "stdout",
     "output_type": "stream",
     "text": [
      "비즈니스 데이터 플랫폼 쿠콘\n",
      "국내 최대 API스토어\n",
      "국비무료 연세IT미래교육원\n",
      "100% 취업연계 실무교육\n",
      "전액 국비지원 훈련비 0원!\n",
      "고전력전용 코로케이션\n",
      "원하는전력제공\n",
      "다대역IP무상제공\n",
      "API 플랫폼 데이터허브\n",
      "비즈니스 데이터 전문 플랫폼\n",
      "스크래핑 전문기업\n",
      "인포텍코퍼레이션(주)\n",
      "메가스터디 IT 크롤링\n",
      "웹개발 100% 국비전액지원\n",
      "IT 프로젝트는 위시켓에서\n",
      "국내1위 IT아웃소싱 플랫폼\n",
      "크롤링\n",
      "크롤링\n"
     ]
    }
   ],
   "source": [
    "link_title=driver.find_elements(By.CLASS_NAME,'lnk_tit')\n",
    "for link_title_i in link_title:\n",
    "    print(link_title_i.text)"
   ]
  },
  {
   "cell_type": "code",
   "execution_count": null,
   "id": "c4ebc143",
   "metadata": {},
   "outputs": [],
   "source": []
  },
  {
   "cell_type": "markdown",
   "id": "7aac867a",
   "metadata": {},
   "source": [
    "----"
   ]
  },
  {
   "cell_type": "markdown",
   "id": "1ec3b815",
   "metadata": {},
   "source": [
    "Question 3. 다음 문제를 읽고 알맞은 코드를 작성하시오.\n",
    " - 문제3) 자동제어를 통해 G마켓 홈페이지에 접속하고, 조건에 맞는 수집프로그램을 만드시오.\n",
    "        * 페이지주소: http://corners.gmarket.co.kr/Bestsellers \n",
    "        * 현재 주소에 띄워진 데이터를 수집하세요 (아래 이미지와 다를 수 있습니다)"
   ]
  },
  {
   "cell_type": "code",
   "execution_count": 8,
   "id": "557a0f9b",
   "metadata": {},
   "outputs": [],
   "source": [
    "import time"
   ]
  },
  {
   "cell_type": "code",
   "execution_count": 43,
   "id": "c2b2d04b",
   "metadata": {},
   "outputs": [],
   "source": [
    "# 1. G마켓 Best 1~20위까지 제목과 가격을 수집하는 프로그램을 만드시오.\n",
    "driver=wb.Chrome()\n",
    "driver.get('http://corners.gmarket.co.kr/Bestsellers')"
   ]
  },
  {
   "cell_type": "code",
   "execution_count": 48,
   "id": "8bd8150a",
   "metadata": {},
   "outputs": [
    {
     "ename": "NoSuchElementException",
     "evalue": "Message: no such element: Unable to locate element: {\"method\":\"css selector\",\"selector\":\"#itemcase_basic > div.box__item-title > h1\"}\n  (Session info: chrome=121.0.6167.185); For documentation on this error, please visit: https://www.selenium.dev/documentation/webdriver/troubleshooting/errors#no-such-element-exception\nStacktrace:\n\tGetHandleVerifier [0x00007FF6ADA97012+3522402]\n\t(No symbol) [0x00007FF6AD6B8352]\n\t(No symbol) [0x00007FF6AD565ABB]\n\t(No symbol) [0x00007FF6AD5ABF0E]\n\t(No symbol) [0x00007FF6AD5AC08C]\n\t(No symbol) [0x00007FF6AD5EE437]\n\t(No symbol) [0x00007FF6AD5CF09F]\n\t(No symbol) [0x00007FF6AD5EBDA3]\n\t(No symbol) [0x00007FF6AD5CEE03]\n\t(No symbol) [0x00007FF6AD59F4D4]\n\t(No symbol) [0x00007FF6AD5A05F1]\n\tGetHandleVerifier [0x00007FF6ADAC9B9D+3730157]\n\tGetHandleVerifier [0x00007FF6ADB1F02D+4079485]\n\tGetHandleVerifier [0x00007FF6ADB175D3+4048163]\n\tGetHandleVerifier [0x00007FF6AD7EA649+718233]\n\t(No symbol) [0x00007FF6AD6C4A3F]\n\t(No symbol) [0x00007FF6AD6BFA94]\n\t(No symbol) [0x00007FF6AD6BFBC2]\n\t(No symbol) [0x00007FF6AD6AF2E4]\n\tBaseThreadInitThunk [0x00007FFEFF3B7344+20]\n\tRtlUserThreadStart [0x00007FFF012A26B1+33]\n",
     "output_type": "error",
     "traceback": [
      "\u001b[1;31m---------------------------------------------------------------------------\u001b[0m",
      "\u001b[1;31mNoSuchElementException\u001b[0m                    Traceback (most recent call last)",
      "Cell \u001b[1;32mIn[48], line 8\u001b[0m\n\u001b[0;32m      5\u001b[0m item\u001b[38;5;241m.\u001b[39mclick()\n\u001b[0;32m      6\u001b[0m time\u001b[38;5;241m.\u001b[39msleep(\u001b[38;5;241m1\u001b[39m)\n\u001b[1;32m----> 8\u001b[0m item_title\u001b[38;5;241m=\u001b[39mdriver\u001b[38;5;241m.\u001b[39mfind_element(By\u001b[38;5;241m.\u001b[39mCSS_SELECTOR,\u001b[38;5;124m\"\u001b[39m\u001b[38;5;124m#itemcase_basic > div.box__item-title > h1\u001b[39m\u001b[38;5;124m\"\u001b[39m)\u001b[38;5;241m.\u001b[39mtext\n\u001b[0;32m      9\u001b[0m title_list\u001b[38;5;241m.\u001b[39mappend(item_title)\n\u001b[0;32m     10\u001b[0m item_price\u001b[38;5;241m=\u001b[39mdriver\u001b[38;5;241m.\u001b[39mfind_element(By\u001b[38;5;241m.\u001b[39mCSS_SELECTOR,\u001b[38;5;124m'\u001b[39m\u001b[38;5;124m#itemcase_basic > div.box__item-title > div.price > span:nth-child(2) > strong\u001b[39m\u001b[38;5;124m'\u001b[39m)\u001b[38;5;241m.\u001b[39mtext\n",
      "File \u001b[1;32m~\\anaconda3\\Lib\\site-packages\\selenium\\webdriver\\remote\\webdriver.py:741\u001b[0m, in \u001b[0;36mWebDriver.find_element\u001b[1;34m(self, by, value)\u001b[0m\n\u001b[0;32m    738\u001b[0m     by \u001b[38;5;241m=\u001b[39m By\u001b[38;5;241m.\u001b[39mCSS_SELECTOR\n\u001b[0;32m    739\u001b[0m     value \u001b[38;5;241m=\u001b[39m \u001b[38;5;124mf\u001b[39m\u001b[38;5;124m'\u001b[39m\u001b[38;5;124m[name=\u001b[39m\u001b[38;5;124m\"\u001b[39m\u001b[38;5;132;01m{\u001b[39;00mvalue\u001b[38;5;132;01m}\u001b[39;00m\u001b[38;5;124m\"\u001b[39m\u001b[38;5;124m]\u001b[39m\u001b[38;5;124m'\u001b[39m\n\u001b[1;32m--> 741\u001b[0m \u001b[38;5;28;01mreturn\u001b[39;00m \u001b[38;5;28mself\u001b[39m\u001b[38;5;241m.\u001b[39mexecute(Command\u001b[38;5;241m.\u001b[39mFIND_ELEMENT, {\u001b[38;5;124m\"\u001b[39m\u001b[38;5;124musing\u001b[39m\u001b[38;5;124m\"\u001b[39m: by, \u001b[38;5;124m\"\u001b[39m\u001b[38;5;124mvalue\u001b[39m\u001b[38;5;124m\"\u001b[39m: value})[\u001b[38;5;124m\"\u001b[39m\u001b[38;5;124mvalue\u001b[39m\u001b[38;5;124m\"\u001b[39m]\n",
      "File \u001b[1;32m~\\anaconda3\\Lib\\site-packages\\selenium\\webdriver\\remote\\webdriver.py:347\u001b[0m, in \u001b[0;36mWebDriver.execute\u001b[1;34m(self, driver_command, params)\u001b[0m\n\u001b[0;32m    345\u001b[0m response \u001b[38;5;241m=\u001b[39m \u001b[38;5;28mself\u001b[39m\u001b[38;5;241m.\u001b[39mcommand_executor\u001b[38;5;241m.\u001b[39mexecute(driver_command, params)\n\u001b[0;32m    346\u001b[0m \u001b[38;5;28;01mif\u001b[39;00m response:\n\u001b[1;32m--> 347\u001b[0m     \u001b[38;5;28mself\u001b[39m\u001b[38;5;241m.\u001b[39merror_handler\u001b[38;5;241m.\u001b[39mcheck_response(response)\n\u001b[0;32m    348\u001b[0m     response[\u001b[38;5;124m\"\u001b[39m\u001b[38;5;124mvalue\u001b[39m\u001b[38;5;124m\"\u001b[39m] \u001b[38;5;241m=\u001b[39m \u001b[38;5;28mself\u001b[39m\u001b[38;5;241m.\u001b[39m_unwrap_value(response\u001b[38;5;241m.\u001b[39mget(\u001b[38;5;124m\"\u001b[39m\u001b[38;5;124mvalue\u001b[39m\u001b[38;5;124m\"\u001b[39m, \u001b[38;5;28;01mNone\u001b[39;00m))\n\u001b[0;32m    349\u001b[0m     \u001b[38;5;28;01mreturn\u001b[39;00m response\n",
      "File \u001b[1;32m~\\anaconda3\\Lib\\site-packages\\selenium\\webdriver\\remote\\errorhandler.py:229\u001b[0m, in \u001b[0;36mErrorHandler.check_response\u001b[1;34m(self, response)\u001b[0m\n\u001b[0;32m    227\u001b[0m         alert_text \u001b[38;5;241m=\u001b[39m value[\u001b[38;5;124m\"\u001b[39m\u001b[38;5;124malert\u001b[39m\u001b[38;5;124m\"\u001b[39m]\u001b[38;5;241m.\u001b[39mget(\u001b[38;5;124m\"\u001b[39m\u001b[38;5;124mtext\u001b[39m\u001b[38;5;124m\"\u001b[39m)\n\u001b[0;32m    228\u001b[0m     \u001b[38;5;28;01mraise\u001b[39;00m exception_class(message, screen, stacktrace, alert_text)  \u001b[38;5;66;03m# type: ignore[call-arg]  # mypy is not smart enough here\u001b[39;00m\n\u001b[1;32m--> 229\u001b[0m \u001b[38;5;28;01mraise\u001b[39;00m exception_class(message, screen, stacktrace)\n",
      "\u001b[1;31mNoSuchElementException\u001b[0m: Message: no such element: Unable to locate element: {\"method\":\"css selector\",\"selector\":\"#itemcase_basic > div.box__item-title > h1\"}\n  (Session info: chrome=121.0.6167.185); For documentation on this error, please visit: https://www.selenium.dev/documentation/webdriver/troubleshooting/errors#no-such-element-exception\nStacktrace:\n\tGetHandleVerifier [0x00007FF6ADA97012+3522402]\n\t(No symbol) [0x00007FF6AD6B8352]\n\t(No symbol) [0x00007FF6AD565ABB]\n\t(No symbol) [0x00007FF6AD5ABF0E]\n\t(No symbol) [0x00007FF6AD5AC08C]\n\t(No symbol) [0x00007FF6AD5EE437]\n\t(No symbol) [0x00007FF6AD5CF09F]\n\t(No symbol) [0x00007FF6AD5EBDA3]\n\t(No symbol) [0x00007FF6AD5CEE03]\n\t(No symbol) [0x00007FF6AD59F4D4]\n\t(No symbol) [0x00007FF6AD5A05F1]\n\tGetHandleVerifier [0x00007FF6ADAC9B9D+3730157]\n\tGetHandleVerifier [0x00007FF6ADB1F02D+4079485]\n\tGetHandleVerifier [0x00007FF6ADB175D3+4048163]\n\tGetHandleVerifier [0x00007FF6AD7EA649+718233]\n\t(No symbol) [0x00007FF6AD6C4A3F]\n\t(No symbol) [0x00007FF6AD6BFA94]\n\t(No symbol) [0x00007FF6AD6BFBC2]\n\t(No symbol) [0x00007FF6AD6AF2E4]\n\tBaseThreadInitThunk [0x00007FFEFF3B7344+20]\n\tRtlUserThreadStart [0x00007FFF012A26B1+33]\n"
     ]
    }
   ],
   "source": [
    "title_list=[]\n",
    "price_list=[]\n",
    "for i in range(20):\n",
    "    item= driver.find_elements(By.CLASS_NAME,'image__lazy.image__load')[i]\n",
    "    item.click()\n",
    "    time.sleep(1)\n",
    "    \n",
    "    item_title=driver.find_element(By.CSS_SELECTOR,\"#itemcase_basic > div.box__item-title > h1\").text\n",
    "    title_list.append(item_title)\n",
    "    item_price=driver.find_element(By.CSS_SELECTOR,'#itemcase_basic > div.box__item-title > div.price > span:nth-child(2) > strong').text\n",
    "    price_list.append(item_price)\n",
    "    \n",
    "    dic={\"제목\":title_list,\"가격\":price_list}\n",
    "\n"
   ]
  },
  {
   "cell_type": "code",
   "execution_count": 13,
   "id": "4ffad1dd",
   "metadata": {},
   "outputs": [
    {
     "data": {
      "text/plain": [
       "<selenium.webdriver.remote.webelement.WebElement (session=\"098cc5a6e7c643a3b73dece1add10904\", element=\"0B723D92A2D0CF346F57AB41E9E4ADA5_element_1079\")>"
      ]
     },
     "execution_count": 13,
     "metadata": {},
     "output_type": "execute_result"
    }
   ],
   "source": []
  },
  {
   "cell_type": "code",
   "execution_count": 15,
   "id": "6ae121b3",
   "metadata": {},
   "outputs": [],
   "source": [
    "import pandas as pd"
   ]
  },
  {
   "cell_type": "code",
   "execution_count": 16,
   "id": "0a6304d1",
   "metadata": {},
   "outputs": [
    {
     "data": {
      "text/html": [
       "<div>\n",
       "<style scoped>\n",
       "    .dataframe tbody tr th:only-of-type {\n",
       "        vertical-align: middle;\n",
       "    }\n",
       "\n",
       "    .dataframe tbody tr th {\n",
       "        vertical-align: top;\n",
       "    }\n",
       "\n",
       "    .dataframe thead th {\n",
       "        text-align: right;\n",
       "    }\n",
       "</style>\n",
       "<table border=\"1\" class=\"dataframe\">\n",
       "  <thead>\n",
       "    <tr style=\"text-align: right;\">\n",
       "      <th></th>\n",
       "      <th>제목</th>\n",
       "      <th>가격</th>\n",
       "    </tr>\n",
       "  </thead>\n",
       "  <tbody>\n",
       "    <tr>\n",
       "      <th>0</th>\n",
       "      <td>(15%+5%쿠폰) 브이빈 겨울마감+봄맞이 BEST신상 데일리룩/가디건/니트/자켓/...</td>\n",
       "      <td>10,000원</td>\n",
       "    </tr>\n",
       "  </tbody>\n",
       "</table>\n",
       "</div>"
      ],
      "text/plain": [
       "                                                  제목       가격\n",
       "0  (15%+5%쿠폰) 브이빈 겨울마감+봄맞이 BEST신상 데일리룩/가디건/니트/자켓/...  10,000원"
      ]
     },
     "execution_count": 16,
     "metadata": {},
     "output_type": "execute_result"
    }
   ],
   "source": [
    "# 2. 수집한 데이터를 DataFrame으로 만드시오.\n",
    "info=pd.DataFrame(dic)\n",
    "info"
   ]
  },
  {
   "cell_type": "code",
   "execution_count": null,
   "id": "42bb5ce8",
   "metadata": {},
   "outputs": [],
   "source": []
  },
  {
   "cell_type": "code",
   "execution_count": null,
   "id": "59abcfdd",
   "metadata": {},
   "outputs": [],
   "source": []
  },
  {
   "cell_type": "code",
   "execution_count": null,
   "id": "f07f4391",
   "metadata": {},
   "outputs": [],
   "source": []
  },
  {
   "cell_type": "markdown",
   "id": "73e85d60",
   "metadata": {},
   "source": [
    "----"
   ]
  },
  {
   "cell_type": "markdown",
   "id": "f99c6d6c",
   "metadata": {},
   "source": [
    "Question 4. 다음 문제를 읽고 알맞은 코드를 작성하시오.\n",
    " - 문제4) 멜론차트에서 1~100위까지 정보를 수집하는 프로그램을 작성하시오.\n",
    "        * 페이지주소: https://www.melon.com/chart/ \n",
    "        * 현재 주소에 띄워진 데이터를 수집하세요 (아래 이미지와 다를수있습니다)\n",
    "        \n",
    "    <조건>\n",
    "     1. 수집할 정보는 곡정보에 있는 곡명과 가수명 이다.\n",
    "     2. pandas의 DataFrame형태로 ‘순위’를 기준으로 결과를 출력하여야 한다.\n",
    "     3. csv파일로 한글이 깨지지 않게 저장할 수 있는 코드를 작성하여야 한다.  \n",
    "       ※ 순위는 생성해야 한다.  \n",
    "       ※ csv파일은 제출할 필요가 없다(코드만 작성)"
   ]
  },
  {
   "cell_type": "code",
   "execution_count": 38,
   "id": "4f3f0fc9",
   "metadata": {},
   "outputs": [],
   "source": [
    "driver=wb.Chrome()\n",
    "driver.get('https://www.melon.com/chart/')"
   ]
  },
  {
   "cell_type": "code",
   "execution_count": 39,
   "id": "31dccf6b",
   "metadata": {},
   "outputs": [
    {
     "name": "stdout",
     "output_type": "stream",
     "text": [
      "['밤양갱', 'Love wins all', '첫 만남은 계획대로 되지 않아', 'To. X', '비의 랩소디', '홀씨', 'EASY', 'Love 119', 'Shopper', 'Perfect Night', '에피소드', '그대만 있다면 (여름날 우리 X 너드커넥션 (Nerd Connection))', 'Drama', '헤어지자 말해요', 'Super Lady', 'Wife', '인사', '사랑은 늘 도망가', '꿈', 'Seven (feat. Latto) - Clean Ver.', '나는 아픈 건 딱 질색이니까', 'MANIAC', 'I AM', '모래 알갱이', 'Get A Guitar', '우리들의 블루스', 'Do or Die', 'Love Lee', '다시 만날 수 있을까', '너의 모든 순간', 'Baddie', '예뻤어', '이제 나만 믿어요', 'You & Me', '사막에서 꽃을 피우듯', '관객이 될게 (I stan U)', '무지개', '한 페이지가 될 수 있게', '퀸카 (Queencard)', 'Shh.. (Feat. 혜인(HYEIN), 조원선 & Special Narr. 패티김)', 'Super Shy', 'London Boy', '잘 지내자, 우리 (여름날 우리 X 로이킴)', '아버지', 'Hype Boy', 'Polaroid', 'Ditto', '인생찬가', '후라이의 꿈', '사랑인가 봐', 'ETA', '천상연', 'A bientot', 'Standing Next to You', '사건의 지평선', '어떻게 이별까지 사랑하겠어, 널 사랑하는 거지', '기억해줘요 내 모든 날과 그때를', 'Spicy', 'Yes or No (Feat. 허윤진 of LE SSERAFIM, Crush)', '사랑할 수밖에', '심(心)', '사랑하지 않아서 그랬어', '연애편지', '취중고백', '그대가 내 안에 박혔다(그내박)', '모든 날, 모든 순간 (Every day, Every Moment)', '별 떨어진다 (I Do)', \"I Don't Think That I Like Her\", '이브, 프시케 그리고 푸른 수염의 아내', 'LOVE DIVE', '봄날', '첫 눈', '손오공', '주저하는 연인들을 위해', 'Dynamite', 'Kitsch', '사랑..그게 뭔데', '음악의 신', '해요 (2022)', '파이팅 해야지 (Feat. 이영지)', 'Steal The Show (From “엘리멘탈”)', 'OMG', '물론', 'After LIKE', '그대가 있는 곳, 언제 어디든', '다정히 내 이름을 부르면', 'Dangerously', 'Discord', 'Fast Forward', 'UNFORGIVEN (feat. Nile Rodgers)', '건물 사이에 피어난 장미 (Rose Blossom)', 'Butter', 'Attention', 'Merry PLLIstmas', 'Bubble', '여섯 번째 여름', 'I Love You', '나에게 그대만이', 'Smoke (Prod. Dynamicduo, Padi)', '그중에 그대를 만나']\n",
      "['비비 (BIBI)', '아이유', 'TWS (투어스)', '태연 (TAEYEON)', '임재현', '아이유', 'LE SSERAFIM (르세라핌)', 'RIIZE', '아이유', 'LE SSERAFIM (르세라핌)', '이무진', '너드커넥션 (Nerd Connection)', 'aespa', '박재정', '(여자)아이들', '(여자)아이들', '범진', '임영웅', '태연 (TAEYEON)', '정국', '(여자)아이들', 'VIVIZ (비비지)', 'IVE (아이브)', '임영웅', 'RIIZE', '임영웅', '임영웅', 'AKMU (악뮤)', '임영웅', '성시경', 'IVE (아이브)', 'DAY6 (데이식스)', '임영웅', '제니 (JENNIE)', '우디 (Woody)', '아이유', '임영웅', 'DAY6 (데이식스)', '(여자)아이들', '아이유', 'NewJeans', '임영웅', '로이킴', '임영웅', 'NewJeans', '임영웅', 'NewJeans', '임영웅', 'AKMU (악뮤)', '멜로망스', 'NewJeans', '이창섭', '임영웅', '정국', '윤하 (YOUNHA)', 'AKMU (악뮤)', '화곡동 청개구리', 'aespa', '그루비룸 (GroovyRoom)', '볼빨간사춘기', 'DK(디셈버)', '임한별', '임영웅', '김민석', '순순희(기태)', '폴킴', '디오 (D.O.)', 'Charlie Puth', 'LE SSERAFIM (르세라핌)', 'IVE (아이브)', '방탄소년단', 'EXO', '세븐틴 (SEVENTEEN)', '잔나비', '방탄소년단', 'IVE (아이브)', '지아', '세븐틴 (SEVENTEEN)', '#안녕', '부석순 (SEVENTEEN)', 'Lauv', 'NewJeans', '허각', 'IVE (아이브)', '로이킴', '경서예지, 전건호', 'Charlie Puth', 'QWER', '전소미', 'LE SSERAFIM (르세라핌)', 'H1-KEY (하이키)', '방탄소년단', 'NewJeans', 'PLAVE', 'STAYC(스테이씨)', 'PLAVE', '안세하', '탑현', '다이나믹 듀오, 이영지', '김호중']\n"
     ]
    }
   ],
   "source": [
    "title_list=[]\n",
    "singer_list=[]\n",
    "rank_list=[]\n",
    "title=driver.find_elements(By.CSS_SELECTOR,'div.ellipsis.rank01>span>a')\n",
    "singer=driver.find_elements(By.CSS_SELECTOR,'div.ellipsis.rank02')\n",
    "for i in range(len(title)):\n",
    "    title_list.append(title[i].text)\n",
    "    singer_list.append(singer[i].text)\n",
    "    rank_list.append(i+1)\n",
    "print(title_list)\n",
    "print(singer_list)"
   ]
  },
  {
   "cell_type": "code",
   "execution_count": 41,
   "id": "8e33f28b",
   "metadata": {},
   "outputs": [],
   "source": [
    "dic={\"제목\":title_list,\"가수\":singer_list,'순위':rank_list}\n",
    "melon=pd.DataFrame(dic)\n",
    "melon.set_index('순위',inplace=True)"
   ]
  },
  {
   "cell_type": "code",
   "execution_count": 42,
   "id": "74749ac2",
   "metadata": {},
   "outputs": [],
   "source": [
    "melon.to_csv('./data/멜론차트.csv')"
   ]
  },
  {
   "cell_type": "code",
   "execution_count": null,
   "id": "19c553ca",
   "metadata": {},
   "outputs": [],
   "source": []
  },
  {
   "cell_type": "markdown",
   "id": "7e1a1904",
   "metadata": {},
   "source": [
    "----"
   ]
  },
  {
   "cell_type": "markdown",
   "id": "5ad197d6",
   "metadata": {},
   "source": [
    "Question 5. 다음 문제를 읽고 알맞은 코드를 작성하시오.\n",
    " - 문제5) 자동제어를 통해 한솥 페이지에 접속하고 전체 메뉴의 메뉴명 가격정보를 수집할 수 있는 프로그램을 작성하세요 \n",
    "    * 페이지주소: https://www.hsd.co.kr/menu/menu_list\n",
    "    * 현재 주소에 띄워진 데이터를 수집하세요 (아래 이미지와 다를 수 있습니다)\n",
    "        \n",
    "    <조건>\n",
    "       1. 수집할 정보는 전체 메뉴의 메뉴명, 가격정보 이다.\n",
    "       2. pandas의 DataFrame형태로 결과를 출력하여야 한다.\n",
    "       3. csv파일로 한글이 깨지지 않게 저장할 수 있는 코드를 작성하여야 한다.\n",
    "        ※ 코드를 실행했을 때 더보기 버튼을 끝까지 누른 후 정보를 수집해야 한다.\n",
    "        ※ csv파일은 제출할 필요가 없다(코드만 작성)."
   ]
  },
  {
   "cell_type": "code",
   "execution_count": 29,
   "id": "35c9ce2e",
   "metadata": {},
   "outputs": [],
   "source": [
    "driver=wb.Chrome()\n",
    "driver.get('https://www.hsd.co.kr/menu/menu_list')"
   ]
  },
  {
   "cell_type": "code",
   "execution_count": 30,
   "id": "d9bbc911",
   "metadata": {},
   "outputs": [
    {
     "name": "stdout",
     "output_type": "stream",
     "text": [
      "클릭을 완료하였습니다\n"
     ]
    }
   ],
   "source": [
    "try:\n",
    "    for i in range(30):\n",
    "        btn_more = driver.find_element(By.CLASS_NAME,'c_05')\n",
    "        btn_more.click()\n",
    "except:\n",
    "    print('클릭을 완료하였습니다')"
   ]
  },
  {
   "cell_type": "code",
   "execution_count": 31,
   "id": "9b534b63",
   "metadata": {},
   "outputs": [],
   "source": [
    "menu_list=[]\n",
    "price_list=[]\n",
    "\n",
    "menu_name=driver.find_elements(By.CLASS_NAME,'h fz_03')\n",
    "price=driver.find_elements(By.CLASS_NAME,'item-price')\n",
    "for i in range(len(menu_name)):\n",
    "    menu_list.append(menu_name[i].text)\n",
    "    price_list.append(price_list[i].text)"
   ]
  },
  {
   "cell_type": "code",
   "execution_count": 35,
   "id": "fc173e76",
   "metadata": {},
   "outputs": [],
   "source": [
    "dic={\"메뉴\":menu_list,\"가격\":price_list}\n",
    "hansot=pd.DataFrame(dic)\n",
    "hansot.to_csv('./data/한솥.csv')"
   ]
  },
  {
   "cell_type": "code",
   "execution_count": null,
   "id": "ca5d7cf9",
   "metadata": {},
   "outputs": [],
   "source": []
  }
 ],
 "metadata": {
  "kernelspec": {
   "display_name": "Python 3 (ipykernel)",
   "language": "python",
   "name": "python3"
  },
  "language_info": {
   "codemirror_mode": {
    "name": "ipython",
    "version": 3
   },
   "file_extension": ".py",
   "mimetype": "text/x-python",
   "name": "python",
   "nbconvert_exporter": "python",
   "pygments_lexer": "ipython3",
   "version": "3.11.5"
  },
  "toc": {
   "base_numbering": 1,
   "nav_menu": {},
   "number_sections": true,
   "sideBar": true,
   "skip_h1_title": false,
   "title_cell": "Table of Contents",
   "title_sidebar": "Contents",
   "toc_cell": false,
   "toc_position": {},
   "toc_section_display": true,
   "toc_window_display": false
  },
  "varInspector": {
   "cols": {
    "lenName": 16,
    "lenType": 16,
    "lenVar": 40
   },
   "kernels_config": {
    "python": {
     "delete_cmd_postfix": "",
     "delete_cmd_prefix": "del ",
     "library": "var_list.py",
     "varRefreshCmd": "print(var_dic_list())"
    },
    "r": {
     "delete_cmd_postfix": ") ",
     "delete_cmd_prefix": "rm(",
     "library": "var_list.r",
     "varRefreshCmd": "cat(var_dic_list()) "
    }
   },
   "types_to_exclude": [
    "module",
    "function",
    "builtin_function_or_method",
    "instance",
    "_Feature"
   ],
   "window_display": false
  }
 },
 "nbformat": 4,
 "nbformat_minor": 5
}
