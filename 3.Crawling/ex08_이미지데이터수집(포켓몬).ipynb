{
 "cells": [
  {
   "cell_type": "markdown",
   "id": "8537c527",
   "metadata": {},
   "source": [
    "### 이미지 데이터 수집 후 저장\n",
    "- 이미지를 수집한 후 저장하는 실습\n",
    "- 폴더생성하는 작업 또한 자동화"
   ]
  },
  {
   "cell_type": "code",
   "execution_count": 5,
   "id": "6dab09cb",
   "metadata": {},
   "outputs": [],
   "source": [
    "# 라이브러리 불러오기\n",
    "from selenium import webdriver as wb\n",
    "from selenium.webdriver.common.keys import Keys\n",
    "from selenium.webdriver.common.by import By\n",
    "import pandas as pd\n",
    "import time # 쉬는시간\n",
    "from tqdm import tqdm # 반복상황 로딩바로 출력\n",
    "\n",
    "# 이미지 저장을 위한 라이브러리\n",
    "# 수집 (src 정보를 수집 > 컴퓨터에 이미지로 저장해주는 라이브러리)\n",
    "from urllib.request import urlretrieve\n",
    "# 파일이나 폴더를 생성해주는 라이브러리 (파일시스템라이브러리)\n",
    "import os\n",
    "# Operating System"
   ]
  },
  {
   "cell_type": "markdown",
   "id": "a51da1db",
   "metadata": {},
   "source": [
    "- 폴더 생성하기(자동화)"
   ]
  },
  {
   "cell_type": "code",
   "execution_count": 5,
   "id": "9baf64ac",
   "metadata": {},
   "outputs": [
    {
     "ename": "FileExistsError",
     "evalue": "[WinError 183] 파일이 이미 있으므로 만들 수 없습니다: 'C:\\\\Users\\\\SMHRD\\\\OneDrive\\\\Desktop\\\\포켓몬도감'",
     "output_type": "error",
     "traceback": [
      "\u001b[1;31m---------------------------------------------------------------------------\u001b[0m",
      "\u001b[1;31mFileExistsError\u001b[0m                           Traceback (most recent call last)",
      "Cell \u001b[1;32mIn[5], line 3\u001b[0m\n\u001b[0;32m      1\u001b[0m \u001b[38;5;66;03m# 폴더 생성하기\u001b[39;00m\n\u001b[0;32m      2\u001b[0m \u001b[38;5;66;03m# os.mkdir(\"경로\\폴더이름\")\u001b[39;00m\n\u001b[1;32m----> 3\u001b[0m os\u001b[38;5;241m.\u001b[39mmkdir(\u001b[38;5;124m'\u001b[39m\u001b[38;5;124mC:\u001b[39m\u001b[38;5;130;01m\\\\\u001b[39;00m\u001b[38;5;124mUsers\u001b[39m\u001b[38;5;124m\\\u001b[39m\u001b[38;5;124mSMHRD\u001b[39m\u001b[38;5;130;01m\\\\\u001b[39;00m\u001b[38;5;124mOneDrive\u001b[39m\u001b[38;5;130;01m\\\\\u001b[39;00m\u001b[38;5;124mDesktop\u001b[39m\u001b[38;5;130;01m\\\\\u001b[39;00m\u001b[38;5;124m포켓몬도감\u001b[39m\u001b[38;5;124m'\u001b[39m)\n",
      "\u001b[1;31mFileExistsError\u001b[0m: [WinError 183] 파일이 이미 있으므로 만들 수 없습니다: 'C:\\\\Users\\\\SMHRD\\\\OneDrive\\\\Desktop\\\\포켓몬도감'"
     ]
    }
   ],
   "source": [
    "# 폴더 생성하기\n",
    "# os.mkdir(\"경로\\폴더이름\")\n",
    "os.mkdir('C:\\\\Users\\SMHRD\\\\OneDrive\\\\Desktop\\\\포켓몬도감')\n",
    "# 이미 존재하는 폴더이름일 경우에는 오류가 발생\n",
    "# 조건을 주어 오류를 발생하지 않도록 실행"
   ]
  },
  {
   "cell_type": "code",
   "execution_count": 6,
   "id": "e99546e8",
   "metadata": {},
   "outputs": [
    {
     "name": "stdout",
     "output_type": "stream",
     "text": [
      "이미 존재하는 폴더입니다\n"
     ]
    }
   ],
   "source": [
    "# 만약에 폴더명이 없다면 생성해주고\n",
    "if not os.path.isdir('C:\\\\Users\\SMHRD\\\\OneDrive\\\\Desktop\\\\포켓몬도감'):\n",
    "    print(\"폴더생성\")\n",
    "    # 폴더를 생성하는 코드를 작성\n",
    "    os.mkdir('C:\\\\Users\\SMHRD\\\\OneDrive\\\\Desktop\\\\포켓몬도감')\n",
    "# 그렇지 않으면(폴더명이 있음) 이미 존재하는 폴더 입니다 라고 출력\n",
    "else:\n",
    "    print(\"이미 존재하는 폴더입니다\")"
   ]
  },
  {
   "cell_type": "code",
   "execution_count": 7,
   "id": "b2273daf",
   "metadata": {},
   "outputs": [
    {
     "data": {
      "text/plain": [
       "True"
      ]
     },
     "execution_count": 7,
     "metadata": {},
     "output_type": "execute_result"
    }
   ],
   "source": [
    "os.path.isdir('C:\\\\Users\\SMHRD\\\\OneDrive\\\\Desktop\\\\포켓몬도감')"
   ]
  },
  {
   "cell_type": "code",
   "execution_count": 6,
   "id": "cad48dcd",
   "metadata": {},
   "outputs": [],
   "source": [
    "# 포켓몬 페이지 불러오기\n",
    "driver=wb.Chrome()\n",
    "driver.get('https://www.pokemonkorea.co.kr/pokedex#pokedex_1')"
   ]
  },
  {
   "cell_type": "code",
   "execution_count": 31,
   "id": "46164114",
   "metadata": {},
   "outputs": [],
   "source": [
    "# 스스로\n",
    "# 이미지데이터 수집\n",
    "# 모든 이미지데이터 수집 img 변수에 담기\n",
    "image=driver.find_elements(By.CLASS_NAME,'img-fluid')\n",
    "    \n"
   ]
  },
  {
   "cell_type": "code",
   "execution_count": 32,
   "id": "3e7b391f",
   "metadata": {},
   "outputs": [
    {
     "data": {
      "text/plain": [
       "'https://data1.pokemonkorea.co.kr/newdata/pokedex/mid/000101.png'"
      ]
     },
     "execution_count": 32,
     "metadata": {},
     "output_type": "execute_result"
    }
   ],
   "source": [
    "# 우리의 img 태그에서 콘텐츠가 아닌 속성(src)을 추출하는방법\n",
    "# 요소.get_attribute('속성명')\n",
    "image[0].get_attribute('src')"
   ]
  },
  {
   "cell_type": "code",
   "execution_count": 33,
   "id": "f61d6529",
   "metadata": {},
   "outputs": [
    {
     "data": {
      "text/plain": [
       "('C:\\\\Users\\\\SMHRD\\\\OneDrive\\\\Desktop\\\\포켓몬도감\\\\포켓몬.jpg',\n",
       " <http.client.HTTPMessage at 0x11eab491d10>)"
      ]
     },
     "execution_count": 33,
     "metadata": {},
     "output_type": "execute_result"
    }
   ],
   "source": [
    "# 이미지파일의 경로를 활용하여 이미지파일로 저장\n",
    "# urlretrieve(이미지의 경로, '저장할 위치\\\\파일명.확장자')\n",
    "urlretrieve(image[0].get_attribute('src'), 'C:\\\\Users\\SMHRD\\\\OneDrive\\\\Desktop\\\\포켓몬도감\\\\포켓몬.jpg')"
   ]
  },
  {
   "cell_type": "code",
   "execution_count": 35,
   "id": "8817861a",
   "metadata": {},
   "outputs": [
    {
     "ename": "SyntaxError",
     "evalue": "incomplete input (1553630005.py, line 3)",
     "output_type": "error",
     "traceback": [
      "\u001b[1;36m  Cell \u001b[1;32mIn[35], line 3\u001b[1;36m\u001b[0m\n\u001b[1;33m    urlretrieve(image[i].get_attribute('src'),f\"C:\\\\Users\\SMHRD\\\\OneDrive\\\\Desktop\\\\포켓몬도감\\\\포켓몬{i+1}.jpg\"\u001b[0m\n\u001b[1;37m                                                                                                        ^\u001b[0m\n\u001b[1;31mSyntaxError\u001b[0m\u001b[1;31m:\u001b[0m incomplete input\n"
     ]
    }
   ],
   "source": [
    "# 반복문을 사용해서 여러마리의 포켓몬 저장\n",
    "for i in range(len(image)):\n",
    "    urlretrieve(image[i].get_attribute('src'),f\"C:\\\\Users\\SMHRD\\\\OneDrive\\\\Desktop\\\\포켓몬도감\\\\포켓몬{i+1}.jpg\""
   ]
  },
  {
   "cell_type": "markdown",
   "id": "32a71d74",
   "metadata": {},
   "source": [
    "### 화면 스크롤을 통해 더 많은 포켓몬 이미지 수집"
   ]
  },
  {
   "cell_type": "code",
   "execution_count": 40,
   "id": "1ccafa2f",
   "metadata": {},
   "outputs": [],
   "source": [
    "# 화면 스크롤 하는방법!(키보드의 END 키 활용)\n",
    "# 페이지 전체를 담당하는 body 태그에게 END키 보내주기!\n",
    "for i in range(20):   \n",
    "    body=driver.find_element(By.CSS_SELECTOR,'body')\n",
    "    body.send_keys(Keys.END)\n",
    "    time.sleep(1)"
   ]
  },
  {
   "cell_type": "markdown",
   "id": "b4a2250a",
   "metadata": {},
   "source": [
    "### 코드합치기"
   ]
  },
  {
   "cell_type": "code",
   "execution_count": 41,
   "id": "0d781a0f",
   "metadata": {},
   "outputs": [
    {
     "ename": "SyntaxError",
     "evalue": "incomplete input (2605354594.py, line 38)",
     "output_type": "error",
     "traceback": [
      "\u001b[1;36m  Cell \u001b[1;32mIn[41], line 38\u001b[1;36m\u001b[0m\n\u001b[1;33m    urlretrieve(image[i].get_attribute('src'),f\"C:\\\\Users\\SMHRD\\\\OneDrive\\\\Desktop\\\\포켓몬도감\\\\포켓몬{i+1}.jpg\"\u001b[0m\n\u001b[1;37m                                                                                                        ^\u001b[0m\n\u001b[1;31mSyntaxError\u001b[0m\u001b[1;31m:\u001b[0m incomplete input\n"
     ]
    }
   ],
   "source": [
    "# 라이브러리 불러오기\n",
    "from selenium import webdriver as wb\n"
   ]
  },
  {
   "cell_type": "code",
   "execution_count": 44,
   "id": "0563800d",
   "metadata": {},
   "outputs": [
    {
     "name": "stdout",
     "output_type": "stream",
     "text": [
      "폴더생성\n"
     ]
    },
    {
     "ename": "FileNotFoundError",
     "evalue": "[Errno 2] No such file or directory: 'C:\\\\Users\\\\smhrd\\\\Desktop\\\\포켓몬도\\\\포켓몬322.jpg'",
     "output_type": "error",
     "traceback": [
      "\u001b[1;31m---------------------------------------------------------------------------\u001b[0m",
      "\u001b[1;31mFileNotFoundError\u001b[0m                         Traceback (most recent call last)",
      "Cell \u001b[1;32mIn[44], line 32\u001b[0m\n\u001b[0;32m     30\u001b[0m img \u001b[38;5;241m=\u001b[39m driver\u001b[38;5;241m.\u001b[39mfind_elements(By\u001b[38;5;241m.\u001b[39mCLASS_NAME,\u001b[38;5;124m'\u001b[39m\u001b[38;5;124mimg-fluid\u001b[39m\u001b[38;5;124m'\u001b[39m)\n\u001b[0;32m     31\u001b[0m \u001b[38;5;28;01mfor\u001b[39;00m i \u001b[38;5;129;01min\u001b[39;00m \u001b[38;5;28mrange\u001b[39m(\u001b[38;5;28mlen\u001b[39m(img)):\n\u001b[1;32m---> 32\u001b[0m     urlretrieve(img[i]\u001b[38;5;241m.\u001b[39mget_attribute(\u001b[38;5;124m'\u001b[39m\u001b[38;5;124msrc\u001b[39m\u001b[38;5;124m'\u001b[39m), \n\u001b[0;32m     33\u001b[0m             \u001b[38;5;124mf\u001b[39m\u001b[38;5;124m'\u001b[39m\u001b[38;5;124mC:\u001b[39m\u001b[38;5;130;01m\\\\\u001b[39;00m\u001b[38;5;124mUsers\u001b[39m\u001b[38;5;130;01m\\\\\u001b[39;00m\u001b[38;5;124msmhrd\u001b[39m\u001b[38;5;130;01m\\\\\u001b[39;00m\u001b[38;5;124mDesktop\u001b[39m\u001b[38;5;130;01m\\\\\u001b[39;00m\u001b[38;5;124m포켓몬도\u001b[39m\u001b[38;5;130;01m\\\\\u001b[39;00m\u001b[38;5;124m포켓몬\u001b[39m\u001b[38;5;132;01m{\u001b[39;00mi\u001b[38;5;241m+\u001b[39m\u001b[38;5;241m1\u001b[39m\u001b[38;5;132;01m}\u001b[39;00m\u001b[38;5;124m.jpg\u001b[39m\u001b[38;5;124m'\u001b[39m )\n",
      "File \u001b[1;32m~\\anaconda3\\Lib\\urllib\\request.py:251\u001b[0m, in \u001b[0;36murlretrieve\u001b[1;34m(url, filename, reporthook, data)\u001b[0m\n\u001b[0;32m    249\u001b[0m \u001b[38;5;66;03m# Handle temporary file setup.\u001b[39;00m\n\u001b[0;32m    250\u001b[0m \u001b[38;5;28;01mif\u001b[39;00m filename:\n\u001b[1;32m--> 251\u001b[0m     tfp \u001b[38;5;241m=\u001b[39m \u001b[38;5;28mopen\u001b[39m(filename, \u001b[38;5;124m'\u001b[39m\u001b[38;5;124mwb\u001b[39m\u001b[38;5;124m'\u001b[39m)\n\u001b[0;32m    252\u001b[0m \u001b[38;5;28;01melse\u001b[39;00m:\n\u001b[0;32m    253\u001b[0m     tfp \u001b[38;5;241m=\u001b[39m tempfile\u001b[38;5;241m.\u001b[39mNamedTemporaryFile(delete\u001b[38;5;241m=\u001b[39m\u001b[38;5;28;01mFalse\u001b[39;00m)\n",
      "\u001b[1;31mFileNotFoundError\u001b[0m: [Errno 2] No such file or directory: 'C:\\\\Users\\\\smhrd\\\\Desktop\\\\포켓몬도\\\\포켓몬322.jpg'"
     ]
    }
   ],
   "source": [
    "# 라이브러리 불러오기\n",
    "from selenium import webdriver as wb # 통제,제어\n",
    "from selenium.webdriver.common.keys import Keys # 입력, 컴퓨터용 키보드\n",
    "from selenium.webdriver.common.by import By # 구분\n",
    "import pandas as pd\n",
    "import time # 쉬는시간\n",
    "from tqdm import tqdm # 반복상황 로딩바로 출력\n",
    "from urllib.request import urlretrieve  \n",
    "import os\n",
    "\n",
    "# 만약에 폴더명일 없다면 생성해주고\n",
    "if not os.path.isdir(\"C:\\\\Users\\\\smhrd\\\\Desktop\\\\포켓몬도\"):\n",
    "    print(\"폴더생성\")\n",
    "    #폴더를 생성하는 코드를 작성\n",
    "    os.mkdir(\"C:\\\\Users\\\\smhrd\\\\Desktop\\\\포켓몬도\")\n",
    "    \n",
    "# 그렇지 않으면(폴더명이 있음) \"이미 존재하는 폴더 입니다\" 라고 출력\n",
    "else:\n",
    "    print(\"이미 존재하는 폴더입니다~\")\n",
    "    \n",
    "# 포켓몬 페이지 불러오기\n",
    "driver = wb.Chrome()\n",
    "driver.get('https://www.pokemonkorea.co.kr/pokedex#pokedex_1')\n",
    "\n",
    "for i in range(20):\n",
    "    body = driver.find_element(By.CSS_SELECTOR,'body')\n",
    "    body.send_keys(Keys.END)\n",
    "    time.sleep(1)\n",
    "    \n",
    "img = driver.find_elements(By.CLASS_NAME,'img-fluid')\n",
    "for i in range(len(img)):\n",
    "    urlretrieve(img[i].get_attribute('src'), \n",
    "            f'C:\\\\Users\\\\smhrd\\\\Desktop\\\\포켓몬도\\\\포켓몬{i+1}.jpg' )"
   ]
  },
  {
   "cell_type": "code",
   "execution_count": null,
   "id": "5753ac89",
   "metadata": {},
   "outputs": [],
   "source": []
  },
  {
   "cell_type": "code",
   "execution_count": null,
   "id": "a4db5a89",
   "metadata": {},
   "outputs": [],
   "source": []
  },
  {
   "cell_type": "code",
   "execution_count": null,
   "id": "0aa60a7c",
   "metadata": {},
   "outputs": [],
   "source": []
  },
  {
   "cell_type": "code",
   "execution_count": null,
   "id": "8ac5b320",
   "metadata": {},
   "outputs": [],
   "source": []
  },
  {
   "cell_type": "code",
   "execution_count": null,
   "id": "0dd00eec",
   "metadata": {},
   "outputs": [],
   "source": []
  },
  {
   "cell_type": "code",
   "execution_count": null,
   "id": "77b96571",
   "metadata": {},
   "outputs": [],
   "source": []
  },
  {
   "cell_type": "code",
   "execution_count": null,
   "id": "713eb4a0",
   "metadata": {},
   "outputs": [],
   "source": []
  },
  {
   "cell_type": "code",
   "execution_count": null,
   "id": "9c5184ef",
   "metadata": {},
   "outputs": [],
   "source": []
  },
  {
   "cell_type": "code",
   "execution_count": null,
   "id": "47f61b58",
   "metadata": {},
   "outputs": [],
   "source": []
  },
  {
   "cell_type": "code",
   "execution_count": null,
   "id": "469ad278",
   "metadata": {},
   "outputs": [],
   "source": []
  },
  {
   "cell_type": "code",
   "execution_count": null,
   "id": "85e7e6b8",
   "metadata": {},
   "outputs": [],
   "source": []
  },
  {
   "cell_type": "code",
   "execution_count": null,
   "id": "88e7f67b",
   "metadata": {},
   "outputs": [],
   "source": []
  },
  {
   "cell_type": "code",
   "execution_count": null,
   "id": "d71d43a9",
   "metadata": {},
   "outputs": [],
   "source": []
  },
  {
   "cell_type": "code",
   "execution_count": null,
   "id": "c5814c93",
   "metadata": {},
   "outputs": [],
   "source": []
  },
  {
   "cell_type": "code",
   "execution_count": null,
   "id": "335cdf6c",
   "metadata": {},
   "outputs": [],
   "source": []
  },
  {
   "cell_type": "code",
   "execution_count": null,
   "id": "4c8a3792",
   "metadata": {},
   "outputs": [],
   "source": []
  },
  {
   "cell_type": "code",
   "execution_count": null,
   "id": "c75a11cc",
   "metadata": {},
   "outputs": [],
   "source": []
  },
  {
   "cell_type": "code",
   "execution_count": null,
   "id": "1bb31be0",
   "metadata": {},
   "outputs": [],
   "source": []
  },
  {
   "cell_type": "code",
   "execution_count": null,
   "id": "f06c56ab",
   "metadata": {},
   "outputs": [],
   "source": []
  },
  {
   "cell_type": "code",
   "execution_count": null,
   "id": "837b7a9a",
   "metadata": {},
   "outputs": [],
   "source": []
  },
  {
   "cell_type": "code",
   "execution_count": null,
   "id": "abe64c3f",
   "metadata": {},
   "outputs": [],
   "source": []
  },
  {
   "cell_type": "code",
   "execution_count": null,
   "id": "223c3a86",
   "metadata": {},
   "outputs": [],
   "source": []
  },
  {
   "cell_type": "code",
   "execution_count": null,
   "id": "b4066ec2",
   "metadata": {},
   "outputs": [],
   "source": []
  },
  {
   "cell_type": "code",
   "execution_count": null,
   "id": "7b862b35",
   "metadata": {},
   "outputs": [],
   "source": []
  },
  {
   "cell_type": "code",
   "execution_count": null,
   "id": "7537d130",
   "metadata": {},
   "outputs": [],
   "source": []
  },
  {
   "cell_type": "code",
   "execution_count": null,
   "id": "0e8d5f46",
   "metadata": {},
   "outputs": [],
   "source": []
  },
  {
   "cell_type": "code",
   "execution_count": null,
   "id": "1c31cb0d",
   "metadata": {},
   "outputs": [],
   "source": []
  },
  {
   "cell_type": "code",
   "execution_count": null,
   "id": "efbe3d09",
   "metadata": {},
   "outputs": [],
   "source": []
  },
  {
   "cell_type": "code",
   "execution_count": null,
   "id": "f8b8a887",
   "metadata": {},
   "outputs": [],
   "source": []
  },
  {
   "cell_type": "code",
   "execution_count": null,
   "id": "f7500e83",
   "metadata": {},
   "outputs": [],
   "source": []
  }
 ],
 "metadata": {
  "kernelspec": {
   "display_name": "Python 3 (ipykernel)",
   "language": "python",
   "name": "python3"
  },
  "language_info": {
   "codemirror_mode": {
    "name": "ipython",
    "version": 3
   },
   "file_extension": ".py",
   "mimetype": "text/x-python",
   "name": "python",
   "nbconvert_exporter": "python",
   "pygments_lexer": "ipython3",
   "version": "3.11.5"
  }
 },
 "nbformat": 4,
 "nbformat_minor": 5
}
