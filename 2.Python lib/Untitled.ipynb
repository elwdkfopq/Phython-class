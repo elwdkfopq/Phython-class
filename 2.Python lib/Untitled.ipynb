{
 "cells": [
  {
   "cell_type": "markdown",
   "id": "91425870",
   "metadata": {},
   "source": [
    "#### 0. numpy패키지 import 하기"
   ]
  },
  {
   "cell_type": "code",
   "execution_count": 49,
   "id": "fa6762e7",
   "metadata": {},
   "outputs": [],
   "source": [
    "import numpy as np"
   ]
  },
  {
   "cell_type": "markdown",
   "id": "0fa57ded",
   "metadata": {},
   "source": [
    "#### 1. numpy basic"
   ]
  },
  {
   "cell_type": "code",
   "execution_count": 26,
   "id": "49631ab0",
   "metadata": {},
   "outputs": [
    {
     "data": {
      "text/plain": [
       "array([1, 2, 3, 4, 5])"
      ]
     },
     "execution_count": 26,
     "metadata": {},
     "output_type": "execute_result"
    }
   ],
   "source": [
    "# ndarray 클래스로 넘파이 배열 생성하기\n",
    "# 1차원 넘파이 배열\n",
    "arr1 = np.array([1,2,3,4,5])\n",
    "arr1"
   ]
  },
  {
   "cell_type": "code",
   "execution_count": 27,
   "id": "c20628ab",
   "metadata": {},
   "outputs": [
    {
     "data": {
      "text/plain": [
       "array([[1, 2],\n",
       "       [3, 4]])"
      ]
     },
     "execution_count": 27,
     "metadata": {},
     "output_type": "execute_result"
    }
   ],
   "source": [
    "# 2차원 넘파이 배열\n",
    "arr2 = np.array([[1,2],[3,4]])\n",
    "arr2"
   ]
  },
  {
   "cell_type": "code",
   "execution_count": 28,
   "id": "ed36e924",
   "metadata": {},
   "outputs": [
    {
     "data": {
      "text/plain": [
       "(2, 2)"
      ]
     },
     "execution_count": 28,
     "metadata": {},
     "output_type": "execute_result"
    }
   ],
   "source": [
    "# 데이터의 모양을 확인하는 속성\n",
    "arr2.shape"
   ]
  },
  {
   "cell_type": "code",
   "execution_count": 29,
   "id": "fd1a58f4",
   "metadata": {},
   "outputs": [
    {
     "name": "stdout",
     "output_type": "stream",
     "text": [
      "(5,)\n",
      "(2, 2)\n"
     ]
    }
   ],
   "source": [
    "print(arr1.shape)\n",
    "print(arr2.shape)"
   ]
  },
  {
   "cell_type": "code",
   "execution_count": 30,
   "id": "92e63a01",
   "metadata": {},
   "outputs": [
    {
     "data": {
      "text/plain": [
       "2"
      ]
     },
     "execution_count": 30,
     "metadata": {},
     "output_type": "execute_result"
    }
   ],
   "source": [
    "# 데이터의 차원을 확인하는 속성\n",
    "arr2.ndim"
   ]
  },
  {
   "cell_type": "code",
   "execution_count": 31,
   "id": "007c5804",
   "metadata": {},
   "outputs": [
    {
     "data": {
      "text/plain": [
       "4"
      ]
     },
     "execution_count": 31,
     "metadata": {},
     "output_type": "execute_result"
    }
   ],
   "source": [
    "# 데이터의 크기(몇개나 들어있는지)를 확인하는 속성\n",
    "arr2.size"
   ]
  },
  {
   "cell_type": "code",
   "execution_count": 32,
   "id": "d9b82780",
   "metadata": {},
   "outputs": [
    {
     "data": {
      "text/plain": [
       "dtype('int32')"
      ]
     },
     "execution_count": 32,
     "metadata": {},
     "output_type": "execute_result"
    }
   ],
   "source": [
    "# 데이터 타입을 확인하는 속성\n",
    "arr1.dtype"
   ]
  },
  {
   "cell_type": "code",
   "execution_count": 33,
   "id": "4d48b992",
   "metadata": {},
   "outputs": [
    {
     "data": {
      "text/plain": [
       "dtype('float64')"
      ]
     },
     "execution_count": 33,
     "metadata": {},
     "output_type": "execute_result"
    }
   ],
   "source": [
    "arr3= np.array([0.1,0.3,2])\n",
    "arr3.dtype"
   ]
  },
  {
   "cell_type": "code",
   "execution_count": 34,
   "id": "1b19d3c3",
   "metadata": {},
   "outputs": [
    {
     "data": {
      "text/plain": [
       "dtype('<U11')"
      ]
     },
     "execution_count": 34,
     "metadata": {},
     "output_type": "execute_result"
    }
   ],
   "source": [
    "arr4=np.array(['a','b',1])\n",
    "arr4.dtype"
   ]
  },
  {
   "cell_type": "markdown",
   "id": "30a22165",
   "metadata": {},
   "source": [
    "#### 2. array creation"
   ]
  },
  {
   "cell_type": "code",
   "execution_count": 35,
   "id": "58a28bbf",
   "metadata": {},
   "outputs": [
    {
     "data": {
      "text/plain": [
       "array([[0., 0., 0.],\n",
       "       [0., 0., 0.],\n",
       "       [0., 0., 0.]])"
      ]
     },
     "execution_count": 35,
     "metadata": {},
     "output_type": "execute_result"
    }
   ],
   "source": [
    "# 0으로 데이터를 채워서 생성하는 방법\n",
    "arr_zero=np.zeros((3,3))\n",
    "arr_zero"
   ]
  },
  {
   "cell_type": "code",
   "execution_count": 36,
   "id": "ce679233",
   "metadata": {},
   "outputs": [
    {
     "data": {
      "text/plain": [
       "array([[[1., 1.],\n",
       "        [1., 1.]],\n",
       "\n",
       "       [[1., 1.],\n",
       "        [1., 1.]]])"
      ]
     },
     "execution_count": 36,
     "metadata": {},
     "output_type": "execute_result"
    }
   ],
   "source": [
    "# 1로 데이터를 채워서 생성하는 방법\n",
    "arr_ones = np.ones((2,2,2))\n",
    "arr_ones"
   ]
  },
  {
   "cell_type": "code",
   "execution_count": 37,
   "id": "3c4ae989",
   "metadata": {},
   "outputs": [
    {
     "data": {
      "text/plain": [
       "array([['apple', 'apple', 'apple'],\n",
       "       ['apple', 'apple', 'apple'],\n",
       "       ['apple', 'apple', 'apple'],\n",
       "       ['apple', 'apple', 'apple']], dtype='<U5')"
      ]
     },
     "execution_count": 37,
     "metadata": {},
     "output_type": "execute_result"
    }
   ],
   "source": [
    "# 원하는 데이터로 채워서 생성하는 방법\n",
    "arr_full = np.full((4,3),'apple')\n",
    "arr_full"
   ]
  },
  {
   "cell_type": "code",
   "execution_count": 38,
   "id": "56671a80",
   "metadata": {},
   "outputs": [
    {
     "data": {
      "text/plain": [
       "array([3, 5, 7, 9])"
      ]
     },
     "execution_count": 38,
     "metadata": {},
     "output_type": "execute_result"
    }
   ],
   "source": [
    "# 수열 생성\n",
    "arr_numbers=np.arange(3,10,2)\n",
    "arr_numbers"
   ]
  },
  {
   "cell_type": "code",
   "execution_count": 39,
   "id": "97692773",
   "metadata": {},
   "outputs": [
    {
     "data": {
      "text/plain": [
       "array([9., 8., 7., 6., 5., 4., 3., 2.], dtype=float32)"
      ]
     },
     "execution_count": 39,
     "metadata": {},
     "output_type": "execute_result"
    }
   ],
   "source": [
    "arr_numbers2 = np.arange(9,1,-1,dtype='float32')\n",
    "arr_numbers2"
   ]
  },
  {
   "cell_type": "code",
   "execution_count": 40,
   "id": "50c5f903",
   "metadata": {},
   "outputs": [
    {
     "data": {
      "text/plain": [
       "array([0.94442243, 0.60092722, 0.76244855, 0.72175113, 0.37127751,\n",
       "       0.14031412, 0.33525982, 0.01137078, 0.32248965, 0.08897466])"
      ]
     },
     "execution_count": 40,
     "metadata": {},
     "output_type": "execute_result"
    }
   ],
   "source": [
    "# 난수 배열 생성하기\n",
    "arr_rand = np.random.rand(10)\n",
    "arr_rand"
   ]
  },
  {
   "cell_type": "code",
   "execution_count": 41,
   "id": "16d06b30",
   "metadata": {},
   "outputs": [
    {
     "data": {
      "text/plain": [
       "array([[0.21777543, 0.91914708, 0.84106066, 0.34754028, 0.07653069],\n",
       "       [0.38775518, 0.14680873, 0.09054972, 0.06165668, 0.25554777],\n",
       "       [0.69405269, 0.6154505 , 0.43096206, 0.66473561, 0.04356447]])"
      ]
     },
     "execution_count": 41,
     "metadata": {},
     "output_type": "execute_result"
    }
   ],
   "source": [
    "arr_rand2 = np.random.rand(3,5)\n",
    "arr_rand2"
   ]
  },
  {
   "cell_type": "code",
   "execution_count": 42,
   "id": "9cb3c939",
   "metadata": {},
   "outputs": [
    {
     "data": {
      "text/plain": [
       "8"
      ]
     },
     "execution_count": 42,
     "metadata": {},
     "output_type": "execute_result"
    }
   ],
   "source": [
    "# 정수형 난수 배열 생성하기\n",
    "arr_rand_int= np.random.randint(10)\n",
    "arr_rand_int"
   ]
  },
  {
   "cell_type": "code",
   "execution_count": 43,
   "id": "050b59ec",
   "metadata": {},
   "outputs": [
    {
     "data": {
      "text/plain": [
       "array([[4, 6],\n",
       "       [7, 4]])"
      ]
     },
     "execution_count": 43,
     "metadata": {},
     "output_type": "execute_result"
    }
   ],
   "source": [
    "arr_rand_int3= np.random.randint(1,8,size=(2,2))\n",
    "arr_rand_int3"
   ]
  },
  {
   "cell_type": "code",
   "execution_count": 44,
   "id": "8df70eb7",
   "metadata": {},
   "outputs": [
    {
     "data": {
      "text/plain": [
       "array([[4, 5],\n",
       "       [1, 2]])"
      ]
     },
     "execution_count": 44,
     "metadata": {},
     "output_type": "execute_result"
    }
   ],
   "source": [
    "# 난수 seed값 고정하기(계속 똑같은 랜덤수가 나오도록 하기)\n",
    "np.random.seed(213)\n",
    "np.random.randint(1,8,size=(2,2))"
   ]
  },
  {
   "cell_type": "markdown",
   "id": "19a18457",
   "metadata": {},
   "source": [
    "#### 3. array operation"
   ]
  },
  {
   "cell_type": "code",
   "execution_count": 45,
   "id": "a10ad34b",
   "metadata": {},
   "outputs": [],
   "source": [
    "# 과거\n",
    "list1=[1,2,3]\n",
    "list2=[4,5,6]\n",
    "result=[]\n",
    "for i in range(0,3):\n",
    "    result.append((list1[i]+list2[i])/2)"
   ]
  },
  {
   "cell_type": "code",
   "execution_count": 46,
   "id": "e63a7ca8",
   "metadata": {},
   "outputs": [
    {
     "data": {
      "text/plain": [
       "array([5, 7, 9])"
      ]
     },
     "execution_count": 46,
     "metadata": {},
     "output_type": "execute_result"
    }
   ],
   "source": [
    "# 넘파이 배열은 같은 인덱스를 가지는 아이템끼리 연산을 지원한다\n",
    "# 요소별 연산\n",
    "arr1 = np.array(list1)\n",
    "arr2= np.array(list2)\n",
    "arr1+arr2"
   ]
  },
  {
   "cell_type": "markdown",
   "id": "2bc1402d",
   "metadata": {},
   "source": [
    "#### 4. indexing & slicing"
   ]
  },
  {
   "cell_type": "code",
   "execution_count": 47,
   "id": "d68a4830",
   "metadata": {},
   "outputs": [
    {
     "data": {
      "text/plain": [
       "array([[ 0,  1],\n",
       "       [ 2,  3],\n",
       "       [ 4,  5],\n",
       "       [ 6,  7],\n",
       "       [ 8,  9],\n",
       "       [10, 11],\n",
       "       [12, 13],\n",
       "       [14, 15],\n",
       "       [16, 17],\n",
       "       [18, 19],\n",
       "       [20, 21],\n",
       "       [22, 23],\n",
       "       [24, 25],\n",
       "       [26, 27],\n",
       "       [28, 29],\n",
       "       [30, 31],\n",
       "       [32, 33],\n",
       "       [34, 35],\n",
       "       [36, 37],\n",
       "       [38, 39],\n",
       "       [40, 41],\n",
       "       [42, 43],\n",
       "       [44, 45],\n",
       "       [46, 47],\n",
       "       [48, 49],\n",
       "       [50, 51],\n",
       "       [52, 53],\n",
       "       [54, 55],\n",
       "       [56, 57],\n",
       "       [58, 59],\n",
       "       [60, 61],\n",
       "       [62, 63],\n",
       "       [64, 65],\n",
       "       [66, 67],\n",
       "       [68, 69],\n",
       "       [70, 71],\n",
       "       [72, 73],\n",
       "       [74, 75],\n",
       "       [76, 77],\n",
       "       [78, 79],\n",
       "       [80, 81],\n",
       "       [82, 83],\n",
       "       [84, 85],\n",
       "       [86, 87],\n",
       "       [88, 89],\n",
       "       [90, 91],\n",
       "       [92, 93],\n",
       "       [94, 95],\n",
       "       [96, 97],\n",
       "       [98, 99]])"
      ]
     },
     "execution_count": 47,
     "metadata": {},
     "output_type": "execute_result"
    }
   ],
   "source": [
    "# 2차원 numpy 배열 생성\n",
    "arr = np.arange(100).reshape((50,2))# 모양을 변경하는 함수\n",
    "arr"
   ]
  },
  {
   "cell_type": "code",
   "execution_count": 48,
   "id": "ab607558",
   "metadata": {},
   "outputs": [
    {
     "ename": "TypeError",
     "evalue": "reshape() missing 2 required positional arguments: 'a' and 'newshape'",
     "output_type": "error",
     "traceback": [
      "\u001b[1;31m---------------------------------------------------------------------------\u001b[0m",
      "\u001b[1;31mTypeError\u001b[0m                                 Traceback (most recent call last)",
      "Cell \u001b[1;32mIn[48], line 1\u001b[0m\n\u001b[1;32m----> 1\u001b[0m np\u001b[38;5;241m.\u001b[39mreshape()\n",
      "File \u001b[1;32m<__array_function__ internals>:198\u001b[0m, in \u001b[0;36mreshape\u001b[1;34m(*args, **kwargs)\u001b[0m\n",
      "\u001b[1;31mTypeError\u001b[0m: reshape() missing 2 required positional arguments: 'a' and 'newshape'"
     ]
    }
   ],
   "source": [
    "np.reshape()"
   ]
  },
  {
   "cell_type": "code",
   "execution_count": null,
   "id": "6df6a353",
   "metadata": {},
   "outputs": [],
   "source": [
    "arr2= np.arange(50)\n",
    "arr3=np.reshape(arr2,(5,10))\n",
    "arr3"
   ]
  },
  {
   "cell_type": "code",
   "execution_count": null,
   "id": "85ac44b7",
   "metadata": {},
   "outputs": [],
   "source": [
    "arr4=np.reshape(arr2,(2,-1))"
   ]
  },
  {
   "cell_type": "code",
   "execution_count": null,
   "id": "fe108308",
   "metadata": {},
   "outputs": [],
   "source": [
    "# indexing\n",
    "print(arr[0]) # 한 행을 통으로 가져올 때\n",
    "print(arr[0,0]) # 요소 한개를 가져올 때\n",
    "print(arr[0][0]) # 요소 한개를 가져올 때"
   ]
  },
  {
   "cell_type": "code",
   "execution_count": null,
   "id": "940bb913",
   "metadata": {},
   "outputs": [],
   "source": [
    "# slicing\n",
    "#행 슬라이싱\n",
    "arr[:3] # 0~2 까지의 데이터"
   ]
  },
  {
   "cell_type": "code",
   "execution_count": null,
   "id": "79e67ccc",
   "metadata": {},
   "outputs": [],
   "source": [
    "# 행과 열 모두 슬라이싱\n",
    "arr[:5,:1]"
   ]
  },
  {
   "cell_type": "code",
   "execution_count": null,
   "id": "6c30adf2",
   "metadata": {},
   "outputs": [],
   "source": [
    "# 행과 열 정보를 개별 리스트로 넣는 방법\n",
    "arr[[0,2],[0,1]] #arr의 0,0과 2,1짜리 가져오기.\n",
    "# 이거 지금 이차원 인덱싱이지 배열이 아님..."
   ]
  },
  {
   "cell_type": "code",
   "execution_count": null,
   "id": "96cd4732",
   "metadata": {},
   "outputs": [],
   "source": [
    "array= np.arange(18).reshape(3,-1)\n",
    "array"
   ]
  },
  {
   "cell_type": "code",
   "execution_count": null,
   "id": "1e24fced",
   "metadata": {},
   "outputs": [],
   "source": [
    "print(array[1:3,1:2])\n",
    "print(array[1:3,3:4])\n",
    "print(array[1:3,5:6])"
   ]
  },
  {
   "cell_type": "code",
   "execution_count": null,
   "id": "a73e767b",
   "metadata": {},
   "outputs": [],
   "source": [
    "arr5[[1,1,1,2,2,2][1,3,5,1,3,5]] -> # 1,1  1,3  1,5  2,1  2,3  2,5 좌표를 가져오기"
   ]
  },
  {
   "cell_type": "code",
   "execution_count": null,
   "id": "2fa4bea3",
   "metadata": {},
   "outputs": [],
   "source": [
    "arr5[1:,1:6:2] # 1:6:2는 1부터 5까지중 2씩 증가한 수들만 콕찝은거 즉, 1,3,5"
   ]
  },
  {
   "cell_type": "code",
   "execution_count": 50,
   "id": "66e12d0f",
   "metadata": {},
   "outputs": [
    {
     "data": {
      "text/plain": [
       "array([['1', '20140106', '96.3', ..., '57.1', '28.5', '73.2'],\n",
       "       ['2', '2013', '101.9', ..., '55', '24.2', '65.1'],\n",
       "       ['3', '20140106', '99.5', ..., '56.3', '28.1', '93.2'],\n",
       "       ...,\n",
       "       ['99423', '20160118', '106.3', ..., '61.4', '25.8', '87.4'],\n",
       "       ['99424', '20160118', '116.2', ..., '61.4', '26.8', '85'],\n",
       "       ['99425', '20160118', '101.2', ..., '61.5', '29.2', '83.4']],\n",
       "      dtype='<U8')"
      ]
     },
     "execution_count": 50,
     "metadata": {},
     "output_type": "execute_result"
    }
   ],
   "source": [
    "# 육군신체정보를 이용해 BMI 지수를 구해보자\n",
    "# 데이터로딩\n",
    "data=np.loadtxt(\"./data/육군 신체측정정보2.csv\",delimiter=\",\", dtype=\"str\")\n",
    "data"
   ]
  },
  {
   "cell_type": "code",
   "execution_count": null,
   "id": "6f525ef8",
   "metadata": {},
   "outputs": [],
   "source": [
    "data.shape"
   ]
  },
  {
   "cell_type": "code",
   "execution_count": null,
   "id": "96ca982f",
   "metadata": {},
   "outputs": [],
   "source": []
  },
  {
   "cell_type": "code",
   "execution_count": 51,
   "id": "893f7523",
   "metadata": {},
   "outputs": [],
   "source": [
    "height=data[:,4]\n",
    "weight=data[:,9]\n"
   ]
  },
  {
   "cell_type": "code",
   "execution_count": 52,
   "id": "7663415e",
   "metadata": {},
   "outputs": [
    {
     "ename": "TypeError",
     "evalue": "ufunc 'divide' not supported for the input types, and the inputs could not be safely coerced to any supported types according to the casting rule ''safe''",
     "output_type": "error",
     "traceback": [
      "\u001b[1;31m---------------------------------------------------------------------------\u001b[0m",
      "\u001b[1;31mTypeError\u001b[0m                                 Traceback (most recent call last)",
      "Cell \u001b[1;32mIn[52], line 2\u001b[0m\n\u001b[0;32m      1\u001b[0m \u001b[38;5;66;03m# 키를 cm에서 m단위로 변경하여 계산\u001b[39;00m\n\u001b[1;32m----> 2\u001b[0m bmi\u001b[38;5;241m=\u001b[39m weight\u001b[38;5;241m/\u001b[39m((height\u001b[38;5;241m/\u001b[39m\u001b[38;5;241m100\u001b[39m)\u001b[38;5;241m*\u001b[39m\u001b[38;5;241m*\u001b[39m\u001b[38;5;241m2\u001b[39m)\n\u001b[0;32m      3\u001b[0m bmi\n",
      "\u001b[1;31mTypeError\u001b[0m: ufunc 'divide' not supported for the input types, and the inputs could not be safely coerced to any supported types according to the casting rule ''safe''"
     ]
    }
   ],
   "source": [
    "# 키를 cm에서 m단위로 변경하여 계산\n",
    "bmi= weight/((height/100)**2)\n",
    "bmi"
   ]
  },
  {
   "cell_type": "markdown",
   "id": "0e729587",
   "metadata": {},
   "source": [
    "#### 5. boolean 색인\n",
    "- 조건식을 기반으로 원하는 데이터를 추출(색인)하는 방법"
   ]
  },
  {
   "cell_type": "code",
   "execution_count": 53,
   "id": "bfbbc378",
   "metadata": {},
   "outputs": [
    {
     "data": {
      "text/plain": [
       "array([68, 57, 81, 52, 76, 88, 71, 88])"
      ]
     },
     "execution_count": 53,
     "metadata": {},
     "output_type": "execute_result"
    }
   ],
   "source": [
    "# 성적 넘파이 배열 생성\n",
    "score=np.array([68,57,81,52,76,88,71,88])\n",
    "score"
   ]
  },
  {
   "cell_type": "code",
   "execution_count": 54,
   "id": "10df255d",
   "metadata": {},
   "outputs": [
    {
     "data": {
      "text/plain": [
       "array([81, 88, 88])"
      ]
     },
     "execution_count": 54,
     "metadata": {},
     "output_type": "execute_result"
    }
   ],
   "source": [
    "# 넘파이 배열[조건식]\n",
    "# 80점 이상인 데이터 추출(색인)\n",
    "score[score>=80]"
   ]
  },
  {
   "cell_type": "code",
   "execution_count": 55,
   "id": "06f0594f",
   "metadata": {},
   "outputs": [
    {
     "data": {
      "text/plain": [
       "array([False, False,  True, False, False,  True, False,  True])"
      ]
     },
     "execution_count": 55,
     "metadata": {},
     "output_type": "execute_result"
    }
   ],
   "source": [
    "score>=80"
   ]
  },
  {
   "cell_type": "markdown",
   "id": "3f97b790",
   "metadata": {},
   "source": [
    "#### 6. Universally Function"
   ]
  },
  {
   "cell_type": "code",
   "execution_count": 57,
   "id": "e55eb685",
   "metadata": {},
   "outputs": [
    {
     "data": {
      "text/plain": [
       "5050"
      ]
     },
     "execution_count": 57,
     "metadata": {},
     "output_type": "execute_result"
    }
   ],
   "source": [
    "# 총합\n",
    "arr=np.arange(1,101)\n",
    "arr.sum()"
   ]
  },
  {
   "cell_type": "code",
   "execution_count": 58,
   "id": "93c1cc0f",
   "metadata": {},
   "outputs": [
    {
     "data": {
      "text/plain": [
       "50.5"
      ]
     },
     "execution_count": 58,
     "metadata": {},
     "output_type": "execute_result"
    }
   ],
   "source": [
    "# 평균\n",
    "arr.mean()"
   ]
  },
  {
   "cell_type": "code",
   "execution_count": 59,
   "id": "06300f5e",
   "metadata": {},
   "outputs": [
    {
     "data": {
      "text/plain": [
       "array([ 1,  4,  7, 10])"
      ]
     },
     "execution_count": 59,
     "metadata": {},
     "output_type": "execute_result"
    }
   ],
   "source": [
    "# 절대값\n",
    "arr2=np.array([-1,4,-7,10])\n",
    "np.abs(arr2)"
   ]
  },
  {
   "attachments": {
    "image.png": {
     "image/png": "[encoded data removed]"
    }
   },
   "cell_type": "markdown",
   "id": "6df3dd22",
   "metadata": {},
   "source": [
    "![image.png](attachment:image.png)"
   ]
  },
  {
   "attachments": {
    "image.png": {
     "image/png": "[encoded data removed]"
    }
   },
   "cell_type": "markdown",
   "id": "40780a6a",
   "metadata": {},
   "source": [
    "![image.png](attachment:image.png)"
   ]
  },
  {
   "cell_type": "code",
   "execution_count": 64,
   "id": "23007351",
   "metadata": {},
   "outputs": [
    {
     "data": {
      "text/plain": [
       "array([[        0,         1,         2,         3],\n",
       "       [        1,      1193,         5, 978300760],\n",
       "       [        1,       661,         3, 978302109],\n",
       "       ...,\n",
       "       [     6040,       562,         5, 956704746],\n",
       "       [     6040,      1096,         4, 956715648],\n",
       "       [     6040,      1097,         4, 956715569]], dtype=int64)"
      ]
     },
     "execution_count": 64,
     "metadata": {},
     "output_type": "execute_result"
    }
   ],
   "source": [
    "movie_data=np.loadtxt(\"./data/ratings2.dat\", delimiter=\",\",dtype=\"int64\")\n",
    "movie_data"
   ]
  },
  {
   "cell_type": "code",
   "execution_count": 65,
   "id": "d32dd280",
   "metadata": {},
   "outputs": [
    {
     "data": {
      "text/plain": [
       "(1000210, 4)"
      ]
     },
     "execution_count": 65,
     "metadata": {},
     "output_type": "execute_result"
    }
   ],
   "source": [
    "# 전체 데이터 수 확인\n",
    "movie_data.shape"
   ]
  },
  {
   "cell_type": "code",
   "execution_count": 66,
   "id": "6d6429dd",
   "metadata": {},
   "outputs": [
    {
     "data": {
      "text/plain": [
       "array([[        1,      1193,         5, 978300760],\n",
       "       [        1,       661,         3, 978302109],\n",
       "       [        1,       914,         3, 978301968],\n",
       "       ...,\n",
       "       [     6040,       562,         5, 956704746],\n",
       "       [     6040,      1096,         4, 956715648],\n",
       "       [     6040,      1097,         4, 956715569]], dtype=int64)"
      ]
     },
     "execution_count": 66,
     "metadata": {},
     "output_type": "execute_result"
    }
   ],
   "source": [
    "# 0번째 행 제거\n",
    "movie_data=movie_data[1:,:]\n",
    "movie_data"
   ]
  },
  {
   "cell_type": "code",
   "execution_count": 68,
   "id": "2bb38b3f",
   "metadata": {},
   "outputs": [
    {
     "data": {
      "text/plain": [
       "3.581564453029317"
      ]
     },
     "execution_count": 68,
     "metadata": {},
     "output_type": "execute_result"
    }
   ],
   "source": [
    "# 1. 전체 영화의 평점 평균을 계산\n",
    "rate=movie_data[:,2]\n",
    "rate.mean()"
   ]
  },
  {
   "cell_type": "code",
   "execution_count": 70,
   "id": "9bff052a",
   "metadata": {},
   "outputs": [
    {
     "data": {
      "text/plain": [
       "array([1, 2, 3, 4, 5], dtype=int64)"
      ]
     },
     "execution_count": 70,
     "metadata": {},
     "output_type": "execute_result"
    }
   ],
   "source": [
    "# 2. 전체 영화에서 각 평점별로 갯수를 파악해보자\n",
    "np.unique(movie_data[:,2])"
   ]
  },
  {
   "cell_type": "code",
   "execution_count": 71,
   "id": "7f2348db",
   "metadata": {},
   "outputs": [
    {
     "data": {
      "text/plain": [
       "array([     0,  56174, 107557, 261197, 348971, 226310], dtype=int64)"
      ]
     },
     "execution_count": 71,
     "metadata": {},
     "output_type": "execute_result"
    }
   ],
   "source": [
    "np.bincount(movie_data[:,2])"
   ]
  },
  {
   "cell_type": "code",
   "execution_count": 84,
   "id": "60eea0a9",
   "metadata": {},
   "outputs": [
    {
     "data": {
      "text/plain": [
       "(3706,)"
      ]
     },
     "metadata": {},
     "output_type": "display_data"
    },
    {
     "data": {
      "text/plain": [
       "[4.146846413095811,\n",
       " 3.20114122681883,\n",
       " 3.01673640167364,\n",
       " 2.7294117647058824,\n",
       " 3.0067567567567566,\n",
       " 3.8787234042553194,\n",
       " 3.410480349344978,\n",
       " 3.014705882352941,\n",
       " 2.656862745098039,\n",
       " 3.5405405405405403,\n",
       " 3.7938044530493706,\n",
       " 2.3625,\n",
       " 3.2626262626262625,\n",
       " 3.542483660130719,\n",
       " 2.458904109589041,\n",
       " 3.7932551319648096,\n",
       " 4.027544910179641,\n",
       " 3.337579617834395,\n",
       " 2.480719794344473,\n",
       " 2.5375,\n",
       " 3.6238938053097347,\n",
       " 3.3492063492063493,\n",
       " 2.857142857142857,\n",
       " 3.1794871794871793,\n",
       " 3.6510204081632653,\n",
       " 3.53,\n",
       " 2.9344262295081966,\n",
       " 4.055865921787709,\n",
       " 4.062034739454094,\n",
       " 3.6486486486486487,\n",
       " 3.1134751773049647,\n",
       " 3.945731303772336,\n",
       " 3.0,\n",
       " 3.8914905768132497,\n",
       " 3.3142857142857145,\n",
       " 3.9579741379310347,\n",
       " 3.5,\n",
       " 2.8214285714285716,\n",
       " 3.6233480176211454,\n",
       " 3.933333333333333,\n",
       " 3.958677685950413,\n",
       " 2.8687782805429864,\n",
       " 3.4457831325301207,\n",
       " 2.787781350482315,\n",
       " 3.4246323529411766,\n",
       " 3.108433734939759,\n",
       " 4.106420404573439,\n",
       " 2.9764397905759163,\n",
       " 3.740740740740741,\n",
       " 4.517106001121705,\n",
       " 3.640371229698376,\n",
       " 4.75,\n",
       " 2.5609756097560976,\n",
       " 3.066666666666667,\n",
       " 2.0,\n",
       " 3.404040404040404,\n",
       " 4.093812375249501,\n",
       " 2.75,\n",
       " 3.212885154061625,\n",
       " 3.0,\n",
       " 3.6968576709796674,\n",
       " 2.855855855855856,\n",
       " 2.2658227848101267,\n",
       " 2.062937062937063,\n",
       " 1.6701030927835052,\n",
       " 3.25,\n",
       " 3.45,\n",
       " 3.6551724137931036,\n",
       " 3.1564551422319473,\n",
       " 2.1041666666666665,\n",
       " 3.6344086021505375,\n",
       " 3.8169642857142856,\n",
       " 2.975,\n",
       " 1.9166666666666667,\n",
       " 2.853932584269663,\n",
       " 3.764705882352941,\n",
       " 3.26,\n",
       " 2.6052631578947367,\n",
       " 3.826923076923077,\n",
       " 3.1626506024096384,\n",
       " 3.8764044943820224,\n",
       " 3.696969696969697,\n",
       " 3.0952380952380953,\n",
       " 3.402061855670103,\n",
       " 3.3940677966101696,\n",
       " 2.210526315789474,\n",
       " 2.9427083333333335,\n",
       " 3.074235807860262,\n",
       " 3.6666666666666665,\n",
       " 2.340909090909091,\n",
       " 2.235955056179775,\n",
       " 3.7252747252747254,\n",
       " 2.876175548589342,\n",
       " 3.923076923076923,\n",
       " 3.75,\n",
       " 2.0,\n",
       " 3.46,\n",
       " 3.0625,\n",
       " 3.869565217391304,\n",
       " 1.8166666666666667,\n",
       " 3.212121212121212,\n",
       " 3.526392961876833,\n",
       " 3.2325581395348837,\n",
       " 3.5833333333333335,\n",
       " 3.1484375,\n",
       " 2.857142857142857,\n",
       " 4.234957020057307,\n",
       " 4.183870967741935,\n",
       " 3.443859649122807,\n",
       " 2.981132075471698,\n",
       " 3.090909090909091,\n",
       " 4.097560975609756,\n",
       " 3.632911392405063,\n",
       " 3.073529411764706,\n",
       " 2.4615384615384617,\n",
       " 2.6666666666666665,\n",
       " 4.054054054054054,\n",
       " 2.768041237113402,\n",
       " 3.869565217391304,\n",
       " 3.2142857142857144,\n",
       " 3.8333333333333335,\n",
       " 1.9898989898989898,\n",
       " 1.0,\n",
       " 4.333333333333333,\n",
       " 3.3076923076923075,\n",
       " 4.0,\n",
       " 3.0625,\n",
       " 2.4945054945054945,\n",
       " 1.0,\n",
       " 4.0,\n",
       " 2.81203007518797,\n",
       " 3.25,\n",
       " 3.0,\n",
       " 2.5,\n",
       " 4.0,\n",
       " 3.1654676258992804,\n",
       " 3.5498533724340176,\n",
       " 1.0,\n",
       " 3.392609699769053,\n",
       " 3.2955801104972378,\n",
       " 2.888888888888889,\n",
       " 3.541436464088398,\n",
       " 2.782608695652174,\n",
       " 3.7872340425531914,\n",
       " 4.073541167066347,\n",
       " 3.588447653429603,\n",
       " 3.0,\n",
       " 2.642213642213642,\n",
       " 3.7261904761904763,\n",
       " 3.413793103448276,\n",
       " 3.5606060606060606,\n",
       " 2.732620320855615,\n",
       " 2.9806949806949805,\n",
       " 3.2844827586206895,\n",
       " 2.2389380530973453,\n",
       " 3.723684210526316,\n",
       " 4.063136456211812,\n",
       " 3.4574074074074073,\n",
       " 3.5672823218997363,\n",
       " 3.561212121212121,\n",
       " 2.459016393442623,\n",
       " 3.6,\n",
       " 2.9502762430939224,\n",
       " 2.017699115044248,\n",
       " 3.146417445482866,\n",
       " 3.5698924731182795,\n",
       " 2.576419213973799,\n",
       " 2.3085106382978724,\n",
       " 2.308641975308642,\n",
       " 3.477272727272727,\n",
       " 3.9170731707317072,\n",
       " 2.7338129496402876,\n",
       " 3.473684210526316,\n",
       " 2.2083333333333335,\n",
       " 3.5476718403547673,\n",
       " 1.6129032258064515,\n",
       " 3.142857142857143,\n",
       " 3.4827586206896552,\n",
       " 3.3461538461538463,\n",
       " 2.869947275922671,\n",
       " 2.7630331753554502,\n",
       " 3.238095238095238,\n",
       " 3.221052631578947,\n",
       " 3.4,\n",
       " 3.75,\n",
       " 2.466666666666667,\n",
       " 3.0,\n",
       " 2.0506912442396312,\n",
       " 3.755868544600939,\n",
       " 2.841463414634146,\n",
       " 2.8236363636363637,\n",
       " 3.0588235294117645,\n",
       " 3.2958677685950413,\n",
       " 3.8119658119658117,\n",
       " 2.4166666666666665,\n",
       " 2.6363636363636362,\n",
       " 2.5,\n",
       " 3.0541871921182264,\n",
       " 2.9211822660098523,\n",
       " 3.611764705882353,\n",
       " 3.6707317073170733,\n",
       " 3.132420091324201,\n",
       " 2.6313364055299537,\n",
       " 2.4615384615384617,\n",
       " 3.1463414634146343,\n",
       " 3.5588235294117645,\n",
       " 1.9285714285714286,\n",
       " 4.056910569105691,\n",
       " 4.25,\n",
       " 3.80625,\n",
       " 3.183098591549296,\n",
       " 2.625,\n",
       " 3.128205128205128,\n",
       " 3.1818181818181817,\n",
       " 1.8214285714285714,\n",
       " 3.547112462006079,\n",
       " 3.946883852691218,\n",
       " 3.3911917098445596,\n",
       " 3.173228346456693,\n",
       " 2.0,\n",
       " 2.6744186046511627,\n",
       " 2.1538461538461537,\n",
       " 3.5,\n",
       " 3.4527220630372493,\n",
       " 3.1924242424242424,\n",
       " 4.07514450867052,\n",
       " 3.6127659574468085,\n",
       " 2.2244897959183674,\n",
       " 3.696871628910464,\n",
       " 3.303680981595092,\n",
       " 2.972762645914397,\n",
       " 2.8125,\n",
       " 2.875,\n",
       " 2.7111111111111112,\n",
       " 3.310344827586207,\n",
       " 3.5,\n",
       " 2.1,\n",
       " 1.9,\n",
       " 3.0,\n",
       " 4.18854748603352,\n",
       " 3.8658280922431865,\n",
       " 2.9130434782608696,\n",
       " 3.7586206896551726,\n",
       " 2.6,\n",
       " 3.2777777777777777,\n",
       " 3.2697547683923704,\n",
       " 3.524390243902439,\n",
       " 3.0789473684210527,\n",
       " 2.0606060606060606,\n",
       " 2.6513761467889907,\n",
       " 3.2280701754385963,\n",
       " 2.423611111111111,\n",
       " 2.843137254901961,\n",
       " 4.453694416583082,\n",
       " 3.6491228070175437,\n",
       " 3.872093023255814,\n",
       " 3.857142857142857,\n",
       " 3.2,\n",
       " 3.9326424870466323,\n",
       " 3.425531914893617,\n",
       " 2.7285714285714286,\n",
       " 3.3703703703703702,\n",
       " 3.5272727272727273,\n",
       " 3.037974683544304,\n",
       " 3.142857142857143,\n",
       " 3.7258485639686683,\n",
       " 2.8975409836065573,\n",
       " 2.375,\n",
       " 2.5375,\n",
       " 2.692982456140351,\n",
       " 3.1823529411764704,\n",
       " 2.75,\n",
       " 3.717391304347826,\n",
       " 3.5707547169811322,\n",
       " 3.648068669527897,\n",
       " 3.2232558139534886,\n",
       " 3.0,\n",
       " 3.0,\n",
       " 2.9047619047619047,\n",
       " 3.144285714285714,\n",
       " 3.3417721518987342,\n",
       " 3.9166666666666665,\n",
       " 2.2083333333333335,\n",
       " 3.2687585266030013,\n",
       " 4.106175514626218,\n",
       " 3.0952380952380953,\n",
       " 2.7586206896551726,\n",
       " 4.278212805158913,\n",
       " 3.107142857142857,\n",
       " 3.9130434782608696,\n",
       " 3.664335664335664,\n",
       " 3.7588652482269502,\n",
       " 3.302325581395349,\n",
       " 3.813953488372093,\n",
       " 2.9760765550239237,\n",
       " 3.142857142857143,\n",
       " 2.5039370078740157,\n",
       " 4.227544910179641,\n",
       " 4.098765432098766,\n",
       " 3.9653465346534653,\n",
       " 3.6875,\n",
       " 2.6666666666666665,\n",
       " 3.0,\n",
       " 2.4375,\n",
       " 2.888888888888889,\n",
       " 3.85,\n",
       " 2.65359477124183,\n",
       " 3.490143369175627,\n",
       " 3.1918876755070205,\n",
       " 4.554557700942973,\n",
       " 3.8937728937728937,\n",
       " 3.40625,\n",
       " 3.7540983606557377,\n",
       " 3.712918660287081,\n",
       " 3.9696969696969697,\n",
       " 2.4489795918367347,\n",
       " 4.344262295081967,\n",
       " 2.6145251396648046,\n",
       " 3.111111111111111,\n",
       " 3.3767676767676766,\n",
       " 2.7315436241610738,\n",
       " 3.0952380952380953,\n",
       " 2.546583850931677,\n",
       " 3.502439024390244,\n",
       " 3.8596491228070176,\n",
       " 3.4878048780487805,\n",
       " 2.6842105263157894,\n",
       " 3.8412698412698414,\n",
       " 2.8823529411764706,\n",
       " 3.49925705794948,\n",
       " 3.2738095238095237,\n",
       " 3.838709677419355,\n",
       " 3.6776061776061777,\n",
       " 2.4285714285714284,\n",
       " 3.1488250652741514,\n",
       " 3.8059701492537314,\n",
       " 3.525,\n",
       " 3.1739130434782608,\n",
       " 3.698901098901099,\n",
       " 3.7261567516525025,\n",
       " 3.392233009708738,\n",
       " 3.342412451361868,\n",
       " 3.134453781512605,\n",
       " 3.4455040871934606,\n",
       " 3.1791044776119404,\n",
       " 2.352059925093633,\n",
       " 4.087967183226983,\n",
       " 3.7437145174371453,\n",
       " 3.1702127659574466,\n",
       " 3.210526315789474,\n",
       " 2.4960629921259843,\n",
       " 3.421641791044776,\n",
       " 3.3640167364016738,\n",
       " 4.258064516129032,\n",
       " 3.8608385370205176,\n",
       " 3.1690140845070425,\n",
       " 2.8207171314741037,\n",
       " 3.279050042408821,\n",
       " 3.5236907730673317,\n",
       " 3.310344827586207,\n",
       " 2.8980582524271843,\n",
       " 3.1792452830188678,\n",
       " 3.1542056074766354,\n",
       " 3.856589147286822,\n",
       " 2.1147540983606556,\n",
       " 3.2941176470588234,\n",
       " 3.2457142857142856,\n",
       " 3.5654545454545454,\n",
       " 2.892857142857143,\n",
       " 2.889908256880734,\n",
       " 3.6342857142857143,\n",
       " 3.2606635071090047,\n",
       " 2.9338235294117645,\n",
       " 3.2666666666666666,\n",
       " 2.9,\n",
       " 3.4,\n",
       " 2.6,\n",
       " 2.7450980392156863,\n",
       " 3.6391752577319587,\n",
       " 3.7,\n",
       " 3.542372881355932,\n",
       " 3.275,\n",
       " 2.8,\n",
       " 1.8571428571428572,\n",
       " 3.6666666666666665,\n",
       " 4.0,\n",
       " 2.4166666666666665,\n",
       " 4.0,\n",
       " 3.0,\n",
       " 3.0,\n",
       " 3.75,\n",
       " 2.123152709359606,\n",
       " 3.625,\n",
       " 2.911917098445596,\n",
       " 3.3194444444444446,\n",
       " 3.020408163265306,\n",
       " 2.9071274298056156,\n",
       " 2.6153846153846154,\n",
       " 3.559322033898305,\n",
       " 2.5306122448979593,\n",
       " 2.6555555555555554,\n",
       " 2.4804469273743015,\n",
       " 2.4269662921348316,\n",
       " 3.485576923076923,\n",
       " 2.5172413793103448,\n",
       " 2.1923076923076925,\n",
       " 2.5056818181818183,\n",
       " 3.3617021276595747,\n",
       " 3.1228070175438596,\n",
       " 3.1085972850678734,\n",
       " 2.6,\n",
       " 3.6095238095238096,\n",
       " 3.0817843866171004,\n",
       " 2.3674698795180724,\n",
       " 3.931558935361217,\n",
       " 2.379679144385027,\n",
       " 2.4166666666666665,\n",
       " 3.6910569105691056,\n",
       " 2.579081632653061,\n",
       " 2.7916666666666665,\n",
       " 3.0845481049562684,\n",
       " 2.6060037523452158,\n",
       " 2.652482269503546,\n",
       " 2.046875,\n",
       " 2.625,\n",
       " 4.5,\n",
       " 3.811181434599156,\n",
       " 3.6936236391912907,\n",
       " 2.9921875,\n",
       " 3.3870967741935485,\n",
       " 2.2962962962962963,\n",
       " 2.61,\n",
       " 4.082677165354331,\n",
       " 2.4838709677419355,\n",
       " 3.6008771929824563,\n",
       " 3.6619718309859155,\n",
       " 3.280701754385965,\n",
       " 3.150943396226415,\n",
       " 3.289473684210526,\n",
       " 3.2238805970149254,\n",
       " 3.5473300970873787,\n",
       " 2.5894736842105264,\n",
       " 4.0,\n",
       " 4.103258145363409,\n",
       " 3.2758620689655173,\n",
       " 2.832167832167832,\n",
       " 2.263157894736842,\n",
       " 3.2790697674418605,\n",
       " 2.642857142857143,\n",
       " 2.74468085106383,\n",
       " 2.7824074074074074,\n",
       " 3.3142857142857145,\n",
       " 2.7958115183246073,\n",
       " 3.2037037037037037,\n",
       " 3.2714285714285714,\n",
       " 2.9565217391304346,\n",
       " 1.736842105263158,\n",
       " 3.631051752921536,\n",
       " 2.7045454545454546,\n",
       " 2.225165562913907,\n",
       " 3.825102880658436,\n",
       " 3.9006410256410255,\n",
       " 2.6857142857142855,\n",
       " 3.466666666666667,\n",
       " 2.4583333333333335,\n",
       " 2.7969924812030076,\n",
       " 3.7638473053892216,\n",
       " 3.380952380952381,\n",
       " 3.528409090909091,\n",
       " 3.7432432432432434,\n",
       " 2.6551724137931036,\n",
       " 2.508,\n",
       " 2.8125,\n",
       " 2.6129032258064515,\n",
       " 3.3846153846153846,\n",
       " 2.4742268041237114,\n",
       " 3.324324324324324,\n",
       " 3.3160377358490565,\n",
       " 3.719402985074627,\n",
       " 3.6073825503355703,\n",
       " 3.3461538461538463,\n",
       " 3.380952380952381,\n",
       " 3.2162162162162162,\n",
       " 4.0,\n",
       " 2.74468085106383,\n",
       " 2.7551020408163267,\n",
       " 3.420047732696897,\n",
       " 3.606382978723404,\n",
       " 1.935483870967742,\n",
       " 3.6923076923076925,\n",
       " 2.955056179775281,\n",
       " 2.4927536231884058,\n",
       " 3.491228070175439,\n",
       " 3.522727272727273,\n",
       " 3.894830659536542,\n",
       " 3.674342105263158,\n",
       " 2.4047619047619047,\n",
       " 3.1052631578947367,\n",
       " 2.8715083798882683,\n",
       " 3.1194029850746268,\n",
       " 3.531791907514451,\n",
       " 3.917777777777778,\n",
       " 2.870967741935484,\n",
       " 3.175392670157068,\n",
       " 2.4563758389261743,\n",
       " 1.9405940594059405,\n",
       " 2.93048128342246,\n",
       " 3.3675213675213675,\n",
       " 3.566265060240964,\n",
       " 3.658119658119658,\n",
       " 3.615546218487395,\n",
       " 3.1904761904761907,\n",
       " 2.5,\n",
       " 4.510416666666667,\n",
       " 2.514705882352941,\n",
       " 3.977777777777778,\n",
       " 3.5,\n",
       " 3.769230769230769,\n",
       " 3.0488431876606685,\n",
       " 2.7339901477832513,\n",
       " 3.835664335664336,\n",
       " 3.8172757475083055,\n",
       " 3.1636363636363636,\n",
       " 3.077294685990338,\n",
       " 3.8222222222222224,\n",
       " 3.760649087221095,\n",
       " 2.2189349112426036,\n",
       " 4.273333333333333,\n",
       " 2.674757281553398,\n",
       " 3.3841642228739004,\n",
       " 2.643410852713178,\n",
       " 2.0,\n",
       " 1.8742857142857143,\n",
       " 2.879032258064516,\n",
       " 2.5474452554744524,\n",
       " 3.821656050955414,\n",
       " 3.0168539325842696,\n",
       " 3.717871485943775,\n",
       " 3.2400756143667295,\n",
       " 3.8734177215189876,\n",
       " 2.6153846153846154,\n",
       " 3.9285714285714284,\n",
       " 4.2272727272727275,\n",
       " 4.5,\n",
       " 2.7037037037037037,\n",
       " 3.0,\n",
       " 3.625,\n",
       " 3.6153846153846154,\n",
       " 3.799163179916318,\n",
       " 3.235294117647059,\n",
       " 2.2666666666666666,\n",
       " 3.1311475409836067,\n",
       " 2.923076923076923,\n",
       " 3.5714285714285716,\n",
       " 3.857142857142857,\n",
       " 2.93,\n",
       " 3.217391304347826,\n",
       " 3.588235294117647,\n",
       " 3.0,\n",
       " 3.5238095238095237,\n",
       " 3.4457142857142857,\n",
       " 2.822429906542056,\n",
       " 3.0,\n",
       " 2.963636363636364,\n",
       " 4.5,\n",
       " 2.0,\n",
       " 3.2419354838709675,\n",
       " 4.049645390070922,\n",
       " 3.0,\n",
       " 3.6785714285714284,\n",
       " 4.0,\n",
       " 2.9066985645933014,\n",
       " 3.1348148148148147,\n",
       " 3.49644128113879,\n",
       " 3.788304959289415,\n",
       " 4.058512646281616,\n",
       " 3.9152308752584424,\n",
       " 2.0,\n",
       " 3.6009783368273935,\n",
       " 4.3518231186966645,\n",
       " 3.8453473132372213,\n",
       " 3.8858490566037736,\n",
       " 3.751004016064257,\n",
       " 3.641491395793499,\n",
       " 4.25,\n",
       " 4.087121212121212,\n",
       " 3.0,\n",
       " 3.0,\n",
       " 4.121951219512195,\n",
       " 3.0,\n",
       " 3.314159292035398,\n",
       " 2.225806451612903,\n",
       " 2.0,\n",
       " 4.254675686430561,\n",
       " 2.7761194029850746,\n",
       " 3.546925566343042,\n",
       " 2.4722222222222223,\n",
       " 2.4050632911392404,\n",
       " 3.6341463414634148,\n",
       " 2.6666666666666665,\n",
       " 4.044776119402985,\n",
       " 3.352517985611511,\n",
       " 3.6470588235294117,\n",
       " 2.111111111111111,\n",
       " 2.59375,\n",
       " 3.7142857142857144,\n",
       " 3.0,\n",
       " 4.0,\n",
       " 2.263157894736842,\n",
       " 3.603305785123967,\n",
       " 3.8969072164948453,\n",
       " 2.857142857142857,\n",
       " 2.08,\n",
       " 4.0,\n",
       " 3.6,\n",
       " 1.6666666666666667,\n",
       " 3.6233766233766236,\n",
       " 2.5428571428571427,\n",
       " 3.210526315789474,\n",
       " 2.6153846153846154,\n",
       " 2.676056338028169,\n",
       " 1.0,\n",
       " 2.0,\n",
       " 2.0,\n",
       " 2.0,\n",
       " 3.6,\n",
       " 3.5532879818594103,\n",
       " 3.432874918140144,\n",
       " 4.1875,\n",
       " 3.4719101123595504,\n",
       " 2.0,\n",
       " 2.888888888888889,\n",
       " 3.2254901960784315,\n",
       " 1.0,\n",
       " 2.5641025641025643,\n",
       " 3.0,\n",
       " 3.0,\n",
       " 3.72,\n",
       " 1.5,\n",
       " 3.4647619047619047,\n",
       " 2.984375,\n",
       " 3.4166666666666665,\n",
       " 3.0,\n",
       " 3.657142857142857,\n",
       " 3.3333333333333335,\n",
       " 2.0425531914893615,\n",
       " 4.404255319148936,\n",
       " 4.173913043478261,\n",
       " 4.410714285714286,\n",
       " 3.6798245614035086,\n",
       " 2.0,\n",
       " 2.619893428063943,\n",
       " 3.0155440414507773,\n",
       " 4.245098039215686,\n",
       " 3.5,\n",
       " 3.359375,\n",
       " 3.933333333333333,\n",
       " 3.5,\n",
       " 1.0,\n",
       " 3.3,\n",
       " 3.0,\n",
       " 2.276995305164319,\n",
       " 2.0,\n",
       " 3.0991735537190084,\n",
       " 2.1132075471698113,\n",
       " 2.645390070921986,\n",
       " 3.1777777777777776,\n",
       " 3.25,\n",
       " 2.552941176470588,\n",
       " 2.2,\n",
       " 3.3241379310344827,\n",
       " 4.0,\n",
       " 3.6666666666666665,\n",
       " 1.6,\n",
       " 2.3095238095238093,\n",
       " 3.8333333333333335,\n",
       " 2.5,\n",
       " 3.0872727272727274,\n",
       " 3.434462444771723,\n",
       " 3.0416666666666665,\n",
       " 2.3333333333333335,\n",
       " 2.5,\n",
       " 3.5,\n",
       " 3.888888888888889,\n",
       " 3.6153846153846154,\n",
       " 2.6785714285714284,\n",
       " 4.0,\n",
       " 3.484848484848485,\n",
       " 2.8619246861924688,\n",
       " 4.426940639269406,\n",
       " 3.814814814814815,\n",
       " 3.0865384615384617,\n",
       " 2.791208791208791,\n",
       " 3.0,\n",
       " 3.7649769585253456,\n",
       " 3.6666666666666665,\n",
       " 1.0,\n",
       " 2.851063829787234,\n",
       " 2.8333333333333335,\n",
       " 3.723134328358209,\n",
       " 3.0,\n",
       " 3.3564356435643563,\n",
       " 3.1738738738738737,\n",
       " 2.03,\n",
       " 4.089171974522293,\n",
       " 2.528735632183908,\n",
       " 2.5700934579439254,\n",
       " 2.0,\n",
       " 4.52054794520548,\n",
       " 4.0,\n",
       " 2.0,\n",
       " 3.1510791366906474,\n",
       " 2.75,\n",
       " 4.4498902706656915,\n",
       " 3.533333333333333,\n",
       " 3.15625,\n",
       " 2.923076923076923,\n",
       " 3.7777777777777777,\n",
       " 3.0,\n",
       " 3.75,\n",
       " 4.0,\n",
       " 4.101694915254237,\n",
       " 3.515151515151515,\n",
       " 2.7886178861788617,\n",
       " 2.184563758389262,\n",
       " 3.0,\n",
       " 3.27027027027027,\n",
       " 2.6315789473684212,\n",
       " 3.57,\n",
       " 3.2083333333333335,\n",
       " 3.25,\n",
       " 3.7777777777777777,\n",
       " 4.0,\n",
       " 3.2222222222222223,\n",
       " 3.0,\n",
       " 3.9600532623169107,\n",
       " 2.6923076923076925,\n",
       " 3.5104046242774567,\n",
       " 3.378640776699029,\n",
       " 2.5517241379310347,\n",
       " 3.223076923076923,\n",
       " 2.72987012987013,\n",
       " 3.4784313725490197,\n",
       " 3.123913043478261,\n",
       " 5.0,\n",
       " 2.9957805907172994,\n",
       " 3.0,\n",
       " 3.0,\n",
       " 3.5,\n",
       " 4.0,\n",
       " 2.6,\n",
       " 3.3333333333333335,\n",
       " 2.7058823529411766,\n",
       " 3.3491124260355027,\n",
       " 4.082539682539682,\n",
       " 3.0991735537190084,\n",
       " 3.496487119437939,\n",
       " 3.6842105263157894,\n",
       " 2.9785407725321886,\n",
       " 3.5901162790697674,\n",
       " 3.1666666666666665,\n",
       " 3.0,\n",
       " 3.395348837209302,\n",
       " 2.5714285714285716,\n",
       " 1.4666666666666666,\n",
       " 3.888888888888889,\n",
       " 2.5106382978723403,\n",
       " 3.0,\n",
       " 2.0,\n",
       " 2.560846560846561,\n",
       " 3.25,\n",
       " 2.0,\n",
       " 3.25,\n",
       " 3.9285714285714284,\n",
       " 1.0,\n",
       " 3.0,\n",
       " 2.9074074074074074,\n",
       " 2.2900763358778624,\n",
       " 2.952542372881356,\n",
       " 3.85,\n",
       " 3.478723404255319,\n",
       " 2.1794871794871793,\n",
       " 2.0,\n",
       " 3.1262135922330097,\n",
       " 2.654008438818565,\n",
       " 3.477064220183486,\n",
       " 3.8802395209580838,\n",
       " 2.214814814814815,\n",
       " 2.56,\n",
       " 3.4,\n",
       " 2.589403973509934,\n",
       " 1.0,\n",
       " 3.5714285714285716,\n",
       " 3.736842105263158,\n",
       " 1.8571428571428572,\n",
       " 3.4358974358974357,\n",
       " 2.5107632093933465,\n",
       " 3.6666666666666665,\n",
       " 3.4960629921259843,\n",
       " 3.221138211382114,\n",
       " 4.0,\n",
       " 3.625,\n",
       " 4.524966261808367,\n",
       " 2.0,\n",
       " 3.6,\n",
       " 3.5128205128205128,\n",
       " 3.6451612903225805,\n",
       " 3.5,\n",
       " 3.5833333333333335,\n",
       " 2.0,\n",
       " 3.8234265734265733,\n",
       " 2.2083333333333335,\n",
       " 3.0,\n",
       " 3.0952380952380953,\n",
       " 2.183673469387755,\n",
       " 3.0,\n",
       " 3.125,\n",
       " 3.3863636363636362,\n",
       " 2.857142857142857,\n",
       " 3.2916666666666665,\n",
       " 4.0,\n",
       " 2.827004219409283,\n",
       " 2.200617283950617,\n",
       " 2.6233766233766236,\n",
       " 2.711864406779661,\n",
       " 3.0,\n",
       " 2.5813953488372094,\n",
       " 2.9423076923076925,\n",
       " 2.5,\n",
       " 2.2083333333333335,\n",
       " 2.5,\n",
       " 2.360655737704918,\n",
       " 3.861842105263158,\n",
       " 3.6956521739130435,\n",
       " 1.0,\n",
       " 3.4313725490196076,\n",
       " 3.7551020408163267,\n",
       " 4.3006872852233675,\n",
       " 4.2836218375499335,\n",
       " 3.8513119533527695,\n",
       " 3.6436781609195403,\n",
       " 3.908284023668639,\n",
       " 4.27292817679558,\n",
       " 4.476190476190476,\n",
       " 4.280748663101604,\n",
       " 4.096256684491979,\n",
       " 3.9238095238095236,\n",
       " 4.38403041825095,\n",
       " 4.127098321342926,\n",
       " 4.300480769230769,\n",
       " 4.183006535947713,\n",
       " 4.412822049131217,\n",
       " 4.395973154362416,\n",
       " 4.154088050314465,\n",
       " 3.9643835616438357,\n",
       " 4.216470588235294,\n",
       " 3.675324675324675,\n",
       " 3.7936507936507935,\n",
       " 4.247962747380675,\n",
       " 3.9974048442906573,\n",
       " 3.8940397350993377,\n",
       " 4.491489361702127,\n",
       " 4.388888888888889,\n",
       " 4.068764568764569,\n",
       " 3.25,\n",
       " 4.255583126550868,\n",
       " 3.9761904761904763,\n",
       " 4.204663212435233,\n",
       " 3.78494623655914,\n",
       " 4.29438202247191,\n",
       " 3.912621359223301,\n",
       " 3.9523809523809526,\n",
       " 4.10158013544018,\n",
       " 3.6578947368421053,\n",
       " 3.6338028169014085,\n",
       " 4.075757575757576,\n",
       " 3.75,\n",
       " 3.620320855614973,\n",
       " 3.1818181818181817,\n",
       " 3.9735449735449735,\n",
       " 3.704761904761905,\n",
       " 4.2020547945205475,\n",
       " 3.982456140350877,\n",
       " 3.7938144329896906,\n",
       " 4.147410358565737,\n",
       " 3.8509316770186337,\n",
       " 4.1063829787234045,\n",
       " 3.753846153846154,\n",
       " 3.9767441860465116,\n",
       " 4.239726027397261,\n",
       " 4.249370277078086,\n",
       " 3.6022304832713754,\n",
       " 4.299039780521262,\n",
       " 4.240208877284595,\n",
       " 4.169491525423729,\n",
       " 3.55,\n",
       " 3.2432432432432434,\n",
       " 3.3846153846153846,\n",
       " 3.7413793103448274,\n",
       " 3.45,\n",
       " 3.4782608695652173,\n",
       " 3.5454545454545454,\n",
       " 3.574074074074074,\n",
       " 3.392156862745098,\n",
       " 4.075098814229249,\n",
       " 4.0,\n",
       " 3.260869565217391,\n",
       " 3.6713286713286712,\n",
       " 4.251655629139073,\n",
       " 3.4054054054054053,\n",
       " 4.047970479704797,\n",
       " 3.1666666666666665,\n",
       " 3.9146341463414633,\n",
       " 3.75,\n",
       " 1.5,\n",
       " 3.5714285714285716,\n",
       " 2.0,\n",
       " 3.94,\n",
       " 2.8,\n",
       " 2.75,\n",
       " 3.6790123456790123,\n",
       " 2.6666666666666665,\n",
       " 3.75,\n",
       " 3.603448275862069,\n",
       " 2.9,\n",
       " 3.3768115942028984,\n",
       " 5.0,\n",
       " 2.574074074074074,\n",
       " 3.523529411764706,\n",
       " 2.6,\n",
       " 3.111111111111111,\n",
       " 4.095555555555555,\n",
       " 2.90625,\n",
       " 3.357142857142857,\n",
       " 3.010752688172043,\n",
       " 3.2832167832167833,\n",
       " 3.05,\n",
       " 4.25,\n",
       " 2.9421487603305785,\n",
       " 2.6633663366336635,\n",
       " 2.3732394366197185,\n",
       " 3.08974358974359,\n",
       " 2.978448275862069,\n",
       " 3.329896907216495,\n",
       " 3.185567010309278,\n",
       " 3.268595041322314,\n",
       " 2.725925925925926,\n",
       " 3.7043189368770766,\n",
       " 3.565891472868217,\n",
       " 3.4044117647058822,\n",
       " 3.3461538461538463,\n",
       " 3.217948717948718,\n",
       " 3.5869565217391304,\n",
       " 3.252032520325203,\n",
       " 3.7026086956521738,\n",
       " 3.239795918367347,\n",
       " 2.769230769230769,\n",
       " 3.755632582322357,\n",
       " 3.986425339366516,\n",
       " 3.246031746031746,\n",
       " 3.6109215017064846,\n",
       " 3.625,\n",
       " 3.1627906976744184,\n",
       " 3.894164193867458,\n",
       " 3.688380281690141,\n",
       " 3.0773993808049536,\n",
       " 3.479623824451411,\n",
       " 3.697142857142857,\n",
       " 3.4494773519163764,\n",
       " 3.6449704142011834,\n",
       " 3.931972789115646,\n",
       " 4.121848739495798,\n",
       " 2.6601626016260163,\n",
       " 3.272727272727273,\n",
       " 3.6666666666666665,\n",
       " 3.0,\n",
       " 4.037974683544304,\n",
       " 3.481060606060606,\n",
       " 2.8425925925925926,\n",
       " 3.2857142857142856,\n",
       " 4.066666666666666,\n",
       " 3.4838709677419355,\n",
       " 3.328159645232816,\n",
       " 3.8219178082191783,\n",
       " 3.4183673469387754,\n",
       " 2.914285714285714,\n",
       " 3.308641975308642,\n",
       " 2.736842105263158,\n",
       " 3.54,\n",
       " 3.5583941605839415,\n",
       " 3.272727272727273,\n",
       " 3.4008350730688934,\n",
       " 3.94147582697201,\n",
       " 3.550802139037433,\n",
       " 2.5,\n",
       " 3.1538461538461537,\n",
       " 2.8947368421052633,\n",
       " 4.1657142857142855,\n",
       " 3.782608695652174,\n",
       " 3.6857142857142855,\n",
       " ...]"
      ]
     },
     "metadata": {},
     "output_type": "display_data"
    },
    {
     "data": {
      "text/plain": [
       "array([  50,   53,  318,  439,  527,  557,  578,  745,  787,  858,  989,\n",
       "       1148, 1795, 1830, 2019, 2309, 2480, 2503, 2905, 3172, 3233, 3245,\n",
       "       3280, 3382, 3517, 3607, 3656, 3881, 3888], dtype=int64)"
      ]
     },
     "execution_count": 84,
     "metadata": {},
     "output_type": "execute_result"
    }
   ],
   "source": [
    "# 3. 각 영화별 평균 평점을 계산해보고 평점이 4.5이상인 영화만 골라보자\n",
    "# 3-1. 영화 갯수 파악\n",
    "unique_movie_id=np.unique(movie_data[:,1])\n",
    "display(unique_movie_id.shape)\n",
    "# 3-2. 특정 영화의 평균평점 구하기\n",
    "temp=movie_data[movie_data[:,1]==1] # 1번 영화만 추출\n",
    "temp[:,2].mean() # 1번영화의 평점만 추출& 평균구함\n",
    "# 3-3 3076개의 영화별 평균 평점 계산하기\n",
    "movie_mean_list=[] # 빈 리스트 생성\n",
    "for m_id in unique_movie_id: # 고유한 영화 아이디를 기반으로 반복\n",
    "    temp= movie_data[movie_data[:,1]==m_id]\n",
    "    mean_score = temp[:,2].mean()\n",
    "    movie_mean_list.append(mean_score)\n",
    "display(movie_mean_list)\n",
    "# 3-4. 평점이 4.5이상인 영화 추출\n",
    "np_movie_mean_list = np.array(movie_mean_list)\n",
    "unique_movie_id[np_movie_mean_list>=4.5]"
   ]
  },
  {
   "cell_type": "code",
   "execution_count": null,
   "id": "8325dc26",
   "metadata": {},
   "outputs": [],
   "source": []
  },
  {
   "cell_type": "code",
   "execution_count": null,
   "id": "ec2c0a8e",
   "metadata": {},
   "outputs": [],
   "source": []
  },
  {
   "cell_type": "code",
   "execution_count": null,
   "id": "e4d7017a",
   "metadata": {},
   "outputs": [],
   "source": []
  }
 ],
 "metadata": {
  "kernelspec": {
   "display_name": "Python 3 (ipykernel)",
   "language": "python",
   "name": "python3"
  },
  "language_info": {
   "codemirror_mode": {
    "name": "ipython",
    "version": 3
   },
   "file_extension": ".py",
   "mimetype": "text/x-python",
   "name": "python",
   "nbconvert_exporter": "python",
   "pygments_lexer": "ipython3",
   "version": "3.11.5"
  }
 },
 "nbformat": 4,
 "nbformat_minor": 5
}
